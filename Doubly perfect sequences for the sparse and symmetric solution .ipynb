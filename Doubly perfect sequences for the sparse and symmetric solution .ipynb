{
 "cells": [
  {
   "cell_type": "code",
   "execution_count": 20,
   "id": "685b0693",
   "metadata": {},
   "outputs": [],
   "source": [
    "import numpy as np\n",
    "import itertools\n",
    "\n",
    "K.<w> = CyclotomicField(3)\n",
    "F.<f> = CyclotomicField(6)"
   ]
  },
  {
   "cell_type": "markdown",
   "id": "900549e3",
   "metadata": {},
   "source": [
    "In the following both the Chinese remainder isomorphism chinese_rem(a), that takes as input an element $a\\in\\mathbb{Z}_6$ and outputs a tuple $(k, x)\\in\\mathbb{Z}_3\\times \\mathbb{Z}_2$, and its inverse inv_chinese_rem(k,x), that takes as input two numbers $k\\in\\mathbb{Z}_3$ and $x\\in\\mathbb{Z}_2$ and outputs a number $a\\in\\mathbb{Z}_6$, are defined:"
   ]
  },
  {
   "cell_type": "code",
   "execution_count": 2,
   "id": "7b3e2424",
   "metadata": {},
   "outputs": [
    {
     "data": {
      "text/plain": [
       "[2, 0]"
      ]
     },
     "execution_count": 2,
     "metadata": {},
     "output_type": "execute_result"
    }
   ],
   "source": [
    "def chinese_rem(a):\n",
    "    return [mod(a,3), mod(a,2)]\n",
    "\n",
    "# test\n",
    "\n",
    "chinese_rem(2)"
   ]
  },
  {
   "cell_type": "code",
   "execution_count": 3,
   "id": "582e5011",
   "metadata": {},
   "outputs": [
    {
     "data": {
      "text/plain": [
       "2"
      ]
     },
     "execution_count": 3,
     "metadata": {},
     "output_type": "execute_result"
    }
   ],
   "source": [
    "def inv_chinese_rem(k,x):\n",
    "    return mod(4*k + 3*x,6)\n",
    "\n",
    "# test\n",
    "\n",
    "inv_chinese_rem(2,0)"
   ]
  },
  {
   "cell_type": "markdown",
   "id": "5858c1d9",
   "metadata": {},
   "source": [
    "Next define the list of all possible combiantions of two elements $a_1, a_2 \\in \\mathbb{Z}_6$ when factorised by the Chinese remainder isomorphism into two tuples $(k,x)$, $(l,y)$ $\\in \\mathbb{Z}_3 \\times \\mathbb{Z}_2$:"
   ]
  },
  {
   "cell_type": "code",
   "execution_count": 4,
   "id": "8f57cdf5",
   "metadata": {},
   "outputs": [
    {
     "data": {
      "text/plain": [
       "36"
      ]
     },
     "execution_count": 4,
     "metadata": {},
     "output_type": "execute_result"
    }
   ],
   "source": [
    "iteration_list = []\n",
    "for a1 in range(0,6):\n",
    "    for a2 in range(0,6):\n",
    "        k = chinese_rem(a1)[0]\n",
    "        l = chinese_rem(a2)[0]\n",
    "        x = chinese_rem(a1)[1]\n",
    "        y = chinese_rem(a2)[1]\n",
    "        iteration_list.append([k,l,x,y])\n",
    "        \n",
    "# length check\n",
    "                \n",
    "len(iteration_list)"
   ]
  },
  {
   "cell_type": "markdown",
   "id": "e13ed36f",
   "metadata": {},
   "source": [
    "Define the sequence values for the symmetric and the sparse solution as functions that take as input four numbers $k,l,x,y$, where $k,l \\in \\mathbb{Z}_3$ and $x,y \\in \\mathbb{Z}_2$ and ouput the sequence value for these numbers."
   ]
  },
  {
   "cell_type": "code",
   "execution_count": 5,
   "id": "57f0cbe2",
   "metadata": {},
   "outputs": [],
   "source": [
    "def sequence_sym(k,l,x,y):\n",
    "    if (mod(x,2) == 1 and mod(y,2) ==1):\n",
    "        return K(w**mod(2*(k**2 + l**2),3))\n",
    "    else:\n",
    "        return K(w**mod(2*(k**2 + l**2 - (k+l+ mod(x,3)-mod(y,3))**2),3))"
   ]
  },
  {
   "cell_type": "code",
   "execution_count": 6,
   "id": "9a5c3557",
   "metadata": {},
   "outputs": [],
   "source": [
    "def sequence_sparse(k,l,x,y):\n",
    "    if (mod(x,2) == 1 and mod(y,2) ==1):\n",
    "        return K(w**(2*(k**2 + l**2)))\n",
    "    else:\n",
    "        return K(w**(2*(k**2 + l**2 + (l + mod(x,3)-mod(y,3))**2)))\n"
   ]
  },
  {
   "cell_type": "markdown",
   "id": "446b870b",
   "metadata": {},
   "source": [
    "The function sequence_list(seq) takes as input a function that generates a sequence value and outputs the whole sequence as a list:"
   ]
  },
  {
   "cell_type": "code",
   "execution_count": 7,
   "id": "6afcdaa7",
   "metadata": {},
   "outputs": [],
   "source": [
    "def sequence_list(seq):\n",
    "    list_out = []\n",
    "    for values in iteration_list:\n",
    "            list_out.append(seq(values[0], values[1], values[2], values[3]))\n",
    "    return list_out"
   ]
  },
  {
   "cell_type": "code",
   "execution_count": 21,
   "id": "c8bf1861",
   "metadata": {},
   "outputs": [
    {
     "name": "stdout",
     "output_type": "stream",
     "text": [
      "[1, -w - 1, 1, w, 1, 1, 1, w, -w - 1, -w - 1, w, w, 1, -w - 1, -w - 1, 1, w, w, w, -w - 1, -w - 1, 1, 1, -w - 1, 1, -w - 1, w, -w - 1, -w - 1, -w - 1, -w - 1, w, -w - 1, -w - 1, -w - 1, w]\n"
     ]
    }
   ],
   "source": [
    "# test symmetric\n",
    "\n",
    "print(sequence_list(sequence_sym))"
   ]
  },
  {
   "cell_type": "code",
   "execution_count": 22,
   "id": "e04b8bc2",
   "metadata": {},
   "outputs": [
    {
     "name": "stdout",
     "output_type": "stream",
     "text": [
      "[1, -w - 1, w, -w - 1, w, w, w, w, w, -w - 1, 1, w, -w - 1, w, 1, w, 1, 1, -w - 1, -w - 1, -w - 1, 1, w, -w - 1, -w - 1, w, 1, w, 1, 1, w, w, w, -w - 1, 1, w]\n"
     ]
    }
   ],
   "source": [
    "# test sparse\n",
    "\n",
    "print(sequence_list(sequence_sparse))"
   ]
  },
  {
   "cell_type": "markdown",
   "id": "daa2f9ef",
   "metadata": {},
   "source": [
    "The function sequence_abs(seq) takes as input a function that generates sequence values and outputs the absolute value of each sequence value as a list:"
   ]
  },
  {
   "cell_type": "code",
   "execution_count": 10,
   "id": "a223df9e",
   "metadata": {},
   "outputs": [],
   "source": [
    "def sequence_abs(seq):\n",
    "    list_out = []\n",
    "    for values in iteration_list:\n",
    "        list_out.append(seq(values[0], values[1], values[2], values[3])*conjugate(seq(values[0], values[1], values[2], values[3])))\n",
    "    return list_out"
   ]
  },
  {
   "cell_type": "code",
   "execution_count": 23,
   "id": "4372425c",
   "metadata": {},
   "outputs": [
    {
     "name": "stdout",
     "output_type": "stream",
     "text": [
      "[1, 1, 1, 1, 1, 1, 1, 1, 1, 1, 1, 1, 1, 1, 1, 1, 1, 1, 1, 1, 1, 1, 1, 1, 1, 1, 1, 1, 1, 1, 1, 1, 1, 1, 1, 1]\n"
     ]
    }
   ],
   "source": [
    "# test symmetric\n",
    "\n",
    "print(sequence_abs(sequence_sym))"
   ]
  },
  {
   "cell_type": "code",
   "execution_count": 24,
   "id": "6e56711b",
   "metadata": {},
   "outputs": [
    {
     "name": "stdout",
     "output_type": "stream",
     "text": [
      "[1, 1, 1, 1, 1, 1, 1, 1, 1, 1, 1, 1, 1, 1, 1, 1, 1, 1, 1, 1, 1, 1, 1, 1, 1, 1, 1, 1, 1, 1, 1, 1, 1, 1, 1, 1]\n"
     ]
    }
   ],
   "source": [
    "# test sparse\n",
    "\n",
    "print(sequence_abs(sequence_sparse))"
   ]
  },
  {
   "cell_type": "markdown",
   "id": "73e097e1",
   "metadata": {},
   "source": [
    "The function cross_correlation(seq) takes as input a function that generates sequence values and outputs the cross correlation of the sequence as a list:"
   ]
  },
  {
   "cell_type": "code",
   "execution_count": 13,
   "id": "dc927493",
   "metadata": {},
   "outputs": [],
   "source": [
    "def cross_correlation(seq):\n",
    "    list_out =[]\n",
    "    for values_b in iteration_list:\n",
    "        t=0\n",
    "        for values_a in iteration_list:\n",
    "            t += conjugate(seq(values_a[0]+values_b[0], values_a[1]+values_b[1], values_a[2]+values_b[2], values_a[3]+ values_b[3]))*seq(values_a[0], values_a[1], values_a[2], values_a[3])\n",
    "        list_out.append(K(t))\n",
    "    return list_out"
   ]
  },
  {
   "cell_type": "code",
   "execution_count": 25,
   "id": "8c32ded6",
   "metadata": {},
   "outputs": [
    {
     "name": "stdout",
     "output_type": "stream",
     "text": [
      "[36, 0, 0, 0, 0, 0, 0, 0, 0, 0, 0, 0, 0, 0, 0, 0, 0, 0, 0, 0, 0, 0, 0, 0, 0, 0, 0, 0, 0, 0, 0, 0, 0, 0, 0, 0]\n"
     ]
    }
   ],
   "source": [
    "# test symmetric\n",
    "\n",
    "print(cross_correlation(sequence_sym))"
   ]
  },
  {
   "cell_type": "code",
   "execution_count": 26,
   "id": "06229c57",
   "metadata": {},
   "outputs": [
    {
     "name": "stdout",
     "output_type": "stream",
     "text": [
      "[36, 0, 0, 0, 0, 0, 0, 0, 0, 0, 0, 0, 0, 0, 0, 0, 0, 0, 0, 0, 0, 0, 0, 0, 0, 0, 0, 0, 0, 0, 0, 0, 0, 0, 0, 0]\n"
     ]
    }
   ],
   "source": [
    "# test sparse\n",
    "\n",
    "print(cross_correlation(sequence_sparse))"
   ]
  },
  {
   "cell_type": "markdown",
   "id": "3e8cd90f",
   "metadata": {},
   "source": [
    "The function twisted_cross_correlation(seq) takes as input a function that generates sequence values and outputs the twisted cross correlation of the sequence as a list:\n"
   ]
  },
  {
   "cell_type": "code",
   "execution_count": 16,
   "id": "03e18321",
   "metadata": {},
   "outputs": [],
   "source": [
    "def twisted_cross_correlation(seq):\n",
    "    list_out =[]\n",
    "    for values_b in iteration_list:\n",
    "        t = 0\n",
    "        for values_a in iteration_list:\n",
    "            t += K(seq(values_a[0]+values_b[0], values_a[1]+values_b[1], values_a[2]+values_b[2], values_a[3]+ values_b[3])*conjugate(seq(values_a[0], values_a[1], values_a[2], values_a[3]))*w**(inv_chinese_rem(values_b[1]*values_a[0]-values_b[0]*values_a[1],mod(values_a[2],3)*mod(values_b[3],3)-mod(values_a[3],3)*mod(values_b[2],3))))\n",
    "        list_out.append(K(t))\n",
    "    return list_out"
   ]
  },
  {
   "cell_type": "code",
   "execution_count": 27,
   "id": "8a174e22",
   "metadata": {},
   "outputs": [
    {
     "name": "stdout",
     "output_type": "stream",
     "text": [
      "[36, 0, 0, 0, 0, 0, 0, 0, 0, 0, 0, 0, 0, 0, 0, 0, 0, 0, 0, 0, 0, 0, 0, 0, 0, 0, 0, 0, 0, 0, 0, 0, 0, 0, 0, 0]\n"
     ]
    }
   ],
   "source": [
    "# test symmetric\n",
    "\n",
    "print(twisted_cross_correlation(sequence_sym))"
   ]
  },
  {
   "cell_type": "code",
   "execution_count": 28,
   "id": "b52257df",
   "metadata": {},
   "outputs": [
    {
     "name": "stdout",
     "output_type": "stream",
     "text": [
      "[36, 0, 0, 0, 0, 0, 0, 0, 0, 0, 0, 0, 0, 0, 0, 0, 0, 0, 0, 0, 0, 0, 0, 0, 0, 0, 0, 0, 0, 0, 0, 0, 0, 0, 0, 0]\n"
     ]
    }
   ],
   "source": [
    "#test sparse\n",
    "\n",
    "print(twisted_cross_correlation(sequence_sparse))"
   ]
  },
  {
   "cell_type": "markdown",
   "id": "09e95507",
   "metadata": {},
   "source": [
    "As one can see, the sequences defined through the functions sequence_sym(k,l,x,y)} and sequence_sparse(k,l,x,y) are unimodular and doubly perfect."
   ]
  }
 ],
 "metadata": {
  "kernelspec": {
   "display_name": "SageMath 10.0.beta5",
   "language": "sage",
   "name": "sagemath"
  },
  "language_info": {
   "codemirror_mode": {
    "name": "ipython",
    "version": 3
   },
   "file_extension": ".py",
   "mimetype": "text/x-python",
   "name": "python",
   "nbconvert_exporter": "python",
   "pygments_lexer": "ipython3",
   "version": "3.9.1"
  }
 },
 "nbformat": 4,
 "nbformat_minor": 5
}
