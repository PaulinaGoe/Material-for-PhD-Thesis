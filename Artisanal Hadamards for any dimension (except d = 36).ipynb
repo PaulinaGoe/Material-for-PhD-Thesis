{
 "cells": [
  {
   "cell_type": "code",
   "execution_count": 7,
   "id": "f2bba403",
   "metadata": {},
   "outputs": [],
   "source": [
    "import numpy as np\n",
    "import itertools\n"
   ]
  },
  {
   "cell_type": "markdown",
   "id": "28e659dc",
   "metadata": {},
   "source": [
    "I. Definition of basic functions\n",
    "\n",
    "\n",
    "Fix dimensions in the following.\n",
    "\n",
    "(For $m = 1$ and $N = \\mathbb{I}_{2m}$, we recover the original definition of Prop. 2 in the paper.)\n",
    "\n",
    "(For $d =2$ and suitable matrices $N$, we get solutions for even dimensions.)"
   ]
  },
  {
   "cell_type": "code",
   "execution_count": 8,
   "id": "a71e7fbe",
   "metadata": {},
   "outputs": [],
   "source": [
    "d = 2 # change dimension here\n",
    "\n",
    "m = 3 # change m value here"
   ]
  },
  {
   "cell_type": "markdown",
   "id": "9789c3e4",
   "metadata": {},
   "source": [
    "Example $2m \\times 2m$ matrices $N$ can be defined below (uncomment for use):"
   ]
  },
  {
   "cell_type": "code",
   "execution_count": 16,
   "id": "ff8ceff5",
   "metadata": {},
   "outputs": [],
   "source": [
    "#N = identity_matrix(2*m) # change matrix here\n",
    "#N = matrix([[0,1,0,0],[1, 1, 1, 0],[0, 1, 0, 1],[0, 0, 1, 1]])\n",
    "\n",
    "N = matrix([[1, 0, 0, 0, 1, 0],\n",
    "[0, 1, 0, 1, 1, 1],\n",
    "[0, 0, 1, 0, 1, 1],\n",
    "[0, 1, 0, 1, 0, 0],\n",
    "[1, 1, 1, 0, 1, 0],\n",
    "[0, 1, 1, 0, 0, 1]])"
   ]
  },
  {
   "cell_type": "markdown",
   "id": "965c3482",
   "metadata": {},
   "source": [
    "Define symbolic variables of length $2m$ with symbolic entries in $\\mathbb{F}_d$\n"
   ]
  },
  {
   "cell_type": "code",
   "execution_count": 17,
   "id": "307a3a5f",
   "metadata": {},
   "outputs": [],
   "source": [
    "a = var('a', n= 2*m, latex_name='a')\n",
    "b = var('b', n= 2*m, latex_name='b')"
   ]
  },
  {
   "cell_type": "markdown",
   "id": "3b46035c",
   "metadata": {},
   "source": [
    "The following function is used to define a list of all possible combinations of choices for a tuple a consisting of 2m elements with entries from a number field of dimension d.\n"
   ]
  },
  {
   "cell_type": "code",
   "execution_count": 18,
   "id": "48dd1a7a",
   "metadata": {},
   "outputs": [],
   "source": [
    "def iteration_list(m,d):\n",
    "    return list(itertools.product([j for j in range(0,d)], repeat=2*m))\n",
    "\n"
   ]
  },
  {
   "cell_type": "markdown",
   "id": "415fcd62",
   "metadata": {},
   "source": [
    "The following function defines a matrix that generates symplectic product taking as input two tuples consisting of symbolic variables and the parameters $d$ and $m$. The function outputs the symplectic product of these tuples interpreted as vectors."
   ]
  },
  {
   "cell_type": "code",
   "execution_count": 19,
   "id": "dbf3398d",
   "metadata": {},
   "outputs": [
    {
     "data": {
      "text/plain": [
       "I^(-a3*b0 - a4*b1 - a5*b2 + a0*b3 + a1*b4 + a2*b5)"
      ]
     },
     "execution_count": 19,
     "metadata": {},
     "output_type": "execute_result"
    }
   ],
   "source": [
    "def symplectic_product(vec_a,vec_b, m, d):\n",
    "    F.<w> = CyclotomicField(d)\n",
    "# for d = 2, omega becomes the imaginary unit\n",
    "    if d==2:\n",
    "        w = I\n",
    "    J = Matrix(ZZ, np.hstack((np.vstack((np.zeros((m, m)), -identity_matrix(m))), np.vstack((identity_matrix(m), np.zeros((m, m))))))) \n",
    "    return w**(vec_a*J*vec_b)\n",
    "\n",
    "# test\n",
    "\n",
    "symplectic_product(vector(a),vector(b),m, d)"
   ]
  },
  {
   "cell_type": "markdown",
   "id": "9d9acfff",
   "metadata": {},
   "source": [
    " The next function defines a sequence taking as input a tuple of symbolic variables and a matrix $N$. The function outputs the values of the sequence for each choice of numbers."
   ]
  },
  {
   "cell_type": "code",
   "execution_count": 20,
   "id": "480c3b01",
   "metadata": {},
   "outputs": [],
   "source": [
    "def sequence(vec,N,d):\n",
    "    F.<w> = CyclotomicField(d)\n",
    "# for d = 2, omega becomes the imaginary unit\n",
    "    if d==2:\n",
    "        w = I\n",
    "    return w**(vec*N*vec)    "
   ]
  },
  {
   "cell_type": "markdown",
   "id": "ab391e9c",
   "metadata": {},
   "source": [
    "The following function output all values of the sequence as a list by taking as input the function that generates the sequence values and the parameters $m$ and $d$."
   ]
  },
  {
   "cell_type": "code",
   "execution_count": 21,
   "id": "dd1e5755",
   "metadata": {},
   "outputs": [
    {
     "data": {
      "text/plain": [
       "[1,\n",
       " I,\n",
       " I,\n",
       " -1,\n",
       " I,\n",
       " -1,\n",
       " -1,\n",
       " -I,\n",
       " I,\n",
       " 1,\n",
       " 1,\n",
       " -I,\n",
       " -1,\n",
       " I,\n",
       " I,\n",
       " 1,\n",
       " I,\n",
       " 1,\n",
       " 1,\n",
       " -I,\n",
       " 1,\n",
       " -I,\n",
       " -I,\n",
       " -1,\n",
       " -1,\n",
       " -I,\n",
       " -I,\n",
       " 1,\n",
       " I,\n",
       " -1,\n",
       " -1,\n",
       " -I,\n",
       " I,\n",
       " -1,\n",
       " 1,\n",
       " I,\n",
       " -1,\n",
       " -I,\n",
       " I,\n",
       " -1,\n",
       " -1,\n",
       " I,\n",
       " -I,\n",
       " -1,\n",
       " -I,\n",
       " -1,\n",
       " 1,\n",
       " -I,\n",
       " -1,\n",
       " I,\n",
       " -I,\n",
       " -1,\n",
       " I,\n",
       " 1,\n",
       " -1,\n",
       " I,\n",
       " -I,\n",
       " 1,\n",
       " -1,\n",
       " -I,\n",
       " -1,\n",
       " -I,\n",
       " I,\n",
       " -1]"
      ]
     },
     "execution_count": 21,
     "metadata": {},
     "output_type": "execute_result"
    }
   ],
   "source": [
    "def sequence_list(seq,N, m,d):\n",
    "    output_list = []\n",
    "    for values in iteration_list(m,d):\n",
    "        output_list.append(seq(vector(values),N, d))\n",
    "    return output_list        \n",
    "\n",
    "\n",
    "# test\n",
    "\n",
    "sequence_list(sequence,N,m,d)"
   ]
  },
  {
   "cell_type": "markdown",
   "id": "8250ff7c",
   "metadata": {},
   "source": [
    "The next function defines the absolute value of the sequence by taking as input a tuple of symbolic variables, the parameters $d$ and $m$ and a matrix $N$ and outputting the absolute value of the sequence for each choice of numbers for the tuple a as a list."
   ]
  },
  {
   "cell_type": "code",
   "execution_count": 22,
   "id": "4899b631",
   "metadata": {},
   "outputs": [
    {
     "data": {
      "text/plain": [
       "[1,\n",
       " 1,\n",
       " 1,\n",
       " 1,\n",
       " 1,\n",
       " 1,\n",
       " 1,\n",
       " 1,\n",
       " 1,\n",
       " 1,\n",
       " 1,\n",
       " 1,\n",
       " 1,\n",
       " 1,\n",
       " 1,\n",
       " 1,\n",
       " 1,\n",
       " 1,\n",
       " 1,\n",
       " 1,\n",
       " 1,\n",
       " 1,\n",
       " 1,\n",
       " 1,\n",
       " 1,\n",
       " 1,\n",
       " 1,\n",
       " 1,\n",
       " 1,\n",
       " 1,\n",
       " 1,\n",
       " 1,\n",
       " 1,\n",
       " 1,\n",
       " 1,\n",
       " 1,\n",
       " 1,\n",
       " 1,\n",
       " 1,\n",
       " 1,\n",
       " 1,\n",
       " 1,\n",
       " 1,\n",
       " 1,\n",
       " 1,\n",
       " 1,\n",
       " 1,\n",
       " 1,\n",
       " 1,\n",
       " 1,\n",
       " 1,\n",
       " 1,\n",
       " 1,\n",
       " 1,\n",
       " 1,\n",
       " 1,\n",
       " 1,\n",
       " 1,\n",
       " 1,\n",
       " 1,\n",
       " 1,\n",
       " 1,\n",
       " 1,\n",
       " 1]"
      ]
     },
     "execution_count": 22,
     "metadata": {},
     "output_type": "execute_result"
    }
   ],
   "source": [
    "def sequence_absolute_value(N, seq, m, d):\n",
    "    output_list = []\n",
    "    for values in iteration_list(m,d):\n",
    "        output_list.append(seq(vector(values), N, d)*conjugate(seq(vector(values),N, d)))\n",
    "    return output_list  \n",
    "\n",
    "# test\n",
    "\n",
    "sequence_absolute_value(N, sequence, m, d)"
   ]
  },
  {
   "cell_type": "markdown",
   "id": "28ce048b",
   "metadata": {},
   "source": [
    "The next function defines the cross correlation of the sequence by taking as input two tuples of symbolic variables, the parameters $d$ and $m$ and a matrix $N$ and outputting the cross correlation of the sequence for each choice of numbers for the tuple a as a list."
   ]
  },
  {
   "cell_type": "code",
   "execution_count": 23,
   "id": "5e04aecf",
   "metadata": {},
   "outputs": [],
   "source": [
    "def cross_correlation(N, seq, m, d):\n",
    "    output_list = []\n",
    "    for values_b in iteration_list(m,d):\n",
    "        sum_counter = 0\n",
    "        for values_a in iteration_list(m,d):         \n",
    "            sum_counter += seq(vector(values_a)+vector(values_b),N,d)*conjugate(seq(vector(values_a),N,d))\n",
    "        output_list.append(sum_counter)\n",
    "    return output_list\n"
   ]
  },
  {
   "cell_type": "code",
   "execution_count": 24,
   "id": "e0351add",
   "metadata": {},
   "outputs": [
    {
     "data": {
      "text/plain": [
       "[64,\n",
       " 0,\n",
       " 0,\n",
       " 0,\n",
       " 0,\n",
       " 0,\n",
       " 0,\n",
       " 0,\n",
       " 0,\n",
       " 0,\n",
       " 0,\n",
       " 0,\n",
       " 0,\n",
       " 0,\n",
       " 0,\n",
       " 0,\n",
       " 0,\n",
       " 0,\n",
       " 0,\n",
       " 0,\n",
       " 0,\n",
       " 0,\n",
       " 0,\n",
       " 0,\n",
       " 0,\n",
       " 0,\n",
       " 0,\n",
       " 0,\n",
       " 0,\n",
       " 0,\n",
       " 0,\n",
       " 0,\n",
       " 0,\n",
       " 0,\n",
       " 0,\n",
       " 0,\n",
       " 0,\n",
       " 0,\n",
       " 0,\n",
       " 0,\n",
       " 0,\n",
       " 0,\n",
       " 0,\n",
       " 0,\n",
       " 0,\n",
       " 0,\n",
       " 0,\n",
       " 0,\n",
       " 0,\n",
       " 0,\n",
       " 0,\n",
       " 0,\n",
       " 0,\n",
       " 0,\n",
       " 0,\n",
       " 0,\n",
       " 0,\n",
       " 0,\n",
       " 0,\n",
       " 0,\n",
       " 0,\n",
       " 0,\n",
       " 0,\n",
       " 0]"
      ]
     },
     "execution_count": 24,
     "metadata": {},
     "output_type": "execute_result"
    }
   ],
   "source": [
    "# test\n",
    "\n",
    "cross_correlation(N, sequence, m , d)"
   ]
  },
  {
   "cell_type": "markdown",
   "id": "6b675676",
   "metadata": {},
   "source": [
    "The next function defines the twisted cross correlation of the sequence by taking as input two tuples of symbolic variables, the parameters $d$ and $m$ and a matrix $N$ and outputting the twisted cross correlation of the sequence for each choice of numbers for the tuple a as a list."
   ]
  },
  {
   "cell_type": "code",
   "execution_count": 9,
   "id": "6ae0d065",
   "metadata": {},
   "outputs": [
    {
     "data": {
      "text/plain": [
       "[16, 0, 0, 0, 0, 0, 0, 0, 0, 0, 0, 0, 0, 0, 0, 0]"
      ]
     },
     "execution_count": 9,
     "metadata": {},
     "output_type": "execute_result"
    }
   ],
   "source": [
    "def twisted_cross_correlation(N, seq, m , d):\n",
    "    output_list = []\n",
    "    for values_b in iteration_list(m,d):\n",
    "        sum_counter = 0\n",
    "        for values_a in iteration_list(m,d):\n",
    "            sum_counter += seq(vector(values_a)+vector(values_b),N, d)*conjugate(seq(vector(values_a),N, d))*symplectic_product(2*vector(values_a),vector(values_b),m, d)\n",
    "    \n",
    "        output_list.append(sum_counter)\n",
    "    return output_list\n",
    "\n",
    "# test\n",
    "\n",
    "twisted_cross_correlation(N, sequence, m ,d)\n"
   ]
  },
  {
   "cell_type": "markdown",
   "id": "ef1fcbba",
   "metadata": {},
   "source": [
    "Define a function that takes as input two tuples of symbolic variables, the parameters $d$ adn $m$ and a matrix $N$, computes the absolute value, the cross correlation and the twisted cross correlation of the corresponding sequence and outputs true if the sequence is perfect and false otherwise."
   ]
  },
  {
   "cell_type": "code",
   "execution_count": 10,
   "id": "1e091764",
   "metadata": {},
   "outputs": [],
   "source": [
    "def is_perfect_sequence(N, seq, m, d):\n",
    "    CC = cross_correlation(N, seq, m, d)\n",
    "    TWCC = twisted_cross_correlation(N,seq, m ,d)\n",
    "    Abs = sequence_absolute_value(N, seq, m, d)\n",
    "    if (TWCC[0] != d**(2*m) or CC[0] != d**(2*m) or Abs[0] != 1):\n",
    "        return false\n",
    "    for k in range(1,len(CC)):\n",
    "            if (Abs[k] != 1 or TWCC[k] != 0 or CC[k] != 0):\n",
    "                return false\n",
    "    return true\n",
    "       "
   ]
  },
  {
   "cell_type": "code",
   "execution_count": 11,
   "id": "efcc8514",
   "metadata": {},
   "outputs": [
    {
     "data": {
      "text/plain": [
       "True"
      ]
     },
     "execution_count": 11,
     "metadata": {},
     "output_type": "execute_result"
    }
   ],
   "source": [
    "# test\n",
    "\n",
    "is_perfect_sequence(N, sequence, m , d)"
   ]
  },
  {
   "cell_type": "markdown",
   "id": "79587cda",
   "metadata": {},
   "source": [
    "The following function constructs a unitary out of the perfect sequence, taking as input the sequence, the matrix $N$ and the parameters $d$ and $m$ and outputting a $d^{2m}$-dimensional matrix."
   ]
  },
  {
   "cell_type": "code",
   "execution_count": 12,
   "id": "d65f5e25",
   "metadata": {},
   "outputs": [],
   "source": [
    "def matrix(N,d,m, seq):\n",
    "    entry_list = []\n",
    "    for values_a in iteration_list(m,d):\n",
    "        for values_b in iteration_list(m,d):\n",
    "            entry_list.append(seq(vector(values_a)-vector(values_b),N,d)*symplectic_product(2*vector(values_a),vector(values_b),m, d))\n",
    "    return matrix(np.array(entry_list).reshape((d**(2*m), d**(2*m))))"
   ]
  },
  {
   "cell_type": "code",
   "execution_count": null,
   "id": "6df5af01",
   "metadata": {},
   "outputs": [],
   "source": [
    "# test\n",
    "\n",
    "H = (1/(d**m))*matrix(N,d,m, sequence)\n",
    "\n",
    "# m=1 and d= 5: order 4\n",
    "\n",
    "# m=2 and d=2: order 4"
   ]
  },
  {
   "cell_type": "markdown",
   "id": "378a2fc8",
   "metadata": {},
   "source": [
    "Define a function that computes the reshuffle of a matrix:"
   ]
  },
  {
   "cell_type": "code",
   "execution_count": 15,
   "id": "6387eff2",
   "metadata": {},
   "outputs": [],
   "source": [
    "def matrix_reshuffle(M,d,m):\n",
    "    dim = d**m\n",
    "    matrix_reshaped = np.array(M).reshape((dim, dim, dim, dim))\n",
    "    return matrix(np.array([[[[matrix_reshaped[l,j,k,i] for i in range(0,dim)] for j in range(0,dim)] for k in range(0,dim)] for l in range(0,dim)]).reshape((dim**2,dim**2)))\n"
   ]
  },
  {
   "cell_type": "markdown",
   "id": "39133170",
   "metadata": {},
   "source": [
    "Define a function that checks if a matrix is dual unitary:"
   ]
  },
  {
   "cell_type": "code",
   "execution_count": 16,
   "id": "f32724f6",
   "metadata": {},
   "outputs": [
    {
     "ename": "NameError",
     "evalue": "name 'H' is not defined",
     "output_type": "error",
     "traceback": [
      "\u001b[0;31m---------------------------------------------------------------------------\u001b[0m",
      "\u001b[0;31mNameError\u001b[0m                                 Traceback (most recent call last)",
      "Cell \u001b[0;32mIn [16], line 6\u001b[0m\n\u001b[1;32m      3\u001b[0m \u001b[38;5;28;01mdef\u001b[39;00m \u001b[38;5;21mis_dual_unitary\u001b[39m(M,d,m):\n\u001b[1;32m      4\u001b[0m     \u001b[38;5;28;01mreturn\u001b[39;00m matrix_reshuffle(M,d,m)\u001b[38;5;241m.\u001b[39mis_unitary()\n\u001b[0;32m----> 6\u001b[0m is_dual_unitary(\u001b[43mH\u001b[49m,d,m)\n",
      "\u001b[0;31mNameError\u001b[0m: name 'H' is not defined"
     ]
    }
   ],
   "source": [
    "def is_dual_unitary(M,d,m):\n",
    "    return matrix_reshuffle(M,d,m).is_unitary()\n",
    "\n",
    "# test\n",
    "\n",
    "\n",
    "is_dual_unitary(H,d,m)"
   ]
  },
  {
   "cell_type": "markdown",
   "id": "f9aead63",
   "metadata": {},
   "source": [
    "Define a function that computes the partial transpose of a matrix:"
   ]
  },
  {
   "cell_type": "code",
   "execution_count": 17,
   "id": "ae73a5ae",
   "metadata": {},
   "outputs": [],
   "source": [
    "def matrix_partial_transpose(M,d,m):\n",
    "    dim = d**m\n",
    "    matrix_reshaped = np.array(M).reshape((dim, dim, dim, dim))\n",
    "    return matrix(np.array([[[[matrix_reshaped[k,j,i,l] for i in range(0,dim)] for j in range(0,dim)] for k in range(0,dim)] for l in range(0,dim)]).reshape((dim**2,dim**2)))\n"
   ]
  },
  {
   "cell_type": "markdown",
   "id": "af00b717",
   "metadata": {},
   "source": [
    "Define a function that checks if a matrix is $\\Gamma$-dual unitary:"
   ]
  },
  {
   "cell_type": "code",
   "execution_count": 18,
   "id": "95eaca0e",
   "metadata": {},
   "outputs": [
    {
     "ename": "NameError",
     "evalue": "name 'H' is not defined",
     "output_type": "error",
     "traceback": [
      "\u001b[0;31m---------------------------------------------------------------------------\u001b[0m",
      "\u001b[0;31mNameError\u001b[0m                                 Traceback (most recent call last)",
      "Cell \u001b[0;32mIn [18], line 6\u001b[0m\n\u001b[1;32m      3\u001b[0m \u001b[38;5;28;01mdef\u001b[39;00m \u001b[38;5;21mis_gamma_dual_unitary\u001b[39m(M,d,m):\n\u001b[1;32m      4\u001b[0m     \u001b[38;5;28;01mreturn\u001b[39;00m matrix_partial_transpose(M,d,m)\u001b[38;5;241m.\u001b[39mis_unitary()\n\u001b[0;32m----> 6\u001b[0m is_gamma_dual_unitary(\u001b[43mH\u001b[49m,d,m)\n",
      "\u001b[0;31mNameError\u001b[0m: name 'H' is not defined"
     ]
    }
   ],
   "source": [
    "def is_gamma_dual_unitary(M,d,m):\n",
    "    return matrix_partial_transpose(M,d,m).is_unitary()\n",
    "\n",
    "# test\n",
    "\n",
    "is_gamma_dual_unitary(H,d,m)"
   ]
  },
  {
   "cell_type": "markdown",
   "id": "0ad7b478",
   "metadata": {},
   "source": [
    "Define function thats checks 2-unitarity by checking if matrix itself, dual and gamma dual matrices are unitary:"
   ]
  },
  {
   "cell_type": "code",
   "execution_count": 19,
   "id": "ffddd584",
   "metadata": {},
   "outputs": [],
   "source": [
    "def is_2unitary(M,d,m):\n",
    "    return (M.is_unitary() and is_dual_unitary(M,d,m) and is_gamma_dual_unitary(M,d,m))"
   ]
  },
  {
   "cell_type": "code",
   "execution_count": 20,
   "id": "c9d30690",
   "metadata": {},
   "outputs": [
    {
     "ename": "NameError",
     "evalue": "name 'H' is not defined",
     "output_type": "error",
     "traceback": [
      "\u001b[0;31m---------------------------------------------------------------------------\u001b[0m",
      "\u001b[0;31mNameError\u001b[0m                                 Traceback (most recent call last)",
      "Cell \u001b[0;32mIn [20], line 3\u001b[0m\n\u001b[1;32m      1\u001b[0m \u001b[38;5;66;03m# test is_2unitary\u001b[39;00m\n\u001b[0;32m----> 3\u001b[0m is_2unitary(\u001b[43mH\u001b[49m,d,m)\n",
      "\u001b[0;31mNameError\u001b[0m: name 'H' is not defined"
     ]
    }
   ],
   "source": [
    "# test is_2unitary\n",
    "\n",
    "is_2unitary(H,d,m)"
   ]
  },
  {
   "cell_type": "markdown",
   "id": "3a5fb58d",
   "metadata": {},
   "source": [
    "II.\n",
    "\n",
    "In the following it will be demonstrated for low dimensions that the identity matrix generates a perfect sequence for odd dimensions."
   ]
  },
  {
   "cell_type": "code",
   "execution_count": 22,
   "id": "61355fc4",
   "metadata": {},
   "outputs": [
    {
     "name": "stdout",
     "output_type": "stream",
     "text": [
      "d =  2  Perfect sequence:  False\n",
      "d =  4  Perfect sequence:  False\n"
     ]
    },
    {
     "ename": "KeyboardInterrupt",
     "evalue": "",
     "output_type": "error",
     "traceback": [
      "\u001b[0;31m---------------------------------------------------------------------------\u001b[0m",
      "\u001b[0;31mKeyboardInterrupt\u001b[0m                         Traceback (most recent call last)",
      "Cell \u001b[0;32mIn [22], line 9\u001b[0m\n\u001b[1;32m      7\u001b[0m \u001b[38;5;28;01mfor\u001b[39;00m dim \u001b[38;5;129;01min\u001b[39;00m \u001b[38;5;28mrange\u001b[39m(Integer(\u001b[38;5;241m2\u001b[39m),Integer(\u001b[38;5;241m16\u001b[39m),Integer(\u001b[38;5;241m2\u001b[39m)):\n\u001b[1;32m      8\u001b[0m     N \u001b[38;5;241m=\u001b[39m identity_matrix(Integer(\u001b[38;5;241m2\u001b[39m)\u001b[38;5;241m*\u001b[39mm)\n\u001b[0;32m----> 9\u001b[0m     \u001b[38;5;28mprint\u001b[39m(\u001b[38;5;124m\"\u001b[39m\u001b[38;5;124md = \u001b[39m\u001b[38;5;124m\"\u001b[39m, dim, \u001b[38;5;124m\"\u001b[39m\u001b[38;5;124m Perfect sequence: \u001b[39m\u001b[38;5;124m\"\u001b[39m, \u001b[43mis_perfect_sequence\u001b[49m\u001b[43m(\u001b[49m\u001b[43mN\u001b[49m\u001b[43m,\u001b[49m\u001b[43m \u001b[49m\u001b[43msequence\u001b[49m\u001b[43m,\u001b[49m\u001b[43m \u001b[49m\u001b[43mm\u001b[49m\u001b[43m,\u001b[49m\u001b[43m \u001b[49m\u001b[43mdim\u001b[49m\u001b[43m)\u001b[49m)\n",
      "Cell \u001b[0;32mIn [10], line 6\u001b[0m, in \u001b[0;36mis_perfect_sequence\u001b[0;34m(N, seq, m, d)\u001b[0m\n\u001b[1;32m      5\u001b[0m \u001b[38;5;28;01mdef\u001b[39;00m \u001b[38;5;21mis_perfect_sequence\u001b[39m(N, seq, m, d):\n\u001b[0;32m----> 6\u001b[0m     CC \u001b[38;5;241m=\u001b[39m \u001b[43mcross_correlation\u001b[49m\u001b[43m(\u001b[49m\u001b[43mN\u001b[49m\u001b[43m,\u001b[49m\u001b[43m \u001b[49m\u001b[43mseq\u001b[49m\u001b[43m,\u001b[49m\u001b[43m \u001b[49m\u001b[43mm\u001b[49m\u001b[43m,\u001b[49m\u001b[43m \u001b[49m\u001b[43md\u001b[49m\u001b[43m)\u001b[49m\n\u001b[1;32m      7\u001b[0m     TWCC \u001b[38;5;241m=\u001b[39m twisted_cross_correlation(N,seq, m ,d)\n\u001b[1;32m      8\u001b[0m     Abs \u001b[38;5;241m=\u001b[39m sequence_absolute_value(N, seq, m, d)\n",
      "Cell \u001b[0;32mIn [7], line 10\u001b[0m, in \u001b[0;36mcross_correlation\u001b[0;34m(N, seq, m, d)\u001b[0m\n\u001b[1;32m      8\u001b[0m     sum_counter \u001b[38;5;241m=\u001b[39m Integer(\u001b[38;5;241m0\u001b[39m)\n\u001b[1;32m      9\u001b[0m     \u001b[38;5;28;01mfor\u001b[39;00m values_a \u001b[38;5;129;01min\u001b[39;00m iteration_list(m,d):         \n\u001b[0;32m---> 10\u001b[0m         sum_counter \u001b[38;5;241m+\u001b[39m\u001b[38;5;241m=\u001b[39m seq(vector(values_a)\u001b[38;5;241m+\u001b[39mvector(values_b),N,d)\u001b[38;5;241m*\u001b[39mconjugate(\u001b[43mseq\u001b[49m\u001b[43m(\u001b[49m\u001b[43mvector\u001b[49m\u001b[43m(\u001b[49m\u001b[43mvalues_a\u001b[49m\u001b[43m)\u001b[49m\u001b[43m,\u001b[49m\u001b[43mN\u001b[49m\u001b[43m,\u001b[49m\u001b[43md\u001b[49m\u001b[43m)\u001b[49m)\n\u001b[1;32m     11\u001b[0m     output_list\u001b[38;5;241m.\u001b[39mappend(sum_counter)\n\u001b[1;32m     12\u001b[0m \u001b[38;5;28;01mreturn\u001b[39;00m output_list\n",
      "Cell \u001b[0;32mIn [5], line 5\u001b[0m, in \u001b[0;36msequence\u001b[0;34m(vec, N, d)\u001b[0m\n\u001b[1;32m      4\u001b[0m \u001b[38;5;28;01mdef\u001b[39;00m \u001b[38;5;21msequence\u001b[39m(vec,N,d):\n\u001b[0;32m----> 5\u001b[0m     F \u001b[38;5;241m=\u001b[39m \u001b[43mCyclotomicField\u001b[49m\u001b[43m(\u001b[49m\u001b[43md\u001b[49m\u001b[43m,\u001b[49m\u001b[43m \u001b[49m\u001b[43mnames\u001b[49m\u001b[38;5;241;43m=\u001b[39;49m\u001b[43m(\u001b[49m\u001b[38;5;124;43m'\u001b[39;49m\u001b[38;5;124;43mw\u001b[39;49m\u001b[38;5;124;43m'\u001b[39;49m\u001b[43m,\u001b[49m\u001b[43m)\u001b[49m\u001b[43m)\u001b[49m; (w,) \u001b[38;5;241m=\u001b[39m F\u001b[38;5;241m.\u001b[39m_first_ngens(\u001b[38;5;241m1\u001b[39m)\n\u001b[1;32m      6\u001b[0m \u001b[38;5;66;03m# for d = 2, omega becomes the imaginary unit\u001b[39;00m\n\u001b[1;32m      7\u001b[0m     \u001b[38;5;28;01mif\u001b[39;00m d\u001b[38;5;241m==\u001b[39mInteger(\u001b[38;5;241m2\u001b[39m):\n",
      "File \u001b[0;32msrc/cysignals/signals.pyx:310\u001b[0m, in \u001b[0;36mcysignals.signals.python_check_interrupt\u001b[0;34m()\u001b[0m\n",
      "\u001b[0;31mKeyboardInterrupt\u001b[0m: "
     ]
    }
   ],
   "source": [
    "m = 2\n",
    "\n",
    "for dim in range(2,16,2):\n",
    "    N = identity_matrix(2*m)\n",
    "    print(\"d = \", dim, \" Perfect sequence: \", is_perfect_sequence(N, sequence, m, dim))"
   ]
  },
  {
   "cell_type": "markdown",
   "id": "7e7656f6",
   "metadata": {},
   "source": [
    "III.\n",
    "\n",
    "In the following some matrices in even dimensions will be shown to generate perfect sequences."
   ]
  },
  {
   "cell_type": "code",
   "execution_count": null,
   "id": "5b00b93a",
   "metadata": {},
   "outputs": [],
   "source": [
    "# test is_perfect_sequence for different m in even case (where d = 2 and N is a kite matrix)\n",
    "\n",
    "d = 2\n",
    "\n",
    "for m in [2,4,5]:    \n",
    "    if m == 2:\n",
    "        N = matrix([[0,1,0,0],[1, 1, 1, 0],[0, 1, 0, 1],[0, 0, 1, 1]])\n",
    "    if m == 4:\n",
    "        #N = Matrix(ZZ, np.hstack((np.vstack((M, np.zeros((4,4)))), np.vstack((np.zeros((4,4)),M))))) # m=4\n",
    "        N = Matrix([[1,1,1,1,1,1,1,1], [1,1,1,1,1,1,1,0], [1,1,1,1,1,1,0,0], [1,1,1,1,1,0,0,0], [1,1,1,1,0,0,0,0], [1,1,1,0,0,0,0,0], [1,1,0,0,0,0,0,0], [1,0,0,0,0,0,0,0]])     \n",
    "    if m == 5:\n",
    "        N = Matrix([[1,1,1,1,1,1,1,1,1,1], [1,1,1,1,1,1,1,1,1,0], [1,1,1,1,1,1,1,1,0,0], [1,1,1,1,1,1,1,0,0,0], [1,1,1,1,1,1,0,0,0,0], [1,1,1,1,1,0,0,0,0,0], [1,1,1,1,0,0,0,0,0,0], [1,1,1,0,0,0,0,0,0,0],[1,1,0,0,0,0,0,0,0,0], [1,0,0,0,0,0,0,0,0,0]]) \n",
    "        \n",
    "    print(\"m = \", m, \" Perfect sequence: \", is_perfect_sequence(N, sequence, m, d))"
   ]
  },
  {
   "cell_type": "code",
   "execution_count": null,
   "id": "c1ad0bb6",
   "metadata": {},
   "outputs": [],
   "source": [
    "#N = M2(matrix([[0,1,0,0],[1, 1, 1, 0],[0, 1, 0, 1],[0, 0, 1, 1]]))\n",
    "\n",
    "N = matrix([[0,0,1,0,0,1],[0, 1, 1,0,0, 0],[1, 1, 1,0,0, 0],[0, 0,0,0, 0, 1],[0, 0,0, 0, 1, 1], [1,0,0,1,1,1]])\n",
    "\n",
    "#N = matrix([[0,1,1,0],[1, 1, 0, 1],[1, 0, 0, 1],[0, 1, 1, 1]])\n",
    "#N = matrix([[0,0,1,1,0,0],[0,1,1,0,1,0],[1, 1,1, 0, 0, 1],[1, 0, 0,0, 0, 1],[0,1,0,0,1,1],[0, 0, 1, 1, 1, 1]])\n",
    "\n",
    "#N = matrix([[0,0,0,1,0,0,0,1],[0,0,1,1,0,0,0,0], [0,1,1,1,0,0,0,0],[1, 1,1,1,0, 0, 0, 0],[0, 0,0,0, 0,0, 0, 1],[0,0,0,0,0,0,1,1],[0,0, 0, 0,0, 1, 1, 1],[1,0, 0,0,1, 1, 1, 1]])\n",
    "\n",
    "#N = Matrix([[1,1,1,1,1,1,1,1,1,1], [1,1,1,1,1,1,1,1,1,0], [1,1,1,1,1,1,1,1,0,0], [1,1,1,1,1,1,1,0,0,0], [1,1,1,1,1,1,0,0,0,0], [1,1,1,1,1,0,0,0,0,0], [1,1,1,1,0,0,0,0,0,0], [1,1,1,0,0,0,0,0,0,0],[1,1,0,0,0,0,0,0,0,0], [1,0,0,0,0,0,0,0,0,0]])\n",
    "N = Matrix([[1,1,1,1,1,1,1,1,1,1], [1,1,1,1,1,1,1,1,1,0], [1,1,1,1,1,1,1,1,0,0], [1,1,1,1,1,1,1,0,0,0], [1,1,1,1,1,1,0,0,0,0], [1,1,1,1,1,0,0,0,0,0], [1,1,1,1,0,0,0,0,0,0], [1,1,1,0,0,0,0,0,0,0],[1,1,0,0,0,0,0,0,0,0], [1,0,0,0,0,0,0,0,0,0]])\n",
    "\n",
    "#N = Matrix([[1,1,1,1,1,1,0,0], [1,1,1,1,1,1,1,0], [1,1,1,1,1,1,0,0], [1,1,1,1,1,0,0,0], [1,1,1,1,0,0,0,0], [1,1,1,0,0,0,0,0], [1,1,0,0,0,0,0,0], [1,0,0,0,0,0,0,0]])\n",
    "\n",
    "#N = Matrix([[1,1,1,1,1,0,0,0], [1,1,1,0,0,1,0,0], [1,1,0,0,0,0,1,0], [1,0,0,0,0,0,0,1], [1,0,0,0,0,0,0,1], [0,1,0,0,0,0,1,1], [0,0,1,0,0,1,1,1], [0,0,0,1,1,1,1,1]])"
   ]
  },
  {
   "cell_type": "markdown",
   "id": "d69a6b60",
   "metadata": {},
   "source": [
    "IV. \n",
    "\n",
    "In the following it will be demonstrated that the kite-matrix generates doubly perfect sequences for even dimensions up to $d = 2^{500}$:"
   ]
  },
  {
   "cell_type": "code",
   "execution_count": null,
   "id": "fd945042",
   "metadata": {},
   "outputs": [],
   "source": [
    "for m in range(2,500):\n",
    "    M2 = MatrixSpace(GF(2), 2*m, 2*m)\n",
    "    list = []\n",
    "    for i in range(0,2*m):\n",
    "        for j in range(0,2*m):\n",
    "            if (i+j <= 2*m-1):\n",
    "                list.append(1)\n",
    "            else:\n",
    "                list.append(0)\n",
    "            \n",
    "    N = M2(np.array(list).reshape((2*m,2*m)))\n",
    "    J =  Matrix(ZZ, np.hstack((np.vstack((np.zeros((m, m)), identity_matrix(m))), np.vstack((identity_matrix(m), np.zeros((m, m))))))) \n",
    "    M = M2(N+J)\n",
    "    if (N.determinant()==0 or M.determinant() == 0):\n",
    "        if(mod(m-1,3) == 0):\n",
    "            print(m, 'true', '\\n')"
   ]
  },
  {
   "cell_type": "markdown",
   "id": "8861fe9a",
   "metadata": {},
   "source": [
    " V. Other tools not so relevant"
   ]
  },
  {
   "cell_type": "code",
   "execution_count": null,
   "id": "2426e114",
   "metadata": {},
   "outputs": [],
   "source": [
    "def phase_matrix(a,b,N,d,m):\n",
    "    entry_list = []\n",
    "    J = Matrix(ZZ, np.hstack((np.vstack((np.zeros((m, m)), -identity_matrix(m))), np.vstack((identity_matrix(m), np.zeros((m, m)))))))\n",
    "    for values_a in iteration_list(m,d):\n",
    "        for values_b in iteration_list(m,d):\n",
    "            entry_list.append(mod((vector(values_a)-vector(values_b))*N*(vector(values_a)-vector(values_b)) + 2*vector(values_a)*J*vector(values_b),d))\n",
    "    return matrix(np.array(entry_list).reshape((d**(2*m), d**(2*m))))\n",
    "\n",
    "# test \n",
    "\n",
    "print(phase_matrix(a,b,N,d,m).str())"
   ]
  }
 ],
 "metadata": {
  "kernelspec": {
   "display_name": "SageMath 10.0.beta5",
   "language": "sage",
   "name": "sagemath"
  },
  "language_info": {
   "codemirror_mode": {
    "name": "ipython",
    "version": 3
   },
   "file_extension": ".py",
   "mimetype": "text/x-python",
   "name": "python",
   "nbconvert_exporter": "python",
   "pygments_lexer": "ipython3",
   "version": "3.9.1"
  }
 },
 "nbformat": 4,
 "nbformat_minor": 5
}
