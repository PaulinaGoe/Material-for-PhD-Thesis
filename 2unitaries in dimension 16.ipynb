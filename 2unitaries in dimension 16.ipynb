{
 "cells": [
  {
   "cell_type": "code",
   "execution_count": 1,
   "id": "2366e939",
   "metadata": {},
   "outputs": [],
   "source": [
    "import numpy as np\n",
    "from numpy import linalg as LA\n",
    "import cmath\n",
    "from sage.combinat.designs.designs_pyx import is_orthogonal_array\n",
    "\n",
    "V.<l> = CyclotomicField(4)\n",
    "\n",
    "K.<d> = CyclotomicField(4)\n",
    "\n",
    "M2= MatrixSpace(K, 2,2)\n",
    "M4= MatrixSpace(V, 4,4)\n",
    "M16= MatrixSpace(V, 16,16)\n",
    "\n",
    "\n"
   ]
  },
  {
   "cell_type": "code",
   "execution_count": 2,
   "id": "976a83b0",
   "metadata": {},
   "outputs": [],
   "source": [
    "Id16 = identity_matrix(16)\n",
    "Id2 = identity_matrix(2)\n",
    "Id4 = identity_matrix(4)\n",
    "Id8 = identity_matrix(8)\n",
    "X = M4([[0,1,0,0],[0,0,1,0], [0,0,0,1], [1,0,0,0]])\n",
    "Z =M4([[1,0,0,0],[0,l,0,0], [0,0,l**2,0], [0,0,0,l**3]])\n",
    "\n",
    "\n",
    "\n",
    "\n",
    "X_2 = M2([[0,1],[1,0]])\n",
    "Z_2 = M2([[1,0],[0,-1]])\n",
    "\n",
    "Basis2 = [Id2, X_2, Z_2, X_2*Z_2]\n",
    "\n",
    "Basis = [Id4, X, Z, X**2, Z**2, X**3, Z**3, X*Z, X*Z**2, X*Z**3, (X**2)*Z, (X**2)*Z**2, (X**2)*Z**3, (X**3)*Z, (X**3)*Z**2, (X**3)*Z**3]\n",
    "\n",
    "Basis_dic = {0 : \"Id4\", 1 : \"X\", 2 : \"Z\", 3 : \"X^2\", 4 : \"Z^2\", 5 : \"X^3\", 6 : \"Z^3\", 7 : \"XZ\", 8 : \"S Z^2\", 9 : \"XZ^3\", 10: \"X^2 Z\", 11: \" X^2 Z^2\", 12 : \"X^2 Z^3\", 13: \"X^3 Z\", 14: \"X^3 Z^2\", 15: \"X^3 Z^3\" }"
   ]
  },
  {
   "cell_type": "code",
   "execution_count": 3,
   "id": "92be4d1a",
   "metadata": {},
   "outputs": [
    {
     "data": {
      "text/plain": [
       "16"
      ]
     },
     "execution_count": 3,
     "metadata": {},
     "output_type": "execute_result"
    }
   ],
   "source": [
    "len(Basis)"
   ]
  },
  {
   "cell_type": "code",
   "execution_count": 4,
   "id": "977083d1",
   "metadata": {},
   "outputs": [],
   "source": [
    "L = [M16((X**3).tensor_product(Id4)), M16((Z**3).tensor_product(Id4)),M16((X*Z**3).tensor_product(Id4)), M16(((X**3)*Z).tensor_product(Id4)),M16(((X**3)*Z**3).tensor_product(Id4)), M16(((X**2)*Z**3).tensor_product(Id4)) , M16(((X**3)*(Z**2)).tensor_product(Id4)),M16((X**2).tensor_product(Id4)), M16((Z**2).tensor_product(Id4)),M16((X*Z**2).tensor_product(Id4)), M16(((X**2)*Z).tensor_product(Id4)),M16(((X**2)*Z**2).tensor_product(Id4)), X.tensor_product(Id4) , M16(Z.tensor_product(Id4)),M16((X*Z).tensor_product(Id4)), M16(Id16) ]\n",
    "\n",
    "R = [M16(Id4.tensor_product(Basis[i])) for i in range(0,16)  ]\n",
    "\n",
    "R_2 = [M16(Id8.tensor_product(Basis2[i])) for i in range(0,4)  ]\n",
    "\n",
    "L_2 = [M16(Basis2[i].tensor_product(Id8)) for i in range(0,4)  ]\n",
    "\n",
    "M1 = [M16(Id2.tensor_product(Basis2[i].tensor_product(Id4))) for i in range(0,4)  ]\n",
    "\n",
    "M2 = [M16(Id4.tensor_product(Basis2[i].tensor_product(Id2))) for i in range(0,4)  ]\n",
    "\n",
    "LocalSubal = [L, R]\n",
    "\n",
    "LocalSubal_2 = [L_2, R_2, M1, M2]"
   ]
  },
  {
   "cell_type": "code",
   "execution_count": 5,
   "id": "478e8f3d",
   "metadata": {},
   "outputs": [
    {
     "ename": "NameError",
     "evalue": "name 'AM_N' is not defined",
     "output_type": "error",
     "traceback": [
      "\u001b[0;31m---------------------------------------------------------------------------\u001b[0m",
      "\u001b[0;31mNameError\u001b[0m                                 Traceback (most recent call last)",
      "Cell \u001b[0;32mIn [5], line 10\u001b[0m\n\u001b[1;32m      6\u001b[0m                     \u001b[38;5;28;01mreturn\u001b[39;00m false\n\u001b[1;32m      7\u001b[0m     \u001b[38;5;28;01mreturn\u001b[39;00m true\n\u001b[0;32m---> 10\u001b[0m is_quasi_orth(L_2,\u001b[43mAM_N\u001b[49m)\n",
      "\u001b[0;31mNameError\u001b[0m: name 'AM_N' is not defined"
     ]
    }
   ],
   "source": [
    "def is_quasi_orth(A,B):\n",
    "    for V in A:\n",
    "            for W in B:\n",
    "                K = V*W\n",
    "                if (K.trace())/(K.nrows()) != ((V.trace())*(W.trace()))/((V.nrows())*(W.nrows())):\n",
    "                    return false\n",
    "    return true\n",
    "\n",
    "\n",
    "is_quasi_orth(L_2,AM_N)"
   ]
  },
  {
   "cell_type": "code",
   "execution_count": null,
   "id": "7fe88b9e",
   "metadata": {},
   "outputs": [],
   "source": [
    "def is_unitary(A):\n",
    "    return A*A.conjugate_transpose() == identity_matrix(A.nrows())"
   ]
  },
  {
   "cell_type": "code",
   "execution_count": 6,
   "id": "a4b17b3e",
   "metadata": {},
   "outputs": [],
   "source": [
    "def is_delocalised(A,O):\n",
    "    for N in O:\n",
    "        if is_quasi_orth(A,N) == false:\n",
    "            return false\n",
    "    return true\n",
    "\n"
   ]
  },
  {
   "cell_type": "code",
   "execution_count": 7,
   "id": "a7c9d17f",
   "metadata": {},
   "outputs": [],
   "source": [
    "def commute(A,B):\n",
    "    for a in A:\n",
    "        for b in B:\n",
    "            if a*b != b*a:\n",
    "                return false\n",
    "    return true\n",
    "            "
   ]
  },
  {
   "cell_type": "code",
   "execution_count": 8,
   "id": "d95a37e5",
   "metadata": {},
   "outputs": [
    {
     "data": {
      "text/plain": [
       "array([0., 1., 0., 0., 0., 0., 0., 0., 0., 0., 0., 0., 0., 0., 0., 0.])"
      ]
     },
     "execution_count": 8,
     "metadata": {},
     "output_type": "execute_result"
    }
   ],
   "source": [
    "# Define ququad basis\n",
    "\n",
    "def unitV(i):\n",
    "    vec = np.zeros(4)\n",
    "    for l in range(0,4):\n",
    "        if l == i:\n",
    "            vec[l] = 1\n",
    "    return vec\n",
    "\n",
    "# Test \n",
    "\n",
    "unitV(0)\n",
    "\n",
    "# Define tensor product of 2 ququats\n",
    "\n",
    "def unitV2(i,k):\n",
    "    return np.kron(unitV(i), unitV(k))\n",
    "\n",
    "\n",
    "# Test \n",
    "\n",
    "unitV2(3,3)\n",
    "\n",
    "# \n",
    "\n",
    "def unitV16(i):\n",
    "    vec = np.zeros(16)\n",
    "    for l in range(0,16):\n",
    "        if l == i:\n",
    "            vec[l] = 1\n",
    "    return vec\n",
    "\n",
    "unitV16(1)"
   ]
  },
  {
   "cell_type": "code",
   "execution_count": 18,
   "id": "9219c3d9",
   "metadata": {},
   "outputs": [
    {
     "data": {
      "text/plain": [
       "array([[0., 0., 0., 0.],\n",
       "       [0., 0., 0., 0.],\n",
       "       [0., 0., 0., 0.],\n",
       "       [0., 0., 0., 1.]])"
      ]
     },
     "execution_count": 18,
     "metadata": {},
     "output_type": "execute_result"
    }
   ],
   "source": [
    "# define 4x4 block monomials where the 1 is index by l and k \n",
    "\n",
    "def block(k,l,n):\n",
    "    arr = np.zeros((n,n))\n",
    "    arr[k-1,l-1] = 1\n",
    "    return arr\n",
    "block(4,4,4)"
   ]
  },
  {
   "cell_type": "code",
   "execution_count": 19,
   "id": "9630e5cc",
   "metadata": {},
   "outputs": [],
   "source": [
    "# merge the blocks along columns\n",
    " # I. & II., U_N\n",
    "block1 = np.vstack((block(1,1,4),block(2,2,4), block(3,3,4), block(4,4,4)))\n",
    "\n",
    "block2 = np.vstack((block(2,4,4), block(1,3,4),  block(4,2,4),  block(3,1,4)))\n",
    "\n",
    "block3 = np.vstack((block(3,2,4), block(4,1,4), block(1,4,4),  block(2,3,4)))\n",
    "\n",
    "block4 = np.vstack((block(4,3,4), block(3,4,4), block(2,1,4), block(1,2,4)))"
   ]
  },
  {
   "cell_type": "code",
   "execution_count": 20,
   "id": "03b6a620",
   "metadata": {},
   "outputs": [],
   "source": [
    "# I. & III., U_2_1\n",
    "\n",
    "block11 = np.vstack((block(1,1,4),block(2,2,4), block(3,3,4), block(4,4,4)))\n",
    "\n",
    "block21 = np.vstack((block(2,3,4), block(1,4,4),  block(4,1,4),  block(3,2,4)))\n",
    "\n",
    "block31 = np.vstack((block(3,4,4), block(4,3,4), block(1,2,4),  block(2,1,4)))\n",
    "\n",
    "block41 = np.vstack((block(4,2,4), block(3,1,4), block(2,4,4), block(1,3,4)))"
   ]
  },
  {
   "cell_type": "code",
   "execution_count": 21,
   "id": "50e650a5",
   "metadata": {},
   "outputs": [],
   "source": [
    "# II. & III., U_2_2\n",
    "\n",
    "block12 = np.vstack((block(1,1,4),block(2,2,4), block(3,3,4), block(4,4,4)))\n",
    "\n",
    "block22 = np.vstack((block(4,3,4), block(3,4,4),  block(2,1,4),  block(1,2,4)))\n",
    "\n",
    "block32 = np.vstack((block(2,4,4), block(1,3,4), block(4,2,4),  block(3,1,4)))\n",
    "\n",
    "block42 = np.vstack((block(3,2,4), block(4,1,4), block(1,4,4), block(2,3,4)))"
   ]
  },
  {
   "cell_type": "code",
   "execution_count": 22,
   "id": "0bffbb27",
   "metadata": {},
   "outputs": [],
   "source": [
    "# construct another 2 unitary of order 2\n",
    "\n",
    "block1_1 = np.vstack((block(1,1,4),block(4,3,4), block(2,4,4), block(3,2,4)))\n",
    "block2_1 = np.vstack((block(3,4,4), block(2,2,4),  block(4,1,4),  block(1,3,4)))\n",
    "\n",
    "block3_1 = np.vstack((block(4,2,4), block(1,4,4), block(3,3,4),  block(2,1,4)))\n",
    "\n",
    "block4_1 = np.vstack((block(2,3,4), block(3,1,4), block(1,2,4), block(4,4,4)))"
   ]
  },
  {
   "cell_type": "code",
   "execution_count": 23,
   "id": "17292af9",
   "metadata": {},
   "outputs": [],
   "source": [
    "U_2_1 = M16(np.hstack((block11,block21, block31, block41)))\n",
    "\n",
    "# 12 rearrangements are unitary for 2**4, ORDER 15\n",
    "U_2_2 = M16(np.hstack((block12,block22, block32, block42)))"
   ]
  },
  {
   "cell_type": "code",
   "execution_count": 24,
   "id": "9a987e9d",
   "metadata": {},
   "outputs": [
    {
     "data": {
      "text/plain": [
       "[1 0 0 0 0 0 0 0 0 0 0 0 0 0 0 0]\n",
       "[0 1 0 0 0 0 0 0 0 0 0 0 0 0 0 0]\n",
       "[0 0 1 0 0 0 0 0 0 0 0 0 0 0 0 0]\n",
       "[0 0 0 1 0 0 0 0 0 0 0 0 0 0 0 0]\n",
       "[0 0 0 0 1 0 0 0 0 0 0 0 0 0 0 0]\n",
       "[0 0 0 0 0 1 0 0 0 0 0 0 0 0 0 0]\n",
       "[0 0 0 0 0 0 1 0 0 0 0 0 0 0 0 0]\n",
       "[0 0 0 0 0 0 0 1 0 0 0 0 0 0 0 0]\n",
       "[0 0 0 0 0 0 0 0 1 0 0 0 0 0 0 0]\n",
       "[0 0 0 0 0 0 0 0 0 1 0 0 0 0 0 0]\n",
       "[0 0 0 0 0 0 0 0 0 0 1 0 0 0 0 0]\n",
       "[0 0 0 0 0 0 0 0 0 0 0 1 0 0 0 0]\n",
       "[0 0 0 0 0 0 0 0 0 0 0 0 1 0 0 0]\n",
       "[0 0 0 0 0 0 0 0 0 0 0 0 0 1 0 0]\n",
       "[0 0 0 0 0 0 0 0 0 0 0 0 0 0 1 0]\n",
       "[0 0 0 0 0 0 0 0 0 0 0 0 0 0 0 1]"
      ]
     },
     "execution_count": 24,
     "metadata": {},
     "output_type": "execute_result"
    }
   ],
   "source": [
    "U_2_2**15"
   ]
  },
  {
   "cell_type": "markdown",
   "id": "68f45f97",
   "metadata": {},
   "source": [
    "Next we give a collection of 2-unitaries in dimension 16. \n",
    "\n",
    "\n"
   ]
  },
  {
   "cell_type": "code",
   "execution_count": 25,
   "id": "10bd7e8b",
   "metadata": {},
   "outputs": [
    {
     "data": {
      "text/plain": [
       "[1 0 0 0 0 0 0 0 0 0 0 0 0 0 0 0]\n",
       "[0 1 0 0 0 0 0 0 0 0 0 0 0 0 0 0]\n",
       "[0 0 1 0 0 0 0 0 0 0 0 0 0 0 0 0]\n",
       "[0 0 0 1 0 0 0 0 0 0 0 0 0 0 0 0]\n",
       "[0 0 0 0 1 0 0 0 0 0 0 0 0 0 0 0]\n",
       "[0 0 0 0 0 1 0 0 0 0 0 0 0 0 0 0]\n",
       "[0 0 0 0 0 0 1 0 0 0 0 0 0 0 0 0]\n",
       "[0 0 0 0 0 0 0 1 0 0 0 0 0 0 0 0]\n",
       "[0 0 0 0 0 0 0 0 1 0 0 0 0 0 0 0]\n",
       "[0 0 0 0 0 0 0 0 0 1 0 0 0 0 0 0]\n",
       "[0 0 0 0 0 0 0 0 0 0 1 0 0 0 0 0]\n",
       "[0 0 0 0 0 0 0 0 0 0 0 1 0 0 0 0]\n",
       "[0 0 0 0 0 0 0 0 0 0 0 0 1 0 0 0]\n",
       "[0 0 0 0 0 0 0 0 0 0 0 0 0 1 0 0]\n",
       "[0 0 0 0 0 0 0 0 0 0 0 0 0 0 1 0]\n",
       "[0 0 0 0 0 0 0 0 0 0 0 0 0 0 0 1]"
      ]
     },
     "execution_count": 25,
     "metadata": {},
     "output_type": "execute_result"
    }
   ],
   "source": [
    "# normal form, has order 5\n",
    "U_N = M16(np.hstack((block1,block2, block3, block4)))\n",
    "\n",
    "# 11 24 32 43\n",
    "# 22 13 41 34\n",
    "# 33 42 14 21\n",
    "# 44 31 23 12\n",
    "\n",
    "# 4 rearrangements for 2**4 are unitary\n",
    "\n",
    "# order 6\n",
    "U = M16(np.array([unitV2(0,0),unitV2(1,1), unitV2(2,2), unitV2(3,3), unitV2(1,3), unitV2(0,2), unitV2(3,1), unitV2(2,0), unitV2(2,1), unitV2(3,0), unitV2(0,3), unitV2(1,2), unitV2(3,2), unitV2(2,3), unitV2(1,0), unitV2(0,1)]))\n",
    "\n",
    "# 11 22 33 44\n",
    "# 23 14 41 32\n",
    "# 34 43 12 21\n",
    "# 42 31 24 13\n",
    "\n",
    "# 6 rearrangements for 2**4 are unitary\n",
    "\n",
    "# order 8\n",
    "\n",
    "Up = M16([[1,0,0,0,0,1,0,0,0,0,-1,0,0,0,0,-1], [0,1,0,0,-1,0,0,0,0,0,0,-1,0,0,-1,0],[0,0,-1,0,0,0,0,1,-1,0,0,0,0,-1,0,0],\n",
    "          [0,0,0,-1,0,0,1,0,0,1,0,0,1,0,0,0],[0,1,0,0,-1,0,0,0,0,0,0,1,0,0,1,0],[-1,0,0,0,0,1,0,0,0,0,1,0,0,0,0,-1],\n",
    "          [0,0,0,-1,0,0,1,0,0,-1,0,0,-1,0,0,0],[0,0,-1,0,0,0,0,-1,1,0,0,0,0,-1,0,0], [0,0,-1,0,0,0,0,-1,-1,0,0,0,0,1,0,0],\n",
    "          [0,0,0,1,0,0,1,0,0,-1,0,0,1,0,0,0],[-1,0,0,0,0,-1,0,0,0,0,-1,0,0,0,0,-1], [0,-1,0,0,-1,0,0,0,0,0,0,-1,0,0,1,0],\n",
    "          [0,0,0,-1,0,0,-1,0,0,-1,0,0,1,0,0,0], [0,0,1,0,0,0,0,-1,-1,0,0,0,0,-1,0,0], [0,1,0,0,1,0,0,0,0,0,0,-1,0,0,1,0],\n",
    "          [1,0,0,0,0,-1,0,0,0,0,1,0,0,0,0,-1]])\n",
    "\n",
    "# no rearrangement for 2**4 is unitary\n",
    "\n",
    "#print(U.str())\n",
    "U_N**5"
   ]
  },
  {
   "cell_type": "code",
   "execution_count": 26,
   "id": "d1b51566",
   "metadata": {},
   "outputs": [
    {
     "data": {
      "text/plain": [
       "[1 0 0 0 0 1 0 0 0 0 1 0 0 0 0 1]"
      ]
     },
     "execution_count": 26,
     "metadata": {},
     "output_type": "execute_result"
    }
   ],
   "source": [
    "\n",
    "def Bell_basis(d):\n",
    "    K.<w> = CyclotomicField(d)\n",
    "    V = MatrixSpace(K, 1, d**2)\n",
    "    L = []\n",
    "    for i in range(0,d):\n",
    "        L.append(vector(np.kron(unitV(i),unitV(i))))\n",
    "    return V(sum(L))\n",
    "\n",
    "Bell_basis(4)"
   ]
  },
  {
   "cell_type": "code",
   "execution_count": 27,
   "id": "8e348ee5",
   "metadata": {},
   "outputs": [
    {
     "data": {
      "text/plain": [
       "[0, 11, 13, 6, 14, 5, 3, 8, 7, 12, 10, 1, 9, 2, 4, 15]"
      ]
     },
     "execution_count": 27,
     "metadata": {},
     "output_type": "execute_result"
    }
   ],
   "source": [
    "# order 2\n",
    "\n",
    "U_2 = M16([[1, 0, 0, 0, 0, 0, 0, 0, 0, 0, 0, 0, 0, 0, 0, 0],\n",
    " [0, 0, 0, 0, 0, 0, 0, 0, 0, 0, 0, 1, 0, 0, 0, 0],\n",
    " [0, 0, 0, 0, 0, 0, 0, 0, 0, 0, 0, 0, 0, 1, 0, 0],\n",
    " [0, 0, 0, 0, 0, 0, 1, 0, 0, 0, 0, 0, 0, 0, 0, 0],\n",
    " [0, 0, 0, 0, 0, 0, 0, 0, 0, 0, 0, 0, 0, 0, 1, 0],\n",
    " [0, 0, 0, 0, 0, 1, 0, 0, 0, 0, 0, 0, 0, 0, 0, 0],\n",
    " [0, 0, 0, 1, 0, 0, 0, 0, 0, 0, 0, 0, 0, 0, 0, 0],\n",
    " [0, 0, 0, 0, 0, 0, 0, 0, 1, 0, 0, 0, 0, 0, 0, 0],\n",
    " [0, 0, 0, 0, 0, 0, 0, 1, 0, 0, 0, 0, 0, 0, 0, 0],\n",
    " [0, 0, 0, 0, 0, 0, 0, 0, 0, 0, 0, 0, 1, 0, 0, 0],\n",
    " [0, 0, 0, 0, 0, 0, 0, 0, 0, 0, 1, 0, 0, 0, 0, 0],\n",
    " [0, 1, 0, 0, 0, 0, 0, 0, 0, 0, 0, 0, 0, 0, 0, 0],\n",
    " [0, 0, 0, 0, 0, 0, 0, 0, 0, 1, 0, 0, 0, 0, 0, 0],\n",
    " [0, 0, 1, 0, 0, 0, 0, 0, 0, 0, 0, 0, 0, 0, 0, 0],\n",
    " [0, 0, 0, 0, 1, 0, 0, 0, 0, 0, 0, 0, 0, 0, 0, 0],\n",
    " [0, 0, 0, 0, 0, 0, 0, 0, 0, 0, 0, 0, 0, 0, 0, 1]\n",
    "  ])\n",
    "\n",
    "# 12 rearrangements for 2**4 are unitary\n",
    "\n",
    "\n",
    "# write matrix as permutation (for LaTeX)\n",
    "\n",
    "perm = []\n",
    "for i in range(0,16):\n",
    "    for j in range(0,16):\n",
    "        if U_2[j,i] == 1:\n",
    "            perm.append(j)\n",
    "\n",
    "            \n",
    "perm"
   ]
  },
  {
   "cell_type": "code",
   "execution_count": 32,
   "id": "bf6486e0",
   "metadata": {},
   "outputs": [
    {
     "data": {
      "text/plain": [
       "True"
      ]
     },
     "execution_count": 32,
     "metadata": {},
     "output_type": "execute_result"
    }
   ],
   "source": [
    "(U_2.conjugate_transpose())*Bell_basis(4).conjugate_transpose() == Bell_basis(4).conjugate_transpose()"
   ]
  },
  {
   "cell_type": "code",
   "execution_count": 130,
   "id": "c22ceda0",
   "metadata": {},
   "outputs": [
    {
     "data": {
      "text/plain": [
       "True"
      ]
     },
     "execution_count": 130,
     "metadata": {},
     "output_type": "execute_result"
    }
   ],
   "source": [
    "#is_unitary((1/2)*Up)\n",
    "\n",
    "is_unitary(U_2)"
   ]
  },
  {
   "cell_type": "code",
   "execution_count": 131,
   "id": "71c565b1",
   "metadata": {},
   "outputs": [
    {
     "data": {
      "text/plain": [
       "True"
      ]
     },
     "execution_count": 131,
     "metadata": {},
     "output_type": "execute_result"
    }
   ],
   "source": [
    "U_2 == U_2.transpose()"
   ]
  },
  {
   "cell_type": "code",
   "execution_count": 132,
   "id": "2fcc84c5",
   "metadata": {},
   "outputs": [
    {
     "data": {
      "text/plain": [
       "[1 0 0 0 0 0 0 0 0 0 0 0 0 0 0 0]\n",
       "[0 1 0 0 0 0 0 0 0 0 0 0 0 0 0 0]\n",
       "[0 0 1 0 0 0 0 0 0 0 0 0 0 0 0 0]\n",
       "[0 0 0 1 0 0 0 0 0 0 0 0 0 0 0 0]\n",
       "[0 0 0 0 1 0 0 0 0 0 0 0 0 0 0 0]\n",
       "[0 0 0 0 0 1 0 0 0 0 0 0 0 0 0 0]\n",
       "[0 0 0 0 0 0 1 0 0 0 0 0 0 0 0 0]\n",
       "[0 0 0 0 0 0 0 1 0 0 0 0 0 0 0 0]\n",
       "[0 0 0 0 0 0 0 0 1 0 0 0 0 0 0 0]\n",
       "[0 0 0 0 0 0 0 0 0 1 0 0 0 0 0 0]\n",
       "[0 0 0 0 0 0 0 0 0 0 1 0 0 0 0 0]\n",
       "[0 0 0 0 0 0 0 0 0 0 0 1 0 0 0 0]\n",
       "[0 0 0 0 0 0 0 0 0 0 0 0 1 0 0 0]\n",
       "[0 0 0 0 0 0 0 0 0 0 0 0 0 1 0 0]\n",
       "[0 0 0 0 0 0 0 0 0 0 0 0 0 0 1 0]\n",
       "[0 0 0 0 0 0 0 0 0 0 0 0 0 0 0 1]"
      ]
     },
     "execution_count": 132,
     "metadata": {},
     "output_type": "execute_result"
    }
   ],
   "source": [
    "U_2**2"
   ]
  },
  {
   "cell_type": "code",
   "execution_count": 133,
   "id": "1caab461",
   "metadata": {},
   "outputs": [
    {
     "data": {
      "text/plain": [
       "[1 0 0 0 0 0 0 0 0 0 0 0 0 0 0 0]\n",
       "[0 1 0 0 0 0 0 0 0 0 0 0 0 0 0 0]\n",
       "[0 0 1 0 0 0 0 0 0 0 0 0 0 0 0 0]\n",
       "[0 0 0 1 0 0 0 0 0 0 0 0 0 0 0 0]\n",
       "[0 0 0 0 1 0 0 0 0 0 0 0 0 0 0 0]\n",
       "[0 0 0 0 0 1 0 0 0 0 0 0 0 0 0 0]\n",
       "[0 0 0 0 0 0 1 0 0 0 0 0 0 0 0 0]\n",
       "[0 0 0 0 0 0 0 1 0 0 0 0 0 0 0 0]\n",
       "[0 0 0 0 0 0 0 0 1 0 0 0 0 0 0 0]\n",
       "[0 0 0 0 0 0 0 0 0 1 0 0 0 0 0 0]\n",
       "[0 0 0 0 0 0 0 0 0 0 1 0 0 0 0 0]\n",
       "[0 0 0 0 0 0 0 0 0 0 0 1 0 0 0 0]\n",
       "[0 0 0 0 0 0 0 0 0 0 0 0 1 0 0 0]\n",
       "[0 0 0 0 0 0 0 0 0 0 0 0 0 1 0 0]\n",
       "[0 0 0 0 0 0 0 0 0 0 0 0 0 0 1 0]\n",
       "[0 0 0 0 0 0 0 0 0 0 0 0 0 0 0 1]"
      ]
     },
     "execution_count": 133,
     "metadata": {},
     "output_type": "execute_result"
    }
   ],
   "source": [
    "((1/2)*Up)**8"
   ]
  },
  {
   "cell_type": "code",
   "execution_count": 134,
   "id": "b43f7caa",
   "metadata": {},
   "outputs": [
    {
     "data": {
      "text/plain": [
       "[  24  -56  -72   56   -8   24   -8  -72  -72 -104 -120    8    8  -88   40  -88]\n",
       "[  40   -8 -120  -40  136   24   -8   56   24  104  -72   40   24   -8   72   40]\n",
       "[  56  -72   24   -8  -40   88  -88   40  -72   24   24  104 -104   88   24  -40]\n",
       "[  88  104   40   56  -24  -24  -24  104  -72   40  -40   40  104  -24  -72  -56]\n",
       "[  24  168  -40   -8   24   56   56   -8   -8  -72   72   72  -88  -56   40    8]\n",
       "[  24  -24   88  168   88   72   72    8  -24   -8    8  -40    8   40   56   56]\n",
       "[ -72   56  -40   -8 -104   24  104  -24  -72   88  -40  -24   24   88   88  -40]\n",
       "[ -24   24  -40    8   24 -104  -40   88 -120  -40  -24 -104 -104   24    8   56]\n",
       "[  56  -56   24  -72  -40   24   88  152   56  -72    8  -56    8  -24   72  -56]\n",
       "[-152  -40   40  -40   40   56   -8   56 -104    8   56   40   56 -104    8    8]\n",
       "[ -88   40   40  -24  104   40   24   24   40  -24  -88   -8  -56   72  -88 -120]\n",
       "[ -88   24   24  104  -40  -72  -72   56  104   24  -24   56  -40  -40  104  -40]\n",
       "[  24   40   -8   -8   56   24 -104  -40   -8   24  104 -120   40    8   72 -120]\n",
       "[  -8  -56  -72   40   56 -120   72    8  -24  -40  104   88   40   72   -8  -72]\n",
       "[   8   40  104  -88   40  -56  -40  -40  -24  -88  -56   56   72   72  104   40]\n",
       "[  56  -24  104  -40   40  -88   72  -56  -40  104   -8    8  -88  -88   24  -56]"
      ]
     },
     "execution_count": 134,
     "metadata": {},
     "output_type": "execute_result"
    }
   ],
   "source": [
    "# New 2-unitary\n",
    "\n",
    "H2 = matrix([[1,1],[1,-1]])\n",
    "\n",
    "F4 = (1/2)*matrix([[1,1,1,1],[1,l, l**2, l**3], [1,l**2, l**4, l**6], [1,l**3, l**6, l**9]])\n",
    "\n",
    "F = F4.tensor_product(Id4)\n",
    "\n",
    "# controlled CNOT gate\n",
    "arr = []\n",
    "for i in range(0,4):\n",
    "    arr.append(M4(vector(unitV(i)).tensor_product(vector(unitV(i)))).tensor_product(M4(X**i)))\n",
    "\n",
    "CNOT = matrix(sum(arr))\n",
    "\n",
    "\n",
    "Unew = M16((H2.tensor_product(H2.tensor_product(Id4)))*Up)\n",
    "\n",
    "Lambda = M16(F.conjugate_transpose()*CNOT.conjugate_transpose()*Unew*CNOT*F)\n",
    "\n",
    "CHM = M16(F.conjugate_transpose()*Unew*F)\n",
    "\n",
    "#is_unitary((1/4)*Unew)\n",
    "\n",
    "# order\n",
    "\n",
    "#MatrixGroup(Unew*(1/4)).order()\n",
    "\n",
    "# to do construct quantum latin square out of this and check if genuinly quantum\n",
    "Unew**4"
   ]
  },
  {
   "cell_type": "code",
   "execution_count": 135,
   "id": "d1602c40",
   "metadata": {},
   "outputs": [
    {
     "data": {
      "text/plain": [
       "True"
      ]
     },
     "execution_count": 135,
     "metadata": {},
     "output_type": "execute_result"
    }
   ],
   "source": [
    "is_unitary((1/2)*(H2.tensor_product(H2)))"
   ]
  },
  {
   "cell_type": "code",
   "execution_count": 136,
   "id": "7ec536b9",
   "metadata": {},
   "outputs": [],
   "source": [
    "H = H2.tensor_product(H2.tensor_product(Id4))\n",
    " \n",
    "Uneww = M16((H2.tensor_product(H2.tensor_product(Id4)))*Up*(H2.tensor_product(H2.tensor_product(Id4))).conjugate_transpose())"
   ]
  },
  {
   "cell_type": "code",
   "execution_count": 137,
   "id": "046d8ed6",
   "metadata": {},
   "outputs": [
    {
     "data": {
      "text/plain": [
       "[8 0 0 0 0 0 0 0 0 0 0 0 0 0 0 0]\n",
       "[0 8 0 0 0 0 0 0 0 0 0 0 0 0 0 0]\n",
       "[0 0 8 0 0 0 0 0 0 0 0 0 0 0 0 0]\n",
       "[0 0 0 8 0 0 0 0 0 0 0 0 0 0 0 0]\n",
       "[0 0 0 0 8 0 0 0 0 0 0 0 0 0 0 0]\n",
       "[0 0 0 0 0 8 0 0 0 0 0 0 0 0 0 0]\n",
       "[0 0 0 0 0 0 8 0 0 0 0 0 0 0 0 0]\n",
       "[0 0 0 0 0 0 0 8 0 0 0 0 0 0 0 0]\n",
       "[0 0 0 0 0 0 0 0 8 0 0 0 0 0 0 0]\n",
       "[0 0 0 0 0 0 0 0 0 8 0 0 0 0 0 0]\n",
       "[0 0 0 0 0 0 0 0 0 0 8 0 0 0 0 0]\n",
       "[0 0 0 0 0 0 0 0 0 0 0 8 0 0 0 0]\n",
       "[0 0 0 0 0 0 0 0 0 0 0 0 8 0 0 0]\n",
       "[0 0 0 0 0 0 0 0 0 0 0 0 0 8 0 0]\n",
       "[0 0 0 0 0 0 0 0 0 0 0 0 0 0 8 0]\n",
       "[0 0 0 0 0 0 0 0 0 0 0 0 0 0 0 8]"
      ]
     },
     "execution_count": 137,
     "metadata": {},
     "output_type": "execute_result"
    }
   ],
   "source": [
    "(1/8)*Uneww*(Uneww.conjugate_transpose())"
   ]
  },
  {
   "cell_type": "code",
   "execution_count": 138,
   "id": "4ed8c71b",
   "metadata": {},
   "outputs": [
    {
     "data": {
      "text/plain": [
       "[ 0  2 -2 -2  0 -2 -2  2  0  2 -2 -2  4  2  2 -2]\n",
       "[-2  0  2 -2 -2  0  2  2 -2  4  2  2  2  0 -2  2]\n",
       "[-2 -2  0 -2 -2  2 -4 -2  2  2  0  2 -2  2  0 -2]\n",
       "[ 2 -2  2 -4  2  2 -2  0 -2 -2 -2  0  2 -2 -2  0]\n",
       "[ 0  2 -2 -2  0 -2 -2  2  4 -2  2  2  0 -2 -2  2]\n",
       "[ 2  0 -2  2  2  0 -2 -2 -2  0  2  2  2  4 -2  2]\n",
       "[-2 -2 -4  2 -2  2  0  2 -2 -2  0  2  2 -2  0 -2]\n",
       "[-2  2  2  0 -2 -2 -2 -4 -2 -2  2  0  2 -2  2  0]\n",
       "[ 0  2  2  2  4  2 -2  2  0  2  2  2  0 -2  2 -2]\n",
       "[-2  4 -2 -2  2  0  2 -2 -2  0 -2  2 -2  0 -2 -2]\n",
       "[-2 -2  0  2  2 -2  0 -2  2  2  0 -2  2 -2 -4 -2]\n",
       "[ 2  2 -2  0 -2  2 -2  0 -2  2  2 -4 -2 -2 -2  0]\n",
       "[ 4 -2 -2 -2  0 -2  2 -2  0  2  2  2  0 -2  2 -2]\n",
       "[-2  0 -2 -2  2  4  2 -2  2  0  2 -2  2  0  2  2]\n",
       "[ 2  2  0  2 -2  2  0 -2  2  2 -4  2  2 -2  0  2]\n",
       "[ 2  2  2  0 -2  2  2  0  2 -2  2  0  2  2 -2 -4]"
      ]
     },
     "execution_count": 138,
     "metadata": {},
     "output_type": "execute_result"
    }
   ],
   "source": [
    "Uneww"
   ]
  },
  {
   "cell_type": "code",
   "execution_count": 139,
   "id": "f0ebef65",
   "metadata": {
    "scrolled": true
   },
   "outputs": [
    {
     "ename": "KeyboardInterrupt",
     "evalue": "",
     "output_type": "error",
     "traceback": [
      "\u001b[0;31m---------------------------------------------------------------------------\u001b[0m",
      "\u001b[0;31mKeyboardInterrupt\u001b[0m                         Traceback (most recent call last)",
      "Cell \u001b[0;32mIn [139], line 10\u001b[0m\n\u001b[1;32m      1\u001b[0m \u001b[38;5;66;03m#listOfGen = []\u001b[39;00m\n\u001b[1;32m      2\u001b[0m \u001b[38;5;66;03m#for V in MatrixSpace(GF(3),4,4).list():\u001b[39;00m\n\u001b[1;32m      3\u001b[0m     \u001b[38;5;66;03m#if is_unitary(V):\u001b[39;00m\n\u001b[1;32m      4\u001b[0m         \u001b[38;5;66;03m#listOfGen.append(V)\u001b[39;00m\n\u001b[1;32m      5\u001b[0m         \n\u001b[1;32m      6\u001b[0m \u001b[38;5;66;03m#U4 = MatrixGroup(listOfGen).list()\u001b[39;00m\n\u001b[1;32m      8\u001b[0m U4 \u001b[38;5;241m=\u001b[39m GU(Integer(\u001b[38;5;241m4\u001b[39m), Integer(\u001b[38;5;241m2\u001b[39m))\n\u001b[0;32m---> 10\u001b[0m U4\u001b[38;5;241m.\u001b[39mlist()\n",
      "File \u001b[0;32m~/sage/local/var/lib/sage/venv-python3.9/lib/python3.9/site-packages/IPython/core/displayhook.py:262\u001b[0m, in \u001b[0;36mDisplayHook.__call__\u001b[0;34m(self, result)\u001b[0m\n\u001b[1;32m    260\u001b[0m \u001b[38;5;28mself\u001b[39m\u001b[38;5;241m.\u001b[39mstart_displayhook()\n\u001b[1;32m    261\u001b[0m \u001b[38;5;28mself\u001b[39m\u001b[38;5;241m.\u001b[39mwrite_output_prompt()\n\u001b[0;32m--> 262\u001b[0m format_dict, md_dict \u001b[38;5;241m=\u001b[39m \u001b[38;5;28;43mself\u001b[39;49m\u001b[38;5;241;43m.\u001b[39;49m\u001b[43mcompute_format_data\u001b[49m\u001b[43m(\u001b[49m\u001b[43mresult\u001b[49m\u001b[43m)\u001b[49m\n\u001b[1;32m    263\u001b[0m \u001b[38;5;28mself\u001b[39m\u001b[38;5;241m.\u001b[39mupdate_user_ns(result)\n\u001b[1;32m    264\u001b[0m \u001b[38;5;28mself\u001b[39m\u001b[38;5;241m.\u001b[39mfill_exec_result(result)\n",
      "File \u001b[0;32m~/sage/local/var/lib/sage/venv-python3.9/lib/python3.9/site-packages/IPython/core/displayhook.py:151\u001b[0m, in \u001b[0;36mDisplayHook.compute_format_data\u001b[0;34m(self, result)\u001b[0m\n\u001b[1;32m    121\u001b[0m \u001b[38;5;28;01mdef\u001b[39;00m \u001b[38;5;21mcompute_format_data\u001b[39m(\u001b[38;5;28mself\u001b[39m, result):\n\u001b[1;32m    122\u001b[0m     \u001b[38;5;124;03m\"\"\"Compute format data of the object to be displayed.\u001b[39;00m\n\u001b[1;32m    123\u001b[0m \n\u001b[1;32m    124\u001b[0m \u001b[38;5;124;03m    The format data is a generalization of the :func:`repr` of an object.\u001b[39;00m\n\u001b[0;32m   (...)\u001b[0m\n\u001b[1;32m    149\u001b[0m \n\u001b[1;32m    150\u001b[0m \u001b[38;5;124;03m    \"\"\"\u001b[39;00m\n\u001b[0;32m--> 151\u001b[0m     \u001b[38;5;28;01mreturn\u001b[39;00m \u001b[38;5;28;43mself\u001b[39;49m\u001b[38;5;241;43m.\u001b[39;49m\u001b[43mshell\u001b[49m\u001b[38;5;241;43m.\u001b[39;49m\u001b[43mdisplay_formatter\u001b[49m\u001b[38;5;241;43m.\u001b[39;49m\u001b[43mformat\u001b[49m\u001b[43m(\u001b[49m\u001b[43mresult\u001b[49m\u001b[43m)\u001b[49m\n",
      "File \u001b[0;32m~/sage/src/sage/repl/display/formatter.py:190\u001b[0m, in \u001b[0;36mSageDisplayFormatter.format\u001b[0;34m(self, obj, include, exclude)\u001b[0m\n\u001b[1;32m    113\u001b[0m \u001b[38;5;28;01mdef\u001b[39;00m \u001b[38;5;21mformat\u001b[39m(\u001b[38;5;28mself\u001b[39m, obj, include\u001b[38;5;241m=\u001b[39m\u001b[38;5;28;01mNone\u001b[39;00m, exclude\u001b[38;5;241m=\u001b[39m\u001b[38;5;28;01mNone\u001b[39;00m):\n\u001b[1;32m    114\u001b[0m     \u001b[38;5;124mr\u001b[39m\u001b[38;5;124;03m\"\"\"\u001b[39;00m\n\u001b[1;32m    115\u001b[0m \u001b[38;5;124;03m    Use the Sage rich output instead of IPython\u001b[39;00m\n\u001b[1;32m    116\u001b[0m \n\u001b[0;32m   (...)\u001b[0m\n\u001b[1;32m    188\u001b[0m \u001b[38;5;124;03m        I am repper\u001b[39;00m\n\u001b[1;32m    189\u001b[0m \u001b[38;5;124;03m    \"\"\"\u001b[39;00m\n\u001b[0;32m--> 190\u001b[0m     sage_format, sage_metadata \u001b[38;5;241m=\u001b[39m \u001b[38;5;28;43mself\u001b[39;49m\u001b[38;5;241;43m.\u001b[39;49m\u001b[43mdm\u001b[49m\u001b[38;5;241;43m.\u001b[39;49m\u001b[43mdisplayhook\u001b[49m\u001b[43m(\u001b[49m\u001b[43mobj\u001b[49m\u001b[43m)\u001b[49m\n\u001b[1;32m    191\u001b[0m     \u001b[38;5;28;01massert\u001b[39;00m PLAIN_TEXT \u001b[38;5;129;01min\u001b[39;00m sage_format, \u001b[38;5;124m'\u001b[39m\u001b[38;5;124mplain text is always present\u001b[39m\u001b[38;5;124m'\u001b[39m\n\u001b[1;32m    193\u001b[0m     \u001b[38;5;66;03m# use Sage rich output for any except those native to IPython, but only\u001b[39;00m\n\u001b[1;32m    194\u001b[0m     \u001b[38;5;66;03m# if it is not plain and dull\u001b[39;00m\n",
      "File \u001b[0;32m~/sage/src/sage/repl/rich_output/display_manager.py:827\u001b[0m, in \u001b[0;36mDisplayManager.displayhook\u001b[0;34m(self, obj)\u001b[0m\n\u001b[1;32m    825\u001b[0m     \u001b[38;5;28;01mreturn\u001b[39;00m\n\u001b[1;32m    826\u001b[0m \u001b[38;5;28mself\u001b[39m\u001b[38;5;241m.\u001b[39m_backend\u001b[38;5;241m.\u001b[39mset_underscore_variable(obj)\n\u001b[0;32m--> 827\u001b[0m plain_text, rich_output \u001b[38;5;241m=\u001b[39m \u001b[38;5;28;43mself\u001b[39;49m\u001b[38;5;241;43m.\u001b[39;49m\u001b[43m_rich_output_formatter\u001b[49m\u001b[43m(\u001b[49m\u001b[43mobj\u001b[49m\u001b[43m,\u001b[49m\u001b[43m \u001b[49m\u001b[38;5;28;43mdict\u001b[39;49m\u001b[43m(\u001b[49m\u001b[43m)\u001b[49m\u001b[43m)\u001b[49m\n\u001b[1;32m    828\u001b[0m \u001b[38;5;28;01mreturn\u001b[39;00m \u001b[38;5;28mself\u001b[39m\u001b[38;5;241m.\u001b[39m_backend\u001b[38;5;241m.\u001b[39mdisplayhook(plain_text, rich_output)\n",
      "File \u001b[0;32m~/sage/src/sage/repl/rich_output/display_manager.py:652\u001b[0m, in \u001b[0;36mDisplayManager._rich_output_formatter\u001b[0;34m(self, obj, rich_repr_kwds)\u001b[0m\n\u001b[1;32m    650\u001b[0m         plain_text \u001b[38;5;241m=\u001b[39m \u001b[38;5;28mself\u001b[39m\u001b[38;5;241m.\u001b[39m_call_rich_repr(obj, rich_repr_kwds)\n\u001b[1;32m    651\u001b[0m \u001b[38;5;28;01mif\u001b[39;00m plain_text \u001b[38;5;129;01mis\u001b[39;00m \u001b[38;5;28;01mNone\u001b[39;00m:\n\u001b[0;32m--> 652\u001b[0m     plain_text \u001b[38;5;241m=\u001b[39m \u001b[38;5;28;43mself\u001b[39;49m\u001b[38;5;241;43m.\u001b[39;49m\u001b[43m_backend\u001b[49m\u001b[38;5;241;43m.\u001b[39;49m\u001b[43mplain_text_formatter\u001b[49m\u001b[43m(\u001b[49m\u001b[43mobj\u001b[49m\u001b[43m,\u001b[49m\u001b[43m \u001b[49m\u001b[38;5;241;43m*\u001b[39;49m\u001b[38;5;241;43m*\u001b[39;49m\u001b[43mrich_repr_kwds\u001b[49m\u001b[43m)\u001b[49m\n\u001b[1;32m    653\u001b[0m \u001b[38;5;28;01mif\u001b[39;00m rich_output \u001b[38;5;129;01mis\u001b[39;00m \u001b[38;5;28;01mNone\u001b[39;00m:\n\u001b[1;32m    654\u001b[0m     rich_output \u001b[38;5;241m=\u001b[39m \u001b[38;5;28mself\u001b[39m\u001b[38;5;241m.\u001b[39m_preferred_text_formatter(\n\u001b[1;32m    655\u001b[0m         obj, plain_text\u001b[38;5;241m=\u001b[39mplain_text, \u001b[38;5;241m*\u001b[39m\u001b[38;5;241m*\u001b[39mrich_repr_kwds)\n",
      "File \u001b[0;32m~/sage/src/sage/repl/rich_output/backend_base.py:328\u001b[0m, in \u001b[0;36mBackendBase.plain_text_formatter\u001b[0;34m(self, obj, **kwds)\u001b[0m\n\u001b[1;32m    325\u001b[0m     plain_text \u001b[38;5;241m=\u001b[39m \u001b[38;5;124m'\u001b[39m\u001b[38;5;124m \u001b[39m\u001b[38;5;124m'\u001b[39m\u001b[38;5;241m.\u001b[39mjoin(\n\u001b[1;32m    326\u001b[0m         \u001b[38;5;28mself\u001b[39m\u001b[38;5;241m.\u001b[39m_apply_pretty_printer(SagePrettyPrinter, o) \u001b[38;5;28;01mfor\u001b[39;00m o \u001b[38;5;129;01min\u001b[39;00m obj)\n\u001b[1;32m    327\u001b[0m \u001b[38;5;28;01melse\u001b[39;00m:\n\u001b[0;32m--> 328\u001b[0m     plain_text \u001b[38;5;241m=\u001b[39m \u001b[38;5;28;43mself\u001b[39;49m\u001b[38;5;241;43m.\u001b[39;49m\u001b[43m_apply_pretty_printer\u001b[49m\u001b[43m(\u001b[49m\u001b[43mSagePrettyPrinter\u001b[49m\u001b[43m,\u001b[49m\u001b[43m \u001b[49m\u001b[43mobj\u001b[49m\u001b[43m)\u001b[49m\n\u001b[1;32m    329\u001b[0m \u001b[38;5;28;01mfrom\u001b[39;00m \u001b[38;5;21;01msage\u001b[39;00m\u001b[38;5;21;01m.\u001b[39;00m\u001b[38;5;21;01mrepl\u001b[39;00m\u001b[38;5;21;01m.\u001b[39;00m\u001b[38;5;21;01mrich_output\u001b[39;00m\u001b[38;5;21;01m.\u001b[39;00m\u001b[38;5;21;01moutput_basic\u001b[39;00m \u001b[38;5;28;01mimport\u001b[39;00m OutputPlainText\n\u001b[1;32m    330\u001b[0m \u001b[38;5;28;01mreturn\u001b[39;00m OutputPlainText(plain_text)\n",
      "File \u001b[0;32m~/sage/src/sage/repl/rich_output/backend_base.py:273\u001b[0m, in \u001b[0;36mBackendBase._apply_pretty_printer\u001b[0;34m(self, pretty_printer_class, obj)\u001b[0m\n\u001b[1;32m    270\u001b[0m stream \u001b[38;5;241m=\u001b[39m StringIO()\n\u001b[1;32m    271\u001b[0m printer \u001b[38;5;241m=\u001b[39m pretty_printer_class(\n\u001b[1;32m    272\u001b[0m     stream, \u001b[38;5;28mself\u001b[39m\u001b[38;5;241m.\u001b[39mmax_width(), \u001b[38;5;28mself\u001b[39m\u001b[38;5;241m.\u001b[39mnewline())\n\u001b[0;32m--> 273\u001b[0m \u001b[43mprinter\u001b[49m\u001b[38;5;241;43m.\u001b[39;49m\u001b[43mpretty\u001b[49m\u001b[43m(\u001b[49m\u001b[43mobj\u001b[49m\u001b[43m)\u001b[49m\n\u001b[1;32m    274\u001b[0m printer\u001b[38;5;241m.\u001b[39mflush()\n\u001b[1;32m    275\u001b[0m \u001b[38;5;28;01mreturn\u001b[39;00m stream\u001b[38;5;241m.\u001b[39mgetvalue()\n",
      "File \u001b[0;32m~/sage/src/sage/repl/display/pretty_print.py:144\u001b[0m, in \u001b[0;36mSagePrettyPrinter.pretty\u001b[0;34m(self, obj)\u001b[0m\n\u001b[1;32m    142\u001b[0m \u001b[38;5;28;01mif\u001b[39;00m \u001b[38;5;28mself\u001b[39m\u001b[38;5;241m.\u001b[39mDEBUG:\n\u001b[1;32m    143\u001b[0m     \u001b[38;5;28mprint\u001b[39m(\u001b[38;5;124m'\u001b[39m\u001b[38;5;124mTrying \u001b[39m\u001b[38;5;132;01m{0}\u001b[39;00m\u001b[38;5;124m'\u001b[39m\u001b[38;5;241m.\u001b[39mformat(representation))\n\u001b[0;32m--> 144\u001b[0m ok \u001b[38;5;241m=\u001b[39m \u001b[43mrepresentation\u001b[49m\u001b[43m(\u001b[49m\u001b[43mobj\u001b[49m\u001b[43m,\u001b[49m\u001b[43m \u001b[49m\u001b[38;5;28;43mself\u001b[39;49m\u001b[43m,\u001b[49m\u001b[43m \u001b[49m\u001b[43mcycle\u001b[49m\u001b[43m)\u001b[49m\n\u001b[1;32m    145\u001b[0m \u001b[38;5;28;01mif\u001b[39;00m \u001b[38;5;28mself\u001b[39m\u001b[38;5;241m.\u001b[39mDEBUG:\n\u001b[1;32m    146\u001b[0m     \u001b[38;5;28mprint\u001b[39m(\u001b[38;5;124m'\u001b[39m\u001b[38;5;124mok = \u001b[39m\u001b[38;5;132;01m{0}\u001b[39;00m\u001b[38;5;124m'\u001b[39m\u001b[38;5;241m.\u001b[39mformat(ok))\n",
      "File \u001b[0;32m~/sage/src/sage/repl/display/fancy_repr.py:353\u001b[0m, in \u001b[0;36mTallListRepr.__call__\u001b[0;34m(self, obj, p, cycle)\u001b[0m\n\u001b[1;32m    351\u001b[0m \u001b[38;5;28;01mif\u001b[39;00m \u001b[38;5;129;01mnot\u001b[39;00m ascii_art_repr:\n\u001b[1;32m    352\u001b[0m     \u001b[38;5;28;01mreturn\u001b[39;00m \u001b[38;5;28;01mFalse\u001b[39;00m\n\u001b[0;32m--> 353\u001b[0m output \u001b[38;5;241m=\u001b[39m \u001b[43mformat_list\u001b[49m\u001b[38;5;241;43m.\u001b[39;49m\u001b[43mtry_format\u001b[49m\u001b[43m(\u001b[49m\u001b[43mobj\u001b[49m\u001b[43m)\u001b[49m\n\u001b[1;32m    354\u001b[0m \u001b[38;5;28;01mif\u001b[39;00m output \u001b[38;5;129;01mis\u001b[39;00m \u001b[38;5;28;01mNone\u001b[39;00m:\n\u001b[1;32m    355\u001b[0m     \u001b[38;5;28;01mreturn\u001b[39;00m \u001b[38;5;28;01mFalse\u001b[39;00m\n",
      "File \u001b[0;32m~/sage/src/sage/repl/display/util.py:95\u001b[0m, in \u001b[0;36mTallListFormatter.try_format\u001b[0;34m(self, the_list)\u001b[0m\n\u001b[1;32m     93\u001b[0m tall \u001b[38;5;241m=\u001b[39m \u001b[38;5;28;01mFalse\u001b[39;00m\n\u001b[1;32m     94\u001b[0m \u001b[38;5;28;01mfor\u001b[39;00m elem \u001b[38;5;129;01min\u001b[39;00m the_list:\n\u001b[0;32m---> 95\u001b[0m     split_reprs\u001b[38;5;241m.\u001b[39mappend(\u001b[38;5;28;43mrepr\u001b[39;49m\u001b[43m(\u001b[49m\u001b[43melem\u001b[49m\u001b[43m)\u001b[49m\u001b[38;5;241m.\u001b[39msplit(\u001b[38;5;124m'\u001b[39m\u001b[38;5;130;01m\\n\u001b[39;00m\u001b[38;5;124m'\u001b[39m))\n\u001b[1;32m     96\u001b[0m     \u001b[38;5;28;01mif\u001b[39;00m \u001b[38;5;28mlen\u001b[39m(split_reprs[\u001b[38;5;241m-\u001b[39m\u001b[38;5;241m1\u001b[39m]) \u001b[38;5;241m>\u001b[39m \u001b[38;5;241m1\u001b[39m:\n\u001b[1;32m     97\u001b[0m         \u001b[38;5;66;03m# Meanwhile, check to make sure the list is actually \"tall\".\u001b[39;00m\n\u001b[1;32m     98\u001b[0m         tall \u001b[38;5;241m=\u001b[39m \u001b[38;5;28;01mTrue\u001b[39;00m\n",
      "File \u001b[0;32m~/sage/src/sage/structure/sage_object.pyx:194\u001b[0m, in \u001b[0;36msage.structure.sage_object.SageObject.__repr__\u001b[0;34m()\u001b[0m\n\u001b[1;32m    192\u001b[0m except AttributeError:\n\u001b[1;32m    193\u001b[0m     return super().__repr__()\n\u001b[0;32m--> 194\u001b[0m result = reprfunc()\n\u001b[1;32m    195\u001b[0m if isinstance(result, str):\n\u001b[1;32m    196\u001b[0m     return result\n",
      "File \u001b[0;32m~/sage/src/sage/groups/matrix_gps/group_element.pyx:508\u001b[0m, in \u001b[0;36msage.groups.matrix_gps.group_element.MatrixGroupElement_gap._repr_\u001b[0;34m()\u001b[0m\n\u001b[1;32m    506\u001b[0m         '[1 1]\\n[0 1]'\n\u001b[1;32m    507\u001b[0m     \"\"\"\n\u001b[0;32m--> 508\u001b[0m     return str(self.matrix())\n\u001b[1;32m    509\u001b[0m \n\u001b[1;32m    510\u001b[0m def _latex_(self):\n",
      "File \u001b[0;32m~/sage/src/sage/misc/cachefunc.pyx:2300\u001b[0m, in \u001b[0;36msage.misc.cachefunc.CachedMethodCallerNoArgs.__call__\u001b[0;34m()\u001b[0m\n\u001b[1;32m   2298\u001b[0m if self.cache is None:\n\u001b[1;32m   2299\u001b[0m     f = self.f\n\u001b[0;32m-> 2300\u001b[0m     self.cache = f(self._instance)\n\u001b[1;32m   2301\u001b[0m return self.cache\n\u001b[1;32m   2302\u001b[0m \n",
      "File \u001b[0;32m~/sage/src/sage/groups/matrix_gps/group_element.pyx:603\u001b[0m, in \u001b[0;36msage.groups.matrix_gps.group_element.MatrixGroupElement_gap.matrix\u001b[0;34m()\u001b[0m\n\u001b[1;32m    601\u001b[0m MS = self.parent().matrix_space()\n\u001b[1;32m    602\u001b[0m ring = MS.base_ring()\n\u001b[0;32m--> 603\u001b[0m m = MS([x.sage(ring=ring) for x in entries])\n\u001b[1;32m    604\u001b[0m m.set_immutable()\n\u001b[1;32m    605\u001b[0m return m\n",
      "File \u001b[0;32m~/sage/src/sage/libs/gap/element.pyx:1859\u001b[0m, in \u001b[0;36msage.libs.gap.element.GapElement_FiniteField.sage\u001b[0;34m()\u001b[0m\n\u001b[1;32m   1857\u001b[0m                       'divisible by {})').format(char, deg))\n\u001b[1;32m   1858\u001b[0m \n\u001b[0;32m-> 1859\u001b[0m if self.IsOne():\n\u001b[1;32m   1860\u001b[0m     return ring.one()\n\u001b[1;32m   1861\u001b[0m if deg == 1 and char == ring.characteristic():\n",
      "File \u001b[0;32m~/sage/src/sage/libs/gap/element.pyx:739\u001b[0m, in \u001b[0;36msage.libs.gap.element.GapElement.__getattr__\u001b[0;34m()\u001b[0m\n\u001b[1;32m    737\u001b[0m try:\n\u001b[1;32m    738\u001b[0m     proxy = make_GapElement_MethodProxy\\\n\u001b[0;32m--> 739\u001b[0m         (self.parent(), gap_eval(name), self)\n\u001b[1;32m    740\u001b[0m except GAPError:\n\u001b[1;32m    741\u001b[0m     raise AttributeError(f\"'{name}' is not defined in GAP\")\n",
      "File \u001b[0;32m~/sage/src/sage/libs/gap/util.pyx:364\u001b[0m, in \u001b[0;36msage.libs.gap.util.gap_eval\u001b[0;34m()\u001b[0m\n\u001b[1;32m    362\u001b[0m # its contents.\n\u001b[1;32m    363\u001b[0m cmd = str_to_bytes(gap_string + ';\\n')\n\u001b[0;32m--> 364\u001b[0m sig_on()\n\u001b[1;32m    365\u001b[0m try:\n\u001b[1;32m    366\u001b[0m     GAP_Enter()\n",
      "\u001b[0;31mKeyboardInterrupt\u001b[0m: "
     ]
    }
   ],
   "source": [
    "#listOfGen = []\n",
    "#for V in MatrixSpace(GF(3),4,4).list():\n",
    "    #if is_unitary(V):\n",
    "        #listOfGen.append(V)\n",
    "        \n",
    "#U4 = MatrixGroup(listOfGen).list()\n",
    "\n",
    "U4 = GU(4, 2)\n",
    "\n",
    "U4.list()\n",
    "\n"
   ]
  },
  {
   "cell_type": "code",
   "execution_count": null,
   "id": "4500741d",
   "metadata": {},
   "outputs": [],
   "source": []
  },
  {
   "cell_type": "code",
   "execution_count": null,
   "id": "4534b6fe",
   "metadata": {},
   "outputs": [],
   "source": [
    "for i in range(0,20):\n",
    "    W = M2([[0,-l^(i)], [l^(-i),0]])\n",
    "    U = (W.tensor_product(W)).tensor_product(W.tensor_product(W))\n",
    "\n",
    "\n",
    "    print(MatrixGroup(U*(Unew*(1/4))*U.conjugate_transpose()).order())\n",
    "     "
   ]
  },
  {
   "cell_type": "code",
   "execution_count": 38,
   "id": "12bac542",
   "metadata": {},
   "outputs": [
    {
     "data": {
      "text/plain": [
       "+Infinity"
      ]
     },
     "execution_count": 38,
     "metadata": {},
     "output_type": "execute_result"
    }
   ],
   "source": [
    "od"
   ]
  },
  {
   "cell_type": "markdown",
   "id": "d50d9525",
   "metadata": {},
   "source": [
    "Find new 2-unitary according to transformation given in Goyeneche's paper "
   ]
  },
  {
   "cell_type": "code",
   "execution_count": 140,
   "id": "297086c3",
   "metadata": {},
   "outputs": [
    {
     "data": {
      "text/plain": [
       "False"
      ]
     },
     "execution_count": 140,
     "metadata": {},
     "output_type": "execute_result"
    }
   ],
   "source": [
    "list = []\n",
    "for i in range(0,4):\n",
    "    for j in range(0,4):\n",
    "        for k in range(0,4):\n",
    "            for r in range(0,4):\n",
    "                t = j*(i-k)+r*(i+k)\n",
    "                #t = i*(j+r+k)\n",
    "                list.append(l**t)\n",
    "                #V[i,j,k,r] = l**t\n",
    "\n",
    "Uconstr = M16(np.array(list).reshape((16,16)))\n",
    "is_unitary(Uconstr)\n",
    "\n"
   ]
  },
  {
   "cell_type": "code",
   "execution_count": 49,
   "id": "78bf33d0",
   "metadata": {},
   "outputs": [],
   "source": [
    "# Construct quantum latin square\n",
    "\n",
    "psi_list = []\n",
    "\n",
    "for i in range(0,4):\n",
    "    for j in range(0,4):\n",
    "        psi_list.append(matrix(Up*(1/2))*vector(np.kron(unitV(i),unitV(j))))\n",
    "        \n",
    "\n",
    "    "
   ]
  },
  {
   "cell_type": "code",
   "execution_count": 50,
   "id": "27e328a9",
   "metadata": {},
   "outputs": [
    {
     "name": "stdout",
     "output_type": "stream",
     "text": [
      "(0.5, 0.0, 0.0, 0.0, 0.0, -0.5, 0.0, 0.0, 0.0, 0.0, -0.5, 0.0, 0.0, 0.0, 0.0, 0.5)\n",
      "(0.0, 0.5, 0.0, 0.0, 0.5, 0.0, 0.0, 0.0, 0.0, 0.0, 0.0, -0.5, 0.0, 0.0, 0.5, 0.0)\n",
      "(0.0, 0.0, -0.5, 0.0, 0.0, 0.0, 0.0, -0.5, -0.5, 0.0, 0.0, 0.0, 0.0, 0.5, 0.0, 0.0)\n",
      "(0.0, 0.0, 0.0, -0.5, 0.0, 0.0, -0.5, 0.0, 0.0, 0.5, 0.0, 0.0, -0.5, 0.0, 0.0, 0.0)\n",
      "(0.0, -0.5, 0.0, 0.0, -0.5, 0.0, 0.0, 0.0, 0.0, 0.0, 0.0, -0.5, 0.0, 0.0, 0.5, 0.0)\n",
      "(0.5, 0.0, 0.0, 0.0, 0.0, 0.5, 0.0, 0.0, 0.0, 0.0, -0.5, 0.0, 0.0, 0.0, 0.0, -0.5)\n",
      "(0.0, 0.0, 0.0, 0.5, 0.0, 0.0, 0.5, 0.0, 0.0, 0.5, 0.0, 0.0, -0.5, 0.0, 0.0, 0.0)\n",
      "(0.0, 0.0, 0.5, 0.0, 0.0, 0.0, 0.0, -0.5, -0.5, 0.0, 0.0, 0.0, 0.0, -0.5, 0.0, 0.0)\n",
      "(0.0, 0.0, -0.5, 0.0, 0.0, 0.0, 0.0, 0.5, -0.5, 0.0, 0.0, 0.0, 0.0, -0.5, 0.0, 0.0)\n",
      "(0.0, 0.0, 0.0, 0.5, 0.0, 0.0, -0.5, 0.0, 0.0, -0.5, 0.0, 0.0, -0.5, 0.0, 0.0, 0.0)\n",
      "(-0.5, 0.0, 0.0, 0.0, 0.0, 0.5, 0.0, 0.0, 0.0, 0.0, -0.5, 0.0, 0.0, 0.0, 0.0, 0.5)\n",
      "(0.0, -0.5, 0.0, 0.0, 0.5, 0.0, 0.0, 0.0, 0.0, 0.0, 0.0, -0.5, 0.0, 0.0, -0.5, 0.0)\n",
      "(0.0, 0.0, 0.0, 0.5, 0.0, 0.0, -0.5, 0.0, 0.0, 0.5, 0.0, 0.0, 0.5, 0.0, 0.0, 0.0)\n",
      "(0.0, 0.0, -0.5, 0.0, 0.0, 0.0, 0.0, -0.5, 0.5, 0.0, 0.0, 0.0, 0.0, -0.5, 0.0, 0.0)\n",
      "(0.0, -0.5, 0.0, 0.0, 0.5, 0.0, 0.0, 0.0, 0.0, 0.0, 0.0, 0.5, 0.0, 0.0, 0.5, 0.0)\n",
      "(-0.5, 0.0, 0.0, 0.0, 0.0, -0.5, 0.0, 0.0, 0.0, 0.0, -0.5, 0.0, 0.0, 0.0, 0.0, -0.5)\n"
     ]
    }
   ],
   "source": [
    "for i in range(0,16):\n",
    "    print(psi_list[i])\n"
   ]
  },
  {
   "cell_type": "code",
   "execution_count": null,
   "id": "e80a6464",
   "metadata": {},
   "outputs": [],
   "source": []
  },
  {
   "cell_type": "code",
   "execution_count": 51,
   "id": "d2142cd6",
   "metadata": {},
   "outputs": [],
   "source": [
    "# construct density matrix\n",
    "\n",
    "def densityMatrix(vec):\n",
    "        M = np.zeros((4,4,4,4))\n",
    "        for i in range(0,4):\n",
    "            for j in range(0,4):\n",
    "                for k in range(0,4):\n",
    "                    for l in range(0,4):\n",
    "                        M[i,j,k,l] = vector(np.kron(unitV(i), unitV(j)))*matrix(np.outer(vec,vec))*vector(np.kron(unitV(k), unitV(l)))\n",
    "        return M\n",
    "            \n"
   ]
  },
  {
   "cell_type": "code",
   "execution_count": 52,
   "id": "bc53ee11",
   "metadata": {},
   "outputs": [],
   "source": [
    "M = densityMatrix(psi_list[1])"
   ]
  },
  {
   "cell_type": "code",
   "execution_count": 53,
   "id": "a7ade2a6",
   "metadata": {},
   "outputs": [],
   "source": [
    "# check entanglement\n",
    "\n",
    "# partial trace\n",
    "\n",
    "M_red = []\n",
    "for i in range(0,4):\n",
    "    for j in range(0, 4):\n",
    "        for k in range(0,4):\n",
    "            for l in range(0,4):\n",
    "                M_red.append(M[i,j,k,l]*matrix(np.outer(unitV(i), unitV(k)))*np.trace(np.outer(unitV(j), unitV(l))))"
   ]
  },
  {
   "cell_type": "code",
   "execution_count": 54,
   "id": "682144cf",
   "metadata": {},
   "outputs": [
    {
     "data": {
      "text/plain": [
       "0.25"
      ]
     },
     "execution_count": 54,
     "metadata": {},
     "output_type": "execute_result"
    }
   ],
   "source": [
    "# trace of subsystem\n",
    "\n",
    "np.trace(matrix(sum(M_red))**2)"
   ]
  },
  {
   "cell_type": "code",
   "execution_count": 669,
   "id": "185a7055",
   "metadata": {},
   "outputs": [
    {
     "data": {
      "text/plain": [
       "[ 1  1 -1 -1 -1  1 -1 -1 -1 -1 -1  1  1  1  1 -1]\n",
       "[-1  1  1  1 -1  1  1 -1 -1 -1  1 -1  1 -1 -1 -1]\n",
       "[-1  1 -1 -1  1 -1  1  1 -1 -1 -1 -1 -1 -1  1 -1]\n",
       "[ 1 -1 -1 -1 -1 -1  1 -1  1  1  1 -1  1 -1  1 -1]\n",
       "[ 1 -1 -1  1  1  1  1 -1 -1  1 -1 -1 -1  1 -1 -1]\n",
       "[ 1  1 -1  1 -1 -1  1  1  1 -1 -1 -1  1  1 -1  1]\n",
       "[-1 -1 -1  1 -1 -1 -1  1 -1  1 -1  1  1 -1 -1 -1]\n",
       "[-1 -1  1 -1 -1  1  1  1 -1  1 -1 -1  1  1  1  1]\n",
       "[ 1  1  1  1 -1  1  1  1  1  1 -1  1 -1 -1  1 -1]\n",
       "[-1  1 -1 -1 -1  1 -1  1  1  1  1 -1 -1  1 -1 -1]\n",
       "[ 1 -1 -1 -1 -1  1  1  1 -1 -1  1  1 -1 -1 -1  1]\n",
       "[-1  1 -1 -1  1  1  1 -1  1  1 -1  1  1 -1 -1  1]\n",
       "[ 1 -1  1 -1  1  1 -1  1  1 -1 -1 -1  1 -1 -1 -1]\n",
       "[ 1  1  1 -1 -1 -1 -1 -1 -1  1 -1 -1 -1 -1 -1  1]\n",
       "[ 1  1 -1  1  1  1 -1  1 -1  1  1 -1  1 -1  1  1]\n",
       "[ 1  1  1 -1  1 -1  1  1 -1  1  1  1  1  1 -1 -1]"
      ]
     },
     "execution_count": 669,
     "metadata": {},
     "output_type": "execute_result"
    }
   ],
   "source": [
    "Unew"
   ]
  },
  {
   "cell_type": "code",
   "execution_count": 675,
   "id": "d196f154",
   "metadata": {},
   "outputs": [],
   "source": [
    "UT = np.array((1/4)*Unew).reshape((4,4,4,4))\n",
    "\n",
    "# Construct all possible rearrangements of the entries of U'\n",
    "# I. e. partion the set of 6 indices into two sets of 3 indices\n",
    "\n",
    "\n",
    "U_R_1 = np.zeros((16,16))\n",
    "U_R_2 = np.zeros((16,16))\n",
    "U_G_1 = np.zeros((16,16))\n",
    "U_G_2 = np.zeros((16,16))\n",
    "\n",
    "\n",
    "\n",
    "\n",
    "for i in range(0,4):\n",
    "    for j in range(0,4):\n",
    "        for k in range(0,4):\n",
    "            for l in range(0,4):\n",
    "                        a = 4*i + j \n",
    "                        b = 4*l + k\n",
    "                        U_R_1[a,b] = UT[l,j,k,i] # {6,2,3} U {4,5,1}  \n",
    "                        \n",
    "                        U_R_2[a,b] = UT[i,k,j,l] # {5,2,3} U {4,1,6}\n",
    "                    \n",
    "                        U_G_1[a,b] = UT[k,j,i,l] # {4,2,3} U {1,5,6}\n",
    "                        \n",
    "                        U_G_2[a,b] = UT[i,l,k,j] # {1,4,3} U {2,5,6}\n",
    "                        \n",
    "                        \n",
    "rearr = [U_R_1,U_R_2,U_G_1,U_G_2]\n",
    "\n",
    "U_rearr = [Matrix(V) for V in rearr]\n",
    "\n"
   ]
  },
  {
   "cell_type": "code",
   "execution_count": 141,
   "id": "dffe720b",
   "metadata": {},
   "outputs": [],
   "source": [
    "# 4-unitary?\n",
    "\n",
    "UT = np.array(Up).reshape((2,2,2,2,2,2,2,2))\n",
    "\n",
    "# Construct all possible rearrangements of the entries of U'\n",
    "# I. e. partion the set of 6 indices into two sets of 3 indices\n",
    "\n",
    "\n",
    "U_R_1 = np.zeros((2,2,2,2,2,2,2,2))\n",
    "U_R_2 = np.zeros((2,2,2,2,2,2,2,2))\n",
    "U_G_1 = np.zeros((2,2,2,2,2,2,2,2))\n",
    "U_G_2 = np.zeros((2,2,2,2,2,2,2,2))\n",
    "\n",
    "U_R_3 = np.zeros((2,2,2,2,2,2,2,2))\n",
    "U_R_4 = np.zeros((2,2,2,2,2,2,2,2))\n",
    "U_G_3 = np.zeros((2,2,2,2,2,2,2,2))\n",
    "U_G_4 = np.zeros((2,2,2,2,2,2,2,2))\n",
    "\n",
    "U_R_5 = np.zeros((2,2,2,2,2,2,2,2))\n",
    "U_R_6 = np.zeros((2,2,2,2,2,2,2,2))\n",
    "U_R_7 = np.zeros((2,2,2,2,2,2,2,2))\n",
    "U_R_8 = np.zeros((2,2,2,2,2,2,2,2))\n",
    "U_R_9 = np.zeros((2,2,2,2,2,2,2,2))\n",
    "U_R_10 = np.zeros((2,2,2,2,2,2,2,2))\n",
    "U_R_11 = np.zeros((2,2,2,2,2,2,2,2))\n",
    "U_R_12 = np.zeros((2,2,2,2,2,2,2,2))\n",
    "\n",
    "\n",
    "\n",
    "\n",
    "for i in range(0,2):\n",
    "    for j in range(0,2):\n",
    "        for k in range(0,2):\n",
    "            for l in range(0,2):\n",
    "                for m in range(0,2):\n",
    "                    for n in range(0,2):\n",
    "                        for o in range(0,2):\n",
    "                            for p in range(0,2):\n",
    "                                U_R_1[i,j,k,l,m,n,o,p] = UT[n,j,k,l,m,i,o,p] # {6,2,3} U {4,5,1}  \n",
    "                        \n",
    "                                U_R_2[i,j,k,l,m,n,o,p] = UT[o,j,k,l,m,n,i,p] # {5,2,3} U {4,1,6}\n",
    "                    \n",
    "                                U_R_3[i,j,k,l,m,n,o,p] = UT[p,j,k,l,m,n,o,i] # {4,2,3} U {1,5,6}\n",
    "                        \n",
    "                                U_R_4[i,j,k,l,m,n,o,p] = UT[i,m,k,l,j,n,o,p] # {6,2,3} U {4,5,1}  \n",
    "                        \n",
    "                                U_R_5[i,j,k,l,m,n,o,p] = UT[i,o,k,l,m,n,j,p] # {5,2,3} U {4,1,6}\n",
    "                    \n",
    "                                U_R_6[i,j,k,l,m,n,o,p] = UT[i,p,k,l,m,n,o,j] # {4,2,3} U {1,5,6}\n",
    "                                \n",
    "                                U_R_7[i,j,k,l,m,n,o,p] = UT[i,j,m,l,k,n,o,p] # {6,2,3} U {4,5,1}  \n",
    "                        \n",
    "                                U_R_8[i,j,k,l,m,n,o,p] = UT[i,j,n,l,m,k,o,p] # {5,2,3} U {4,1,6}\n",
    "                    \n",
    "                                U_R_9[i,j,k,l,m,n,o,p] = UT[i,j,p,l,m,n,o,k] # {4,2,3} U {1,5,6}\n",
    "                        \n",
    "                                U_R_10[i,j,k,l,m,n,o,p] = UT[i,j,k,m,l,n,o,p] # {6,2,3} U {4,5,1}  \n",
    "                        \n",
    "                                U_R_11[i,j,k,l,m,n,o,p] = UT[i,j,k,n,m,l,o,p] # {5,2,3} U {4,1,6}\n",
    "                    \n",
    "                                U_R_12[i,j,k,l,m,n,o,p] = UT[i,j,k,o,m,n,l,p] # {4,2,3} U {1,5,6}\n",
    "                        \n",
    "                                U_G_1[i,j,k,l,m,n,o,p] = UT[m,j,k,l, i, n, o ,p] # {1,4,3} U {2,5,6}\n",
    "                                \n",
    "                                U_G_2[i,j,k,l,m,n,o,p] = UT[i,n,k,l, m, j, o ,p] # {1,4,3} U {2,5,6}\n",
    "                                \n",
    "                                U_G_3[i,j,k,l,m,n,o,p] = UT[i,j,o,l, m, n, k ,p] # {1,4,3} U {2,5,6}\n",
    "                                \n",
    "                                U_G_4[i,j,k,l,m,n,o,p] = UT[i,j,k,p, m, n, o ,l] # {1,4,3} U {2,5,6}\n",
    "                        \n",
    "                        \n",
    "rearr = [U_R_1,U_R_2,U_R_3,U_R_4,U_R_5,U_R_6,U_R_7,U_R_8,U_R_9,U_R_10,U_R_11,U_R_12,U_G_1,U_G_2, U_G_3,U_G_4 ]\n",
    "\n",
    "U_rearr = [Matrix(np.array(V).reshape((16,16))) for V in rearr]\n"
   ]
  },
  {
   "cell_type": "code",
   "execution_count": 142,
   "id": "e5afc4d9",
   "metadata": {},
   "outputs": [
    {
     "name": "stdout",
     "output_type": "stream",
     "text": [
      "False\n",
      "False\n",
      "False\n",
      "False\n",
      "False\n",
      "False\n",
      "False\n",
      "False\n",
      "False\n",
      "False\n",
      "False\n",
      "False\n",
      "False\n",
      "False\n",
      "False\n",
      "False\n"
     ]
    }
   ],
   "source": [
    "# Test if all rearrangements are unitary\n",
    "\n",
    "for V in U_rearr:\n",
    "    print(is_unitary(V))"
   ]
  },
  {
   "cell_type": "code",
   "execution_count": 144,
   "id": "8625d542",
   "metadata": {},
   "outputs": [
    {
     "name": "stdout",
     "output_type": "stream",
     "text": [
      "True\n",
      "True\n",
      "True\n",
      "True\n"
     ]
    }
   ],
   "source": [
    "# Define delocalised subalgebra\n",
    "\n",
    "AL_2= [M16(U_2_2*L[i]*U_2_2.conjugate_transpose()) for i in range(0,16)]\n",
    "\n",
    "AL_1= [M16(U_2_1*L[i]*U_2_1.conjugate_transpose()) for i in range(0,16)]\n",
    "\n",
    "\n",
    "AR_1= [M16(U_2_1*R[i]*U_2_1.conjugate_transpose()) for i in range(0,16)]\n",
    "\n",
    "AR_2= [M16(U_2_2*R[i]*U_2_2.conjugate_transpose()) for i in range(0,16)]\n",
    "\n",
    "\n",
    "\n",
    "AL_N= [M16(Up*L_2[i]*Up.conjugate_transpose()) for i in range(0,4)]\n",
    "\n",
    "\n",
    "AR_N= [M16(Up*R_2[i]*Up.conjugate_transpose()) for i in range(0,4)]\n",
    "\n",
    "AM1_N= [M16(Up*M1[i]*Up.conjugate_transpose()) for i in range(0,4)]\n",
    "\n",
    "AM2_N= [M16(Up*M2[i]*Up.conjugate_transpose()) for i in range(0,4)]\n",
    "\n",
    "\n",
    "rotated_subal = [AL_1, AL_2, AL_N, AR_1, AR_2, AR_N]\n",
    "\n",
    "rotated_subal_2 = [ AL_N, AR_N, AM1_N, AM2_N]\n",
    "\n",
    "rotated_subal_dic = {0 : \"AL_1\", 1 : \"AL_2\", 2 : \"AL_N\", 3: \"AR_1\", 4: \"AR_2\", 5: \"AR_N\"}\n",
    "\n",
    "# Test if all subalgebras are delocalised\n",
    "\n",
    "for A in rotated_subal_2:\n",
    "    print(is_delocalised(A, LocalSubal_2))"
   ]
  },
  {
   "cell_type": "code",
   "execution_count": 134,
   "id": "c8c7e280",
   "metadata": {},
   "outputs": [
    {
     "name": "stdout",
     "output_type": "stream",
     "text": [
      "AL_1 , AL_1   Equality: True   Commuting: False   Quasi-orthogonality: False \n",
      "\n",
      "AL_1 , AL_2   Equality: False   Commuting: False   Quasi-orthogonality: False \n",
      "\n",
      "AL_1 , AL_N   Equality: False   Commuting: False   Quasi-orthogonality: False \n",
      "\n",
      "AL_1 , AR_1   Equality: False   Commuting: True   Quasi-orthogonality: True \n",
      "\n",
      "AL_1 , AR_2   Equality: False   Commuting: False   Quasi-orthogonality: True \n",
      "\n",
      "AL_1 , AR_N   Equality: False   Commuting: False   Quasi-orthogonality: True \n",
      "\n",
      "AL_2 , AL_1   Equality: False   Commuting: False   Quasi-orthogonality: False \n",
      "\n",
      "AL_2 , AL_2   Equality: True   Commuting: False   Quasi-orthogonality: False \n",
      "\n",
      "AL_2 , AL_N   Equality: False   Commuting: False   Quasi-orthogonality: False \n",
      "\n",
      "AL_2 , AR_1   Equality: False   Commuting: False   Quasi-orthogonality: True \n",
      "\n",
      "AL_2 , AR_2   Equality: False   Commuting: True   Quasi-orthogonality: True \n",
      "\n",
      "AL_2 , AR_N   Equality: False   Commuting: True   Quasi-orthogonality: True \n",
      "\n",
      "AL_N , AL_1   Equality: False   Commuting: False   Quasi-orthogonality: False \n",
      "\n",
      "AL_N , AL_2   Equality: False   Commuting: False   Quasi-orthogonality: False \n",
      "\n",
      "AL_N , AL_N   Equality: True   Commuting: False   Quasi-orthogonality: False \n",
      "\n",
      "AL_N , AR_1   Equality: False   Commuting: False   Quasi-orthogonality: True \n",
      "\n",
      "AL_N , AR_2   Equality: False   Commuting: True   Quasi-orthogonality: True \n",
      "\n",
      "AL_N , AR_N   Equality: False   Commuting: True   Quasi-orthogonality: True \n",
      "\n",
      "AR_1 , AL_1   Equality: False   Commuting: True   Quasi-orthogonality: True \n",
      "\n",
      "AR_1 , AL_2   Equality: False   Commuting: False   Quasi-orthogonality: True \n",
      "\n",
      "AR_1 , AL_N   Equality: False   Commuting: False   Quasi-orthogonality: True \n",
      "\n",
      "AR_1 , AR_1   Equality: True   Commuting: False   Quasi-orthogonality: False \n",
      "\n",
      "AR_1 , AR_2   Equality: False   Commuting: False   Quasi-orthogonality: False \n",
      "\n",
      "AR_1 , AR_N   Equality: False   Commuting: False   Quasi-orthogonality: False \n",
      "\n",
      "AR_2 , AL_1   Equality: False   Commuting: False   Quasi-orthogonality: True \n",
      "\n",
      "AR_2 , AL_2   Equality: False   Commuting: True   Quasi-orthogonality: True \n",
      "\n",
      "AR_2 , AL_N   Equality: False   Commuting: True   Quasi-orthogonality: True \n",
      "\n",
      "AR_2 , AR_1   Equality: False   Commuting: False   Quasi-orthogonality: False \n",
      "\n",
      "AR_2 , AR_2   Equality: True   Commuting: False   Quasi-orthogonality: False \n",
      "\n",
      "AR_2 , AR_N   Equality: True   Commuting: False   Quasi-orthogonality: False \n",
      "\n",
      "AR_N , AL_1   Equality: False   Commuting: False   Quasi-orthogonality: True \n",
      "\n",
      "AR_N , AL_2   Equality: False   Commuting: True   Quasi-orthogonality: True \n",
      "\n",
      "AR_N , AL_N   Equality: False   Commuting: True   Quasi-orthogonality: True \n",
      "\n",
      "AR_N , AR_1   Equality: False   Commuting: False   Quasi-orthogonality: False \n",
      "\n",
      "AR_N , AR_2   Equality: True   Commuting: False   Quasi-orthogonality: False \n",
      "\n",
      "AR_N , AR_N   Equality: True   Commuting: False   Quasi-orthogonality: False \n",
      "\n"
     ]
    }
   ],
   "source": [
    "quasi_orth_pairs = []\n",
    "\n",
    "for i in range(0, len(rotated_subal)):\n",
    "    for j in range(0, len(rotated_subal)):\n",
    "        print(rotated_subal_dic[i], \",\", rotated_subal_dic[j], \" \", \"Equality:\", rotated_subal[i] == rotated_subal[j], \" \",  \"Commuting:\",commute(rotated_subal[i], rotated_subal[j]),  \" \", \"Quasi-orthogonality:\", is_quasi_orth(rotated_subal[i], rotated_subal[j]), \"\\n\")\n",
    "        if is_quasi_orth(rotated_subal[i], rotated_subal[j]):\n",
    "            quasi_orth_pairs.append([rotated_subal_dic[i], rotated_subal_dic[j]])\n",
    "            "
   ]
  },
  {
   "cell_type": "code",
   "execution_count": 135,
   "id": "aebe91de",
   "metadata": {},
   "outputs": [
    {
     "name": "stdout",
     "output_type": "stream",
     "text": [
      "AL_1   AR_1 \n",
      "\n",
      "AL_1   AR_2 \n",
      "\n",
      "AL_1   AR_N \n",
      "\n",
      "AL_2   AR_1 \n",
      "\n",
      "AL_2   AR_2 \n",
      "\n",
      "AL_2   AR_N \n",
      "\n",
      "AL_N   AR_1 \n",
      "\n",
      "AL_N   AR_2 \n",
      "\n",
      "AL_N   AR_N \n",
      "\n",
      "AR_1   AL_1 \n",
      "\n",
      "AR_1   AL_2 \n",
      "\n",
      "AR_1   AL_N \n",
      "\n",
      "AR_2   AL_1 \n",
      "\n",
      "AR_2   AL_2 \n",
      "\n",
      "AR_2   AL_N \n",
      "\n",
      "AR_N   AL_1 \n",
      "\n",
      "AR_N   AL_2 \n",
      "\n",
      "AR_N   AL_N \n",
      "\n"
     ]
    }
   ],
   "source": [
    "for element in quasi_orth_pairs:\n",
    "    print(element[0], \" \", element[1],  \"\\n\")"
   ]
  },
  {
   "cell_type": "code",
   "execution_count": null,
   "id": "4366de8e",
   "metadata": {},
   "outputs": [],
   "source": [
    "node = []\n",
    "for element1 in quasi_orth_pairs:\n",
    "    for element2 in quasi_orth_pairs:\n",
    "        if element1[0] == element2[0]:\n",
    "            node.append(element2[1])\n",
    "            "
   ]
  },
  {
   "cell_type": "code",
   "execution_count": 129,
   "id": "6571f1dd",
   "metadata": {},
   "outputs": [
    {
     "data": {
      "text/plain": [
       "1"
      ]
     },
     "execution_count": 129,
     "metadata": {},
     "output_type": "execute_result"
    }
   ],
   "source": [
    "i = 0\n",
    "\n",
    "for A in AL_N:\n",
    "    for B in AL_2:\n",
    "        if A ==B:\n",
    "            i+=1\n",
    "\n",
    "i"
   ]
  },
  {
   "cell_type": "code",
   "execution_count": 128,
   "id": "779c9e8a",
   "metadata": {},
   "outputs": [
    {
     "data": {
      "text/plain": [
       "False"
      ]
     },
     "execution_count": 128,
     "metadata": {},
     "output_type": "execute_result"
    }
   ],
   "source": [
    "AL_N == AL_2"
   ]
  },
  {
   "cell_type": "code",
   "execution_count": 105,
   "id": "81fb1d04",
   "metadata": {},
   "outputs": [],
   "source": [
    "AL_dic = []\n",
    "\n",
    "for M in AL_2:\n",
    "    for j in range(0,len(Basis)):\n",
    "        for k in range(0,len(Basis)):\n",
    "            if M == Basis[j].tensor_product(Basis[k]):\n",
    "                    AL_dic.append([Basis_dic[j], Basis_dic[k]])\n",
    "            \n",
    "            \n",
    "\n"
   ]
  },
  {
   "cell_type": "code",
   "execution_count": 130,
   "id": "93bebc1a",
   "metadata": {},
   "outputs": [
    {
     "data": {
      "text/plain": [
       "False"
      ]
     },
     "execution_count": 130,
     "metadata": {},
     "output_type": "execute_result"
    }
   ],
   "source": [
    "flag = true\n",
    "\n",
    "for A in AL_2:\n",
    "    for B in AL_N:\n",
    "        if (A*B != B*A):\n",
    "            flag = false\n",
    "            \n",
    "flag"
   ]
  },
  {
   "cell_type": "code",
   "execution_count": 104,
   "id": "8fb4fe21",
   "metadata": {},
   "outputs": [
    {
     "name": "stdout",
     "output_type": "stream",
     "text": [
      "Id4 Id4 \n",
      "\n",
      "X^2 X^2 \n",
      "\n"
     ]
    }
   ],
   "source": [
    "for M in AL_dic:\n",
    "    print(M[0], M[1], \"\\n\")"
   ]
  },
  {
   "cell_type": "code",
   "execution_count": 636,
   "id": "f378d6a5",
   "metadata": {},
   "outputs": [],
   "source": [
    "# 2**4 system\n",
    "Id8 = identity_matrix(8)\n",
    "Id2 = identity_matrix(2)\n",
    "X = M2([[0,1],[1,0]])\n",
    "Z =M2([[1,0],[0,-1]])\n",
    "\n",
    "Basis = [Id2, X, Z, X*Z]"
   ]
  },
  {
   "cell_type": "code",
   "execution_count": 109,
   "id": "e70f7b39",
   "metadata": {},
   "outputs": [
    {
     "ename": "ValueError",
     "evalue": "inconsistent number of rows: should be 16 but got 32",
     "output_type": "error",
     "traceback": [
      "\u001b[0;31m---------------------------------------------------------------------------\u001b[0m",
      "\u001b[0;31mValueError\u001b[0m                                Traceback (most recent call last)",
      "Cell \u001b[0;32mIn [109], line 1\u001b[0m\n\u001b[0;32m----> 1\u001b[0m L \u001b[38;5;241m=\u001b[39m [\u001b[43mM16\u001b[49m\u001b[43m(\u001b[49m\u001b[43mX\u001b[49m\u001b[38;5;241;43m.\u001b[39;49m\u001b[43mtensor_product\u001b[49m\u001b[43m(\u001b[49m\u001b[43mId8\u001b[49m\u001b[43m)\u001b[49m\u001b[43m)\u001b[49m, M16(Z\u001b[38;5;241m.\u001b[39mtensor_product(Id8)), M16((X\u001b[38;5;241m*\u001b[39mZ)\u001b[38;5;241m.\u001b[39mtensor_product(Id8)), M16(Id16)]\n\u001b[1;32m      3\u001b[0m R \u001b[38;5;241m=\u001b[39m [M16(Id8\u001b[38;5;241m.\u001b[39mtensor_product(X)), M16(Id8\u001b[38;5;241m.\u001b[39mtensor_product(Z)), M16(Id8\u001b[38;5;241m.\u001b[39mtensor_product(X\u001b[38;5;241m*\u001b[39mZ)), M16(Id16)]\n\u001b[1;32m      5\u001b[0m M1 \u001b[38;5;241m=\u001b[39m [M16(Id2\u001b[38;5;241m.\u001b[39mtensor_product(X\u001b[38;5;241m.\u001b[39mtensor_product(Id4))), M16(Id2\u001b[38;5;241m.\u001b[39mtensor_product(Z\u001b[38;5;241m.\u001b[39mtensor_product(Id4))), M16(Id2\u001b[38;5;241m.\u001b[39mtensor_product((X\u001b[38;5;241m*\u001b[39mZ)\u001b[38;5;241m.\u001b[39mtensor_product(Id4))), M16(Id16)]\n",
      "File \u001b[0;32m~/sage/src/sage/structure/parent.pyx:896\u001b[0m, in \u001b[0;36msage.structure.parent.Parent.__call__\u001b[0;34m()\u001b[0m\n\u001b[1;32m    894\u001b[0m if mor is not None:\n\u001b[1;32m    895\u001b[0m     if no_extra_args:\n\u001b[0;32m--> 896\u001b[0m         return mor._call_(x)\n\u001b[1;32m    897\u001b[0m     else:\n\u001b[1;32m    898\u001b[0m         return mor._call_with_args(x, args, kwds)\n",
      "File \u001b[0;32m~/sage/src/sage/structure/coerce_maps.pyx:161\u001b[0m, in \u001b[0;36msage.structure.coerce_maps.DefaultConvertMap_unique._call_\u001b[0;34m()\u001b[0m\n\u001b[1;32m    159\u001b[0m             print(type(C), C)\n\u001b[1;32m    160\u001b[0m             print(type(C._element_constructor), C._element_constructor)\n\u001b[0;32m--> 161\u001b[0m         raise\n\u001b[1;32m    162\u001b[0m \n\u001b[1;32m    163\u001b[0m cpdef Element _call_with_args(self, x, args=(), kwds={}):\n",
      "File \u001b[0;32m~/sage/src/sage/structure/coerce_maps.pyx:156\u001b[0m, in \u001b[0;36msage.structure.coerce_maps.DefaultConvertMap_unique._call_\u001b[0;34m()\u001b[0m\n\u001b[1;32m    154\u001b[0m cdef Parent C = self._codomain\n\u001b[1;32m    155\u001b[0m try:\n\u001b[0;32m--> 156\u001b[0m     return C._element_constructor(x)\n\u001b[1;32m    157\u001b[0m except Exception:\n\u001b[1;32m    158\u001b[0m     if print_warnings:\n",
      "File \u001b[0;32m~/sage/src/sage/matrix/matrix_space.py:930\u001b[0m, in \u001b[0;36mMatrixSpace._element_constructor_\u001b[0;34m(self, entries, **kwds)\u001b[0m\n\u001b[1;32m    820\u001b[0m \u001b[38;5;28;01mdef\u001b[39;00m \u001b[38;5;21m_element_constructor_\u001b[39m(\u001b[38;5;28mself\u001b[39m, entries, \u001b[38;5;241m*\u001b[39m\u001b[38;5;241m*\u001b[39mkwds):\n\u001b[1;32m    821\u001b[0m     \u001b[38;5;124;03m\"\"\"\u001b[39;00m\n\u001b[1;32m    822\u001b[0m \u001b[38;5;124;03m    Construct an element of ``self`` from ``entries``.\u001b[39;00m\n\u001b[1;32m    823\u001b[0m \n\u001b[0;32m   (...)\u001b[0m\n\u001b[1;32m    928\u001b[0m \u001b[38;5;124;03m        False\u001b[39;00m\n\u001b[1;32m    929\u001b[0m \u001b[38;5;124;03m    \"\"\"\u001b[39;00m\n\u001b[0;32m--> 930\u001b[0m     \u001b[38;5;28;01mreturn\u001b[39;00m \u001b[38;5;28;43mself\u001b[39;49m\u001b[38;5;241;43m.\u001b[39;49m\u001b[43melement_class\u001b[49m\u001b[43m(\u001b[49m\u001b[38;5;28;43mself\u001b[39;49m\u001b[43m,\u001b[49m\u001b[43m \u001b[49m\u001b[43mentries\u001b[49m\u001b[43m,\u001b[49m\u001b[43m \u001b[49m\u001b[38;5;241;43m*\u001b[39;49m\u001b[38;5;241;43m*\u001b[39;49m\u001b[43mkwds\u001b[49m\u001b[43m)\u001b[49m\n",
      "File \u001b[0;32m~/sage/src/sage/matrix/matrix_cyclo_dense.pyx:155\u001b[0m, in \u001b[0;36msage.matrix.matrix_cyclo_dense.Matrix_cyclo_dense.__init__\u001b[0;34m()\u001b[0m\n\u001b[1;32m    153\u001b[0m     [2 3]\n\u001b[1;32m    154\u001b[0m \"\"\"\n\u001b[0;32m--> 155\u001b[0m ma = MatrixArgs_init(parent, entries)\n\u001b[1;32m    156\u001b[0m cdef list L = []\n\u001b[1;32m    157\u001b[0m for x in ma.iter(coerce):\n",
      "File \u001b[0;32m~/sage/src/sage/matrix/args.pyx:1340\u001b[0m, in \u001b[0;36msage.matrix.args.MatrixArgs_init\u001b[0;34m()\u001b[0m\n\u001b[1;32m   1338\u001b[0m     ret.entries = entries\n\u001b[1;32m   1339\u001b[0m ret.set_space(space)\n\u001b[0;32m-> 1340\u001b[0m ret.finalize()\n\u001b[1;32m   1341\u001b[0m return ret\n",
      "File \u001b[0;32m~/sage/src/sage/matrix/args.pyx:890\u001b[0m, in \u001b[0;36msage.matrix.args.MatrixArgs.finalize\u001b[0;34m()\u001b[0m\n\u001b[1;32m    888\u001b[0m if self.typ == MA_ENTRIES_MATRIX:\n\u001b[1;32m    889\u001b[0m     m = <Matrix>self.entries\n\u001b[0;32m--> 890\u001b[0m     self.set_nrows(m._nrows)\n\u001b[1;32m    891\u001b[0m     self.set_ncols(m._ncols)\n\u001b[1;32m    892\u001b[0m     self.setdefault_base(m._parent._base)\n",
      "File \u001b[0;32m~/sage/src/sage/matrix/args.pxd:104\u001b[0m, in \u001b[0;36msage.matrix.args.MatrixArgs.set_nrows\u001b[0;34m()\u001b[0m\n\u001b[1;32m    102\u001b[0m cdef long p = self.nrows\n\u001b[1;32m    103\u001b[0m if p != -1 and p != n:\n\u001b[0;32m--> 104\u001b[0m     raise ValueError(f\"inconsistent number of rows: should be {p} but got {n}\")\n\u001b[1;32m    105\u001b[0m self.nrows = n\n\u001b[1;32m    106\u001b[0m \n",
      "\u001b[0;31mValueError\u001b[0m: inconsistent number of rows: should be 16 but got 32"
     ]
    }
   ],
   "source": [
    "L = [M16(X_2.tensor_product(Id8)), M16(Z_2.tensor_product(Id8)), M16((X*Z).tensor_product(Id8)), M16(Id16)]\n",
    "\n",
    "R = [M16(Id8.tensor_product(X)), M16(Id8.tensor_product(Z)), M16(Id8.tensor_product(X*Z)), M16(Id16)]\n",
    "\n",
    "M1 = [M16(Id2.tensor_product(X.tensor_product(Id4))), M16(Id2.tensor_product(Z.tensor_product(Id4))), M16(Id2.tensor_product((X*Z).tensor_product(Id4))), M16(Id16)]\n",
    "\n",
    "M2 = [M16(Id4.tensor_product(X.tensor_product(Id2))), M16(Id4.tensor_product(Z.tensor_product(Id2))), M16(Id4.tensor_product((X*Z).tensor_product(Id2))), M16(Id16)]\n",
    "\n",
    "LocalSubal = [L, R, M1, M2]"
   ]
  },
  {
   "cell_type": "code",
   "execution_count": 108,
   "id": "057585a7",
   "metadata": {},
   "outputs": [
    {
     "name": "stdout",
     "output_type": "stream",
     "text": [
      "True\n",
      "True\n",
      "True\n",
      "True\n"
     ]
    }
   ],
   "source": [
    "# Define delocalised subalgebra\n",
    "\n",
    "AL= [M16(Up*L[i]*Up.conjugate_transpose()) for i in range(0,4)]\n",
    "\n",
    "AR= [M16(Up*R[i]*Up.conjugate_transpose()) for i in range(0,4)]\n",
    "\n",
    "AM1= [M16(Up*M1[i]*Up.conjugate_transpose()) for i in range(0,4)]\n",
    "\n",
    "AM2= [M16(Up*M2[i]*Up.conjugate_transpose()) for i in range(0,4)]\n",
    "\n",
    "rotated_subal = [AL,AR, AM1, AM2]\n",
    "\n",
    "# Test if all subalgebras are delocalised\n",
    "\n",
    "for A in rotated_subal:\n",
    "    print(is_delocalised(A, LocalSubal_2))"
   ]
  },
  {
   "cell_type": "code",
   "execution_count": null,
   "id": "afb7b7c0",
   "metadata": {},
   "outputs": [],
   "source": []
  }
 ],
 "metadata": {
  "kernelspec": {
   "display_name": "SageMath 10.0.beta5",
   "language": "sage",
   "name": "sagemath"
  },
  "language_info": {
   "codemirror_mode": {
    "name": "ipython",
    "version": 3
   },
   "file_extension": ".py",
   "mimetype": "text/x-python",
   "name": "python",
   "nbconvert_exporter": "python",
   "pygments_lexer": "ipython3",
   "version": "3.9.1"
  }
 },
 "nbformat": 4,
 "nbformat_minor": 5
}
