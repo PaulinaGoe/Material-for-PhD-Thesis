{
 "cells": [
  {
   "cell_type": "code",
   "execution_count": 2,
   "id": "8cc5ed27",
   "metadata": {},
   "outputs": [],
   "source": [
    "import numpy as np"
   ]
  },
  {
   "cell_type": "markdown",
   "id": "93717c0a",
   "metadata": {},
   "source": [
    " Fix dimension (m has to be an odd integer):"
   ]
  },
  {
   "cell_type": "code",
   "execution_count": 104,
   "id": "3d731548",
   "metadata": {},
   "outputs": [],
   "source": [
    "m= 3"
   ]
  },
  {
   "cell_type": "markdown",
   "id": "b0f19a10",
   "metadata": {},
   "source": [
    "Define base fields and matrix spaces over these fields:"
   ]
  },
  {
   "cell_type": "code",
   "execution_count": 105,
   "id": "0773e6f0",
   "metadata": {},
   "outputs": [],
   "source": [
    "F2m = GF(2^m)\n",
    "F22 = GF(2^2)\n",
    "F22m = GF(2^(2*m))\n",
    "F2 = GF(2)\n",
    "M = MatrixSpace(F2, m,m)\n",
    "Mm = MatrixSpace(F2m, m,m)"
   ]
  },
  {
   "cell_type": "markdown",
   "id": "df693405",
   "metadata": {},
   "source": [
    "Define normal basis $\\alpha$ and its generator $\\alpha_0$ using GAP:"
   ]
  },
  {
   "cell_type": "code",
   "execution_count": 106,
   "id": "0b5b331b",
   "metadata": {},
   "outputs": [
    {
     "data": {
      "text/plain": [
       "[z3 + 1, z3^2 + 1, z3^2 + z3 + 1]"
      ]
     },
     "execution_count": 106,
     "metadata": {},
     "output_type": "execute_result"
    }
   ],
   "source": [
    "# normal basis\n",
    "\n",
    "alpha = [F2m(element) for element in list(gap(F2m).NormalBase())]\n",
    "\n",
    "alpha"
   ]
  },
  {
   "cell_type": "code",
   "execution_count": 107,
   "id": "546e019c",
   "metadata": {},
   "outputs": [
    {
     "data": {
      "text/plain": [
       "z3 + 1"
      ]
     },
     "execution_count": 107,
     "metadata": {},
     "output_type": "execute_result"
    }
   ],
   "source": [
    "# generator\n",
    "\n",
    "alpha_0 = alpha[0]\n",
    "\n",
    "alpha_0"
   ]
  },
  {
   "cell_type": "markdown",
   "id": "e9dd46ee",
   "metadata": {},
   "source": [
    "The following function takes as input an element $\\mathbb{F}_{2^m}$ and and integer $m$ and outputs the trace of the field extension $\\mathbb{F}_{2^m}/\\mathbb{F}_{2}$:"
   ]
  },
  {
   "cell_type": "code",
   "execution_count": 108,
   "id": "0cebc986",
   "metadata": {},
   "outputs": [],
   "source": [
    "def trace(element, dim):\n",
    "    return sum([element**(2**i) for i in range(0,dim)])"
   ]
  },
  {
   "cell_type": "markdown",
   "id": "fd3c9cb8",
   "metadata": {},
   "source": [
    "Define permutation matrix $S$:"
   ]
  },
  {
   "cell_type": "code",
   "execution_count": 109,
   "id": "dadc74a3",
   "metadata": {},
   "outputs": [
    {
     "data": {
      "text/plain": [
       "[0 1 0]\n",
       "[0 0 1]\n",
       "[1 0 0]"
      ]
     },
     "execution_count": 109,
     "metadata": {},
     "output_type": "execute_result"
    }
   ],
   "source": [
    "def S(dim):\n",
    "    l = []\n",
    "    for i in range(0,dim):\n",
    "        for j in range(0,dim):\n",
    "            if i == mod(j-1,dim):\n",
    "                l.append(1)\n",
    "            else:\n",
    "                l.append(0)\n",
    "    return(M(np.array(l).reshape((dim,dim))))\n",
    "    \n",
    "# test\n",
    "\n",
    "S(m)"
   ]
  },
  {
   "cell_type": "markdown",
   "id": "802c4d2d",
   "metadata": {},
   "source": [
    "Define matrix $A = \\mathrm{tr}(\\alpha \\alpha')$:"
   ]
  },
  {
   "cell_type": "code",
   "execution_count": 110,
   "id": "ed9b2eaa",
   "metadata": {},
   "outputs": [],
   "source": [
    "def A(dim,Basis):\n",
    "    a_prime = list(vector(Basis)*S(dim))\n",
    "    return Matrix([[trace(element1*element2,dim) for element1 in Basis]for element2 in a_prime])\n",
    "\n",
    "A = A(m, alpha)"
   ]
  },
  {
   "cell_type": "code",
   "execution_count": 111,
   "id": "61d780dc",
   "metadata": {},
   "outputs": [
    {
     "data": {
      "text/plain": [
       "[0 0 1]\n",
       "[1 0 0]\n",
       "[0 1 0]"
      ]
     },
     "execution_count": 111,
     "metadata": {},
     "output_type": "execute_result"
    }
   ],
   "source": [
    "A"
   ]
  },
  {
   "cell_type": "markdown",
   "id": "b2eb6f55",
   "metadata": {},
   "source": [
    "Compute inverse $A^{-1}$:"
   ]
  },
  {
   "cell_type": "code",
   "execution_count": 112,
   "id": "b9c2b5fe",
   "metadata": {},
   "outputs": [
    {
     "data": {
      "text/plain": [
       "[0 1 0]\n",
       "[0 0 1]\n",
       "[1 0 0]"
      ]
     },
     "execution_count": 112,
     "metadata": {},
     "output_type": "execute_result"
    }
   ],
   "source": [
    "A_inv = A.inverse()\n",
    "A_inv"
   ]
  },
  {
   "cell_type": "markdown",
   "id": "3ee11587",
   "metadata": {},
   "source": [
    "Define matrix $D = \\sum_{i=0}^{n-1} \\alpha_0^{2^i} S^i$:"
   ]
  },
  {
   "cell_type": "code",
   "execution_count": 113,
   "id": "5039e000",
   "metadata": {},
   "outputs": [
    {
     "data": {
      "text/plain": [
       "[       z3 + 1      z3^2 + 1 z3^2 + z3 + 1]\n",
       "[z3^2 + z3 + 1        z3 + 1      z3^2 + 1]\n",
       "[     z3^2 + 1 z3^2 + z3 + 1        z3 + 1]"
      ]
     },
     "execution_count": 113,
     "metadata": {},
     "output_type": "execute_result"
    }
   ],
   "source": [
    "def D(element, perm, dim):\n",
    "    return Matrix(sum([ (element**(2**j))*(perm**j) for j in range(0,dim) ]))\n",
    "\n",
    "D(alpha_0, S(m), m)"
   ]
  },
  {
   "cell_type": "markdown",
   "id": "2c5830cd",
   "metadata": {},
   "source": [
    "Define $\\omega = (D^2)_{0,0}$:"
   ]
  },
  {
   "cell_type": "code",
   "execution_count": 114,
   "id": "5daf8bc2",
   "metadata": {},
   "outputs": [
    {
     "data": {
      "text/plain": [
       "z3^2 + 1"
      ]
     },
     "execution_count": 114,
     "metadata": {},
     "output_type": "execute_result"
    }
   ],
   "source": [
    "w = (D(alpha_0, S(m), m)**2)[0,0]\n",
    "\n",
    "w"
   ]
  },
  {
   "cell_type": "markdown",
   "id": "b0f33e1e",
   "metadata": {},
   "source": [
    "Define vector $\\mathbf{\\omega} = ((D^2)_{0,i})_{i\\in [n]}$:"
   ]
  },
  {
   "cell_type": "code",
   "execution_count": 115,
   "id": "c426776c",
   "metadata": {},
   "outputs": [
    {
     "data": {
      "text/plain": [
       "[z3^2 + 1, z3 + 1, z3^2 + z3 + 1]"
      ]
     },
     "execution_count": 115,
     "metadata": {},
     "output_type": "execute_result"
    }
   ],
   "source": [
    "omega = [(D(alpha_0, S(m), m)**2)[0,i] for i in range(0,m) ]\n",
    "   \n",
    "omega            "
   ]
  },
  {
   "cell_type": "markdown",
   "id": "aa733da8",
   "metadata": {},
   "source": [
    "Now a self-complementary normal basis can be computed via: $\\Gamma = \\mathbf{\\omega}\\cdot\n",
    "A^{-1}$."
   ]
  },
  {
   "cell_type": "code",
   "execution_count": 116,
   "id": "7ac42b99",
   "metadata": {},
   "outputs": [
    {
     "data": {
      "text/plain": [
       "[z3^2 + z3 + 1, z3^2 + 1, z3 + 1]"
      ]
     },
     "execution_count": 116,
     "metadata": {},
     "output_type": "execute_result"
    }
   ],
   "source": [
    "SCN = list(vector(omega)*A_inv)\n",
    "\n",
    "SCN"
   ]
  },
  {
   "cell_type": "markdown",
   "id": "e7d007e4",
   "metadata": {},
   "source": [
    "Verify that basis is equal to dual basis, i. e. self-complementary:"
   ]
  },
  {
   "cell_type": "code",
   "execution_count": 117,
   "id": "b959871b",
   "metadata": {},
   "outputs": [
    {
     "data": {
      "text/plain": [
       "True"
      ]
     },
     "execution_count": 117,
     "metadata": {},
     "output_type": "execute_result"
    }
   ],
   "source": [
    "F2m.dual_basis(SCN) == SCN"
   ]
  },
  {
   "cell_type": "markdown",
   "id": "42191e95",
   "metadata": {},
   "source": [
    "Extend the basis to the field $\\mathbb{F}_{2^{2m}}$. For this take a random element $a \\in \\mathbb{F}_{2^{2}}$ and compute its square:"
   ]
  },
  {
   "cell_type": "code",
   "execution_count": 118,
   "id": "111160d8",
   "metadata": {},
   "outputs": [
    {
     "data": {
      "text/plain": [
       "[z2, z2 + 1]"
      ]
     },
     "execution_count": 118,
     "metadata": {},
     "output_type": "execute_result"
    }
   ],
   "source": [
    "extension = []\n",
    "for element in F22:\n",
    "    if F22(trace(element,2))==1:\n",
    "        extension.append(element)\n",
    "        extension.append(element**2)\n",
    "        break\n",
    "\n",
    "extension"
   ]
  },
  {
   "cell_type": "markdown",
   "id": "6e9b40ab",
   "metadata": {},
   "source": [
    "Extend SCN basis by multiplying $\\{ a, a^2 \\}$ and $\\alpha$:"
   ]
  },
  {
   "cell_type": "code",
   "execution_count": 119,
   "id": "d9a75c5f",
   "metadata": {},
   "outputs": [],
   "source": [
    "SCN_even = flatten([[ F22m(element1*element2) for element1 in extension ]for element2 in SCN])"
   ]
  },
  {
   "cell_type": "code",
   "execution_count": 120,
   "id": "a88d52e4",
   "metadata": {},
   "outputs": [
    {
     "data": {
      "text/plain": [
       "[z6^3,\n",
       " z6^5 + z6^3 + z6 + 1,\n",
       " z6^5 + z6^3 + 1,\n",
       " z6^5 + z6^4 + z6^3 + z6^2 + z6 + 1,\n",
       " z6^5 + z6^3 + z6^2 + z6 + 1,\n",
       " z6^4 + z6^3 + z6 + 1]"
      ]
     },
     "execution_count": 120,
     "metadata": {},
     "output_type": "execute_result"
    }
   ],
   "source": [
    "SCN_even"
   ]
  },
  {
   "cell_type": "markdown",
   "id": "942d172d",
   "metadata": {},
   "source": [
    "Check if it is self-complementary:"
   ]
  },
  {
   "cell_type": "code",
   "execution_count": 121,
   "id": "fc780396",
   "metadata": {},
   "outputs": [
    {
     "data": {
      "text/plain": [
       "True"
      ]
     },
     "execution_count": 121,
     "metadata": {},
     "output_type": "execute_result"
    }
   ],
   "source": [
    "SCN_even == F22m.dual_basis(SCN_even)"
   ]
  },
  {
   "cell_type": "markdown",
   "id": "dde72dbc",
   "metadata": {},
   "source": [
    "Now construct matrix with non-zero determinant. For this choose arbitrary element $\\beta \\in \\mathbb{F}_{2^m}$ such that $\\beta \\neq 1,0$:"
   ]
  },
  {
   "cell_type": "code",
   "execution_count": 122,
   "id": "10c26e7e",
   "metadata": {},
   "outputs": [
    {
     "data": {
      "text/plain": [
       "z3"
      ]
     },
     "execution_count": 122,
     "metadata": {},
     "output_type": "execute_result"
    }
   ],
   "source": [
    "for element in F2m:\n",
    "    if (element != 0 and element != 1):\n",
    "        beta = element\n",
    "        break\n",
    "\n",
    "        \n",
    "beta"
   ]
  },
  {
   "cell_type": "markdown",
   "id": "903ca290",
   "metadata": {},
   "source": [
    "Define matrix $G = \\mathrm{tr}(\\alpha_i \\beta \\alpha_j)$, where $\\alpha$ is a SCN basis:"
   ]
  },
  {
   "cell_type": "code",
   "execution_count": 123,
   "id": "8d821056",
   "metadata": {},
   "outputs": [],
   "source": [
    "def G(Basis, Beta, dim):\n",
    "    return matrix([[trace(element1*Beta*element2,dim) for element1 in Basis] for element2 in Basis])\n",
    " \n"
   ]
  },
  {
   "cell_type": "markdown",
   "id": "6f93f5fa",
   "metadata": {},
   "source": [
    "Construct $m \\times m$ - matrix using the SCN basis of $\\mathbb{F}_{2^{m}}/\\mathbb{F}_{2}$:"
   ]
  },
  {
   "cell_type": "code",
   "execution_count": 124,
   "id": "23361b2b",
   "metadata": {},
   "outputs": [],
   "source": [
    "G_odd = G(SCN, beta, m)\n",
    "\n"
   ]
  },
  {
   "cell_type": "markdown",
   "id": "15bcfadf",
   "metadata": {},
   "source": [
    "Construct $2m \\times 2m$ - matrix using the SCN basis of $\\mathbb{F}_{2^{2m}}/\\mathbb{F}_{2}$:"
   ]
  },
  {
   "cell_type": "code",
   "execution_count": 131,
   "id": "74125545",
   "metadata": {},
   "outputs": [
    {
     "data": {
      "text/plain": [
       "[0 0 1 0 0 0]\n",
       "[0 0 0 1 0 0]\n",
       "[1 0 1 0 1 0]\n",
       "[0 1 0 1 0 1]\n",
       "[0 0 1 0 1 0]\n",
       "[0 0 0 1 0 1]"
      ]
     },
     "execution_count": 131,
     "metadata": {},
     "output_type": "execute_result"
    }
   ],
   "source": [
    "G_even = G(SCN_even, beta, 2*m)\n",
    "\n",
    "G_even"
   ]
  },
  {
   "cell_type": "markdown",
   "id": "98a55db8",
   "metadata": {},
   "source": [
    "Define matrices \\begin{align}\n",
    "       N = \\begin{pmatrix}\n",
    "            G & \\mathbb{I}_n \\\\\n",
    "            \\mathbb{I}_n & G\n",
    "            \\end{pmatrix}\n",
    "\\quad \\text{and} \\quad \n",
    "     N +J = \\begin{pmatrix}\n",
    "            G & 0 \\\\\n",
    "            0 & G\n",
    "            \\end{pmatrix}.\n",
    "    \\end{align}"
   ]
  },
  {
   "cell_type": "code",
   "execution_count": 132,
   "id": "3ebfeecb",
   "metadata": {},
   "outputs": [],
   "source": [
    "def N(dim, matr):\n",
    "    return matrix(np.vstack((np.hstack((identity_matrix(dim), np.array(matr))), np.hstack(( np.array(matr), identity_matrix(dim) )))))"
   ]
  },
  {
   "cell_type": "markdown",
   "id": "c3e9d12d",
   "metadata": {},
   "source": [
    "Define the $2m \\times 2m$-matrix $N$ (odd case):"
   ]
  },
  {
   "cell_type": "code",
   "execution_count": 133,
   "id": "e084e02f",
   "metadata": {},
   "outputs": [
    {
     "data": {
      "text/plain": [
       "[1 0 0 0 1 0]\n",
       "[0 1 0 1 1 1]\n",
       "[0 0 1 0 1 1]\n",
       "[0 1 0 1 0 0]\n",
       "[1 1 1 0 1 0]\n",
       "[0 1 1 0 0 1]"
      ]
     },
     "execution_count": 133,
     "metadata": {},
     "output_type": "execute_result"
    }
   ],
   "source": [
    "N(m, G_odd)"
   ]
  },
  {
   "cell_type": "markdown",
   "id": "be8941f5",
   "metadata": {},
   "source": [
    "Check determinant:"
   ]
  },
  {
   "cell_type": "code",
   "execution_count": 134,
   "id": "046c77bd",
   "metadata": {},
   "outputs": [
    {
     "data": {
      "text/plain": [
       "1"
      ]
     },
     "execution_count": 134,
     "metadata": {},
     "output_type": "execute_result"
    }
   ],
   "source": [
    "N(m, G_odd).determinant()"
   ]
  },
  {
   "cell_type": "markdown",
   "id": "65886a7d",
   "metadata": {},
   "source": [
    "Define the $4m \\times 4m$-matrix $N'$ (even case):"
   ]
  },
  {
   "cell_type": "code",
   "execution_count": 135,
   "id": "4d902add",
   "metadata": {},
   "outputs": [
    {
     "data": {
      "text/plain": [
       "[1 0 0 0 0 0 0 0 1 0 0 0]\n",
       "[0 1 0 0 0 0 0 0 0 1 0 0]\n",
       "[0 0 1 0 0 0 1 0 1 0 1 0]\n",
       "[0 0 0 1 0 0 0 1 0 1 0 1]\n",
       "[0 0 0 0 1 0 0 0 1 0 1 0]\n",
       "[0 0 0 0 0 1 0 0 0 1 0 1]\n",
       "[0 0 1 0 0 0 1 0 0 0 0 0]\n",
       "[0 0 0 1 0 0 0 1 0 0 0 0]\n",
       "[1 0 1 0 1 0 0 0 1 0 0 0]\n",
       "[0 1 0 1 0 1 0 0 0 1 0 0]\n",
       "[0 0 1 0 1 0 0 0 0 0 1 0]\n",
       "[0 0 0 1 0 1 0 0 0 0 0 1]"
      ]
     },
     "execution_count": 135,
     "metadata": {},
     "output_type": "execute_result"
    }
   ],
   "source": [
    "N(2*m, G_even)"
   ]
  },
  {
   "cell_type": "markdown",
   "id": "a24955e9",
   "metadata": {},
   "source": [
    "Check determinant:"
   ]
  },
  {
   "cell_type": "code",
   "execution_count": 136,
   "id": "ce81c380",
   "metadata": {},
   "outputs": [
    {
     "data": {
      "text/plain": [
       "1"
      ]
     },
     "execution_count": 136,
     "metadata": {},
     "output_type": "execute_result"
    }
   ],
   "source": [
    "N(2*m, G_even).determinant()"
   ]
  },
  {
   "cell_type": "markdown",
   "id": "1913acfc",
   "metadata": {},
   "source": [
    "Define matrix $J$:"
   ]
  },
  {
   "cell_type": "code",
   "execution_count": 137,
   "id": "6e5e228f",
   "metadata": {},
   "outputs": [],
   "source": [
    "def J(dim):\n",
    "    return Matrix(F2, np.hstack((np.vstack((np.zeros((dim, dim)), -identity_matrix(dim))), np.vstack((identity_matrix(dim), np.zeros((dim, dim))))))) "
   ]
  },
  {
   "cell_type": "markdown",
   "id": "a51f5ace",
   "metadata": {},
   "source": [
    "Compute the $2m \\times 2m$-matrix $N+J$ (odd case):"
   ]
  },
  {
   "cell_type": "code",
   "execution_count": 138,
   "id": "dd64ef47",
   "metadata": {},
   "outputs": [
    {
     "data": {
      "text/plain": [
       "[1 0 0 1 1 0]\n",
       "[0 1 0 1 0 1]\n",
       "[0 0 1 0 1 0]\n",
       "[1 1 0 1 0 0]\n",
       "[1 0 1 0 1 0]\n",
       "[0 1 0 0 0 1]"
      ]
     },
     "execution_count": 138,
     "metadata": {},
     "output_type": "execute_result"
    }
   ],
   "source": [
    "N(m, G_odd)+ J(m)"
   ]
  },
  {
   "cell_type": "markdown",
   "id": "c1135c41",
   "metadata": {},
   "source": [
    "Check determinant:"
   ]
  },
  {
   "cell_type": "code",
   "execution_count": 139,
   "id": "8b55bfcc",
   "metadata": {},
   "outputs": [
    {
     "data": {
      "text/plain": [
       "1"
      ]
     },
     "execution_count": 139,
     "metadata": {},
     "output_type": "execute_result"
    }
   ],
   "source": [
    "(N(m, G_odd)+ J(m)).determinant()"
   ]
  },
  {
   "cell_type": "markdown",
   "id": "846daa85",
   "metadata": {},
   "source": [
    "Compute the $4m \\times 4m$-matrix $N+J$ (even case):"
   ]
  },
  {
   "cell_type": "code",
   "execution_count": 140,
   "id": "8fe6ed03",
   "metadata": {},
   "outputs": [
    {
     "data": {
      "text/plain": [
       "[1 0 0 0 0 0 1 0 1 0 0 0]\n",
       "[0 1 0 0 0 0 0 1 0 1 0 0]\n",
       "[0 0 1 0 0 0 1 0 0 0 1 0]\n",
       "[0 0 0 1 0 0 0 1 0 0 0 1]\n",
       "[0 0 0 0 1 0 0 0 1 0 0 0]\n",
       "[0 0 0 0 0 1 0 0 0 1 0 0]\n",
       "[1 0 1 0 0 0 1 0 0 0 0 0]\n",
       "[0 1 0 1 0 0 0 1 0 0 0 0]\n",
       "[1 0 0 0 1 0 0 0 1 0 0 0]\n",
       "[0 1 0 0 0 1 0 0 0 1 0 0]\n",
       "[0 0 1 0 0 0 0 0 0 0 1 0]\n",
       "[0 0 0 1 0 0 0 0 0 0 0 1]"
      ]
     },
     "execution_count": 140,
     "metadata": {},
     "output_type": "execute_result"
    }
   ],
   "source": [
    "N(2*m, G_even)+ J(2*m)"
   ]
  },
  {
   "cell_type": "markdown",
   "id": "d764e92d",
   "metadata": {},
   "source": [
    "Check determinant:"
   ]
  },
  {
   "cell_type": "code",
   "execution_count": 141,
   "id": "c0c2511d",
   "metadata": {},
   "outputs": [
    {
     "data": {
      "text/plain": [
       "1"
      ]
     },
     "execution_count": 141,
     "metadata": {},
     "output_type": "execute_result"
    }
   ],
   "source": [
    "(N(2*m, G_even)+ J(2*m)).determinant()"
   ]
  },
  {
   "cell_type": "code",
   "execution_count": 149,
   "id": "ae530243",
   "metadata": {},
   "outputs": [],
   "source": [
    "HG = groups.matrix.Heisenberg(n=2, R=GF(2))"
   ]
  },
  {
   "cell_type": "code",
   "execution_count": 150,
   "id": "b1e38324",
   "metadata": {},
   "outputs": [
    {
     "data": {
      "text/plain": [
       "Heisenberg group of degree 2 over Finite Field of size 2"
      ]
     },
     "execution_count": 150,
     "metadata": {},
     "output_type": "execute_result"
    }
   ],
   "source": [
    "HG"
   ]
  },
  {
   "cell_type": "code",
   "execution_count": null,
   "id": "c16ba68b",
   "metadata": {},
   "outputs": [],
   "source": []
  }
 ],
 "metadata": {
  "kernelspec": {
   "display_name": "SageMath 10.0.beta5",
   "language": "sage",
   "name": "sagemath"
  },
  "language_info": {
   "codemirror_mode": {
    "name": "ipython",
    "version": 3
   },
   "file_extension": ".py",
   "mimetype": "text/x-python",
   "name": "python",
   "nbconvert_exporter": "python",
   "pygments_lexer": "ipython3",
   "version": "3.9.1"
  }
 },
 "nbformat": 4,
 "nbformat_minor": 5
}
