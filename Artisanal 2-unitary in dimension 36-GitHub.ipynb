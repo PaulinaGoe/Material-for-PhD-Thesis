{
 "cells": [
  {
   "cell_type": "code",
   "execution_count": 1,
   "id": "090f6097",
   "metadata": {},
   "outputs": [],
   "source": [
    "import numpy as np\n",
    "import itertools\n",
    "import csv\n",
    "\n",
    "\n",
    "K.<w> = CyclotomicField(3)\n",
    "F.<f> = CyclotomicField(6)\n",
    "M9 = MatrixSpace(K, 9,9)\n",
    "M36 = MatrixSpace(K, 36,36)\n",
    "M27 = MatrixSpace(K, 27,27)\n",
    "\n",
    "V4 = MatrixSpace(K, 4,1)\n",
    "V3 = MatrixSpace(K, 3,1)\n",
    "V9= MatrixSpace(K, 9,1)"
   ]
  },
  {
   "cell_type": "code",
   "execution_count": 2,
   "id": "9af51be3",
   "metadata": {},
   "outputs": [
    {
     "data": {
      "text/plain": [
       "[2, 0]"
      ]
     },
     "execution_count": 2,
     "metadata": {},
     "output_type": "execute_result"
    }
   ],
   "source": [
    "# define chinese remainder isomorphism\n",
    "\n",
    "def chinese_rem(x):\n",
    "    return [mod(x,3), mod(x,2)]\n",
    "\n",
    "\n",
    "chinese_rem(2)\n",
    "\n"
   ]
  },
  {
   "cell_type": "code",
   "execution_count": 3,
   "id": "9d326d06",
   "metadata": {},
   "outputs": [
    {
     "data": {
      "text/plain": [
       "2"
      ]
     },
     "execution_count": 3,
     "metadata": {},
     "output_type": "execute_result"
    }
   ],
   "source": [
    "# define inverse chinese remainder isomorphism\n",
    "\n",
    "def inv_chinese_rem(k,x):\n",
    "    return mod(4*k + 3*x,6)\n",
    "\n",
    "inv_chinese_rem(2,0)"
   ]
  },
  {
   "cell_type": "code",
   "execution_count": 4,
   "id": "a9e84683",
   "metadata": {},
   "outputs": [
    {
     "data": {
      "text/plain": [
       "36"
      ]
     },
     "execution_count": 4,
     "metadata": {},
     "output_type": "execute_result"
    }
   ],
   "source": [
    "iteration_list = []\n",
    "for a1 in range(0,6):\n",
    "    for a2 in range(0,6):\n",
    "        k = chinese_rem(a1)[0]\n",
    "        l = chinese_rem(a2)[0]\n",
    "        x = chinese_rem(a1)[1]\n",
    "        y = chinese_rem(a2)[1]\n",
    "        iteration_list.append([k,l,x,y])\n",
    "                \n",
    "len(iteration_list)"
   ]
  },
  {
   "cell_type": "code",
   "execution_count": 5,
   "id": "955d5d7c",
   "metadata": {},
   "outputs": [
    {
     "data": {
      "text/plain": [
       "[0]\n",
       "[1]\n",
       "[0]\n",
       "[0]\n",
       "[0]\n",
       "[0]\n",
       "[0]\n",
       "[0]\n",
       "[0]"
      ]
     },
     "execution_count": 5,
     "metadata": {},
     "output_type": "execute_result"
    }
   ],
   "source": [
    "# Define qudit basis\n",
    "\n",
    "def unit_vec(i,d):\n",
    "    vec = np.zeros(d)\n",
    "    for l in range(0,d):\n",
    "        if l == i:\n",
    "            vec[l] = 1\n",
    "    return vec.transpose()\n",
    "\n",
    "V9(vector(unit_vec(1,9)))"
   ]
  },
  {
   "cell_type": "code",
   "execution_count": 6,
   "id": "f2df0310",
   "metadata": {},
   "outputs": [
    {
     "name": "stdout",
     "output_type": "stream",
     "text": [
      "[1 0 0 0 0 0 0 1 0 0 0 0 0 0 1 0 0 0 0 0 0 1 0 0 0 0 0 0 1 0 0 0 0 0 0 1]\n"
     ]
    }
   ],
   "source": [
    "# define Bell basis\n",
    "\n",
    "def Bell_basis(d):\n",
    "    K.<w> = CyclotomicField(d)\n",
    "    V = MatrixSpace(K, 1, d**2)\n",
    "    L = []\n",
    "    for i in range(0,d):\n",
    "        L.append(vector(np.kron(unit_vec(i,d),unit_vec(i,d))))\n",
    "    return V(sum(L))\n",
    "\n",
    "    \n",
    "    \n",
    "print(Bell_basis(6))"
   ]
  },
  {
   "cell_type": "code",
   "execution_count": 7,
   "id": "6fe53557",
   "metadata": {},
   "outputs": [
    {
     "data": {
      "text/plain": [
       "[     1      0      0      0      0      0]\n",
       "[     0      w      0      0      0      0]\n",
       "[     0      0  w - 1      0      0      0]\n",
       "[     0      0      0     -1      0      0]\n",
       "[     0      0      0      0     -w      0]\n",
       "[     0      0      0      0      0 -w + 1]"
      ]
     },
     "execution_count": 7,
     "metadata": {},
     "output_type": "execute_result"
    }
   ],
   "source": [
    "# define Z gate\n",
    "\n",
    "def Z_gate(d):\n",
    "    K.<w> = CyclotomicField(d)\n",
    "    M = MatrixSpace(K, d,d)\n",
    "    L = []\n",
    "    for i in range(0,d):\n",
    "        L.append(w**i)   \n",
    "    return M(diagonal_matrix(L))\n",
    "\n",
    "Z_gate(6)"
   ]
  },
  {
   "cell_type": "code",
   "execution_count": 11,
   "id": "b539629a",
   "metadata": {},
   "outputs": [
    {
     "data": {
      "text/plain": [
       "[0 0 0 0 0 1]\n",
       "[1 0 0 0 0 0]\n",
       "[0 1 0 0 0 0]\n",
       "[0 0 1 0 0 0]\n",
       "[0 0 0 1 0 0]\n",
       "[0 0 0 0 1 0]"
      ]
     },
     "execution_count": 11,
     "metadata": {},
     "output_type": "execute_result"
    }
   ],
   "source": [
    "# define X gate\n",
    "\n",
    "def X_gate(d):\n",
    "    K.<w> = CyclotomicField(d)\n",
    "    M = MatrixSpace(K, d,d)\n",
    "    L = np.zeros((d,d))\n",
    "    for j in range(0,d):\n",
    "         L[(j+1) % d, j] = 1\n",
    "    return M(L)\n",
    "\n",
    "X_gate(6)"
   ]
  },
  {
   "cell_type": "code",
   "execution_count": 13,
   "id": "5144a7cc",
   "metadata": {},
   "outputs": [
    {
     "data": {
      "text/plain": [
       "True"
      ]
     },
     "execution_count": 13,
     "metadata": {},
     "output_type": "execute_result"
    }
   ],
   "source": [
    "# define WH operators\n",
    "\n",
    "def powers_of_X(d):\n",
    "    output = []\n",
    "    for i in range(0,d):\n",
    "        output.append(X_gate(d)**i)\n",
    "    return output\n",
    "\n",
    "def powers_of_X_neg(d):\n",
    "    output = []\n",
    "    for i in range(0,d):\n",
    "        output.append(X_gate(d)**(-i))\n",
    "    return output\n",
    "\n",
    "def powers_of_Z(d):\n",
    "    output = []\n",
    "    for i in range(0,d):\n",
    "        output.append(Z_gate(d)**i)\n",
    "    return output\n",
    "\n",
    "# test \n",
    "\n",
    "powers_of_X(6) == [X_gate(6)**0, X_gate(6),  X_gate(6)**2, X_gate(6)**3,  X_gate(6)**4,  X_gate(6)**5] and powers_of_Z(6) == [Z_gate(6)**0, Z_gate(6), Z_gate(6)**2, Z_gate(6)**3, Z_gate(6)**4, Z_gate(6)**5]"
   ]
  },
  {
   "cell_type": "code",
   "execution_count": 14,
   "id": "16cec467",
   "metadata": {},
   "outputs": [
    {
     "data": {
      "text/plain": [
       "True"
      ]
     },
     "execution_count": 14,
     "metadata": {},
     "output_type": "execute_result"
    }
   ],
   "source": [
    "# define WH basis \n",
    "\n",
    "def WH_basis(a,b,d):\n",
    "    return ((powers_of_Z(d)[a]*(powers_of_X_neg(d)[b])).tensor_product(X_gate(d)**0))*(Bell_basis(d)).transpose()\n",
    "\n",
    "# test \n",
    "\n",
    "matrix(np.array(WH_basis(3,1,6)).reshape((6,6))) == powers_of_Z(6)[3]*(powers_of_X_neg(6)[1])\n"
   ]
  },
  {
   "cell_type": "code",
   "execution_count": 15,
   "id": "3f8db1b2",
   "metadata": {},
   "outputs": [
    {
     "data": {
      "text/plain": [
       "[     1      1      1      1      1      1]\n",
       "[     1      w  w - 1     -1     -w -w + 1]\n",
       "[     1  w - 1     -w      1  w - 1     -w]\n",
       "[     1     -1      1     -1      1     -1]\n",
       "[     1     -w  w - 1      1     -w  w - 1]\n",
       "[     1 -w + 1     -w     -1  w - 1      w]"
      ]
     },
     "execution_count": 15,
     "metadata": {},
     "output_type": "execute_result"
    }
   ],
   "source": [
    "# define Fourier gate\n",
    "\n",
    "def Fourier_gate(d):\n",
    "    K.<w> = CyclotomicField(d)\n",
    "    M = MatrixSpace(K, d,d)\n",
    "    L = []\n",
    "    for i in range(0,d):\n",
    "        for j in range(0,d):\n",
    "            L.append(w**(i*j))\n",
    "    return M(np.array(L).reshape((d,d)))\n",
    "    \n",
    "\n",
    "\n",
    "# test\n",
    "\n",
    "Fourier_gate(6)\n"
   ]
  },
  {
   "cell_type": "code",
   "execution_count": 16,
   "id": "686f22e0",
   "metadata": {},
   "outputs": [
    {
     "data": {
      "text/plain": [
       "[1 0 0 0 0 0 0 0 0]\n",
       "[0 1 0 0 0 0 0 0 0]\n",
       "[0 0 1 0 0 0 0 0 0]\n",
       "[0 0 0 0 0 1 0 0 0]\n",
       "[0 0 0 1 0 0 0 0 0]\n",
       "[0 0 0 0 1 0 0 0 0]\n",
       "[0 0 0 0 0 0 0 1 0]\n",
       "[0 0 0 0 0 0 0 0 1]\n",
       "[0 0 0 0 0 0 1 0 0]"
      ]
     },
     "execution_count": 16,
     "metadata": {},
     "output_type": "execute_result"
    }
   ],
   "source": [
    "# define controlled X gate\n",
    "\n",
    "def CX_gate(d):\n",
    "    K.<w> = CyclotomicField(d)\n",
    "    M = MatrixSpace(K, d**2,d**2)\n",
    "    V = MatrixSpace(K, d, d)\n",
    "    L = []\n",
    "    for i in range(0,d):\n",
    "        L.append((V(vector(unit_vec(i,d)).tensor_product(vector(unit_vec(i,d))))).tensor_product(X_gate(d)**i))\n",
    "        #L.append((X_gate(d)**i).tensor_product(V(vector(unit_vec(i,d)).tensor_product(vector(unit_vec(i,d).transpose())))))\n",
    "    return M(sum(L))\n",
    "\n",
    "# test\n",
    "\n",
    "CX_gate(3)"
   ]
  },
  {
   "cell_type": "code",
   "execution_count": 17,
   "id": "c850082e",
   "metadata": {},
   "outputs": [
    {
     "data": {
      "text/plain": [
       "[     1      0      0      0      0      0      0      0      0]\n",
       "[     0      1      0      0      0      0      0      0      0]\n",
       "[     0      0      1      0      0      0      0      0      0]\n",
       "[     0      0      0      1      0      0      0      0      0]\n",
       "[     0      0      0      0      w      0      0      0      0]\n",
       "[     0      0      0      0      0 -w - 1      0      0      0]\n",
       "[     0      0      0      0      0      0      1      0      0]\n",
       "[     0      0      0      0      0      0      0 -w - 1      0]\n",
       "[     0      0      0      0      0      0      0      0      w]"
      ]
     },
     "execution_count": 17,
     "metadata": {},
     "output_type": "execute_result"
    }
   ],
   "source": [
    "# define controlled Z gate\n",
    "\n",
    "def CZ_gate(d):\n",
    "    K.<w> = CyclotomicField(d)\n",
    "    M = MatrixSpace(K, d**2,d**2)\n",
    "    V = MatrixSpace(K, d, d)\n",
    "    L = []\n",
    "    for i in range(0,d):\n",
    "        L.append((V(vector(unit_vec(i,d)).tensor_product(vector(unit_vec(i,d))))).tensor_product(Z_gate(d)**i))\n",
    "        #L.append((Z_gate(d)**i).tensor_product(V(vector(unit_vec(i,d)).tensor_product(vector(unit_vec(i,d))))))\n",
    "    return M(sum(L))\n",
    "\n",
    "# test\n",
    "\n",
    "CZ_gate(3)"
   ]
  },
  {
   "cell_type": "code",
   "execution_count": 18,
   "id": "dfb30f86",
   "metadata": {},
   "outputs": [
    {
     "data": {
      "text/plain": [
       "[     1      0      0      1      0      0      1      0      0]\n",
       "[     0      1      0      0      1      0      0      1      0]\n",
       "[     0      0      1      0      0      1      0      0      1]\n",
       "[     0      0      1      0      0      w      0      0 -w - 1]\n",
       "[     1      0      0      w      0      0 -w - 1      0      0]\n",
       "[     0      1      0      0      w      0      0 -w - 1      0]\n",
       "[     0      1      0      0 -w - 1      0      0      w      0]\n",
       "[     0      0      1      0      0 -w - 1      0      0      w]\n",
       "[     1      0      0 -w - 1      0      0      w      0      0]"
      ]
     },
     "execution_count": 18,
     "metadata": {},
     "output_type": "execute_result"
    }
   ],
   "source": [
    "# define unitary that maps to WH basis\n",
    "\n",
    "def U_WH(d):\n",
    "    return CX_gate(d)*((Fourier_gate(d)).tensor_product(X_gate(d)**0))\n",
    "\n",
    "U_WH(3)"
   ]
  },
  {
   "cell_type": "code",
   "execution_count": 19,
   "id": "d72013d9",
   "metadata": {},
   "outputs": [
    {
     "data": {
      "text/plain": [
       "True"
      ]
     },
     "execution_count": 19,
     "metadata": {},
     "output_type": "execute_result"
    }
   ],
   "source": [
    "# test\n",
    "\n",
    "U_WH(3)*V9(vector(np.kron(unit_vec(1,3), unit_vec(0,3)))) == WH_basis(1,0,3)"
   ]
  },
  {
   "cell_type": "code",
   "execution_count": 20,
   "id": "aa42620a",
   "metadata": {},
   "outputs": [],
   "source": [
    "def matrix_reshuffle(M,dim):\n",
    "    matrix_reshaped = np.array(M).reshape((dim, dim, dim, dim))\n",
    "    return matrix(np.array([[[[matrix_reshaped[l,j,k,i] for i in range(0,dim)] for j in range(0,dim)] for k in range(0,dim)] for l in range(0,dim)]).reshape((dim**2,dim**2)))\n"
   ]
  },
  {
   "cell_type": "code",
   "execution_count": 21,
   "id": "382fbed6",
   "metadata": {},
   "outputs": [],
   "source": [
    "def is_dual_unitary(M,dim):\n",
    "    return matrix_reshuffle(M,dim).is_unitary()\n"
   ]
  },
  {
   "cell_type": "code",
   "execution_count": 22,
   "id": "950f1324",
   "metadata": {},
   "outputs": [],
   "source": [
    "def matrix_partial_transpose(M,dim):\n",
    "    matrix_reshaped = np.array(M).reshape((dim, dim, dim, dim))\n",
    "    return matrix(np.array([[[[matrix_reshaped[k,j,i,l] for i in range(0,dim)] for j in range(0,dim)] for k in range(0,dim)] for l in range(0,dim)]).reshape((dim**2,dim**2)))\n"
   ]
  },
  {
   "cell_type": "code",
   "execution_count": 23,
   "id": "da05817a",
   "metadata": {},
   "outputs": [],
   "source": [
    "def is_gamma_dual_unitary(M,dim):\n",
    "    return matrix_partial_transpose(M,dim).is_unitary()"
   ]
  },
  {
   "cell_type": "code",
   "execution_count": 24,
   "id": "d0dba9ba",
   "metadata": {},
   "outputs": [],
   "source": [
    "# define sequence values for symmetric solution\n",
    "\n",
    "def sequence_sym(k,l,x,y):\n",
    "    K.<w> = CyclotomicField(3)\n",
    "    if (mod(x,2) == 1 and mod(y,2) ==1):\n",
    "        return K(w**mod(2*(k**2 + l**2),3))\n",
    "    else:\n",
    "        return K(w**mod(2*(k**2 + l**2 - (k+l+ mod(x,3)-mod(y,3))**2),3))\n"
   ]
  },
  {
   "cell_type": "code",
   "execution_count": 25,
   "id": "1a63dbf2",
   "metadata": {},
   "outputs": [],
   "source": [
    "# define sequence values for sparse solution\n",
    "\n",
    "def sequence_sparse(k,l,x,y):\n",
    "    K.<w> = CyclotomicField(3)\n",
    "    if (mod(x,2) == 1 and mod(y,2) ==1):\n",
    "        return K(w**(2*(k**2 + l**2)))\n",
    "    else:\n",
    "        return K(w**(2*(k**2 + l**2 + (l + mod(x,3)-mod(y,3))**2)))\n"
   ]
  },
  {
   "cell_type": "code",
   "execution_count": 26,
   "id": "41b830d8",
   "metadata": {},
   "outputs": [],
   "source": [
    "# define function that outputs, given a sequence seq, all sequence values as a list\n",
    "\n",
    "def sequence_list(seq):\n",
    "    list_out = []\n",
    "    for values in iteration_list:\n",
    "            list_out.append(seq(values[0], values[1], values[2], values[3]))\n",
    "    return list_out"
   ]
  },
  {
   "cell_type": "code",
   "execution_count": 27,
   "id": "928f1fb3",
   "metadata": {},
   "outputs": [],
   "source": [
    "# define values of partial sequences indexed by (x,y)\n",
    "\n",
    "def partial_sequence(x,y,seq):\n",
    "    output = []\n",
    "    for element in iteration_list:\n",
    "        if (element[2]==x and element[3] == y):\n",
    "            output.append(seq(element[0],element[1],x,y))\n",
    "    return output\n"
   ]
  },
  {
   "cell_type": "code",
   "execution_count": 28,
   "id": "e310d6b6",
   "metadata": {},
   "outputs": [],
   "source": [
    "# compute sequences\n",
    "\n",
    "sparse = np.array(sequence_list(sequence_sparse)).reshape((6,6))\n",
    "symmetric  = np.array(sequence_list(sequence_sym)).reshape((6,6))"
   ]
  },
  {
   "cell_type": "code",
   "execution_count": null,
   "id": "cf097b0a",
   "metadata": {},
   "outputs": [],
   "source": []
  },
  {
   "cell_type": "code",
   "execution_count": 29,
   "id": "9f5f44a2",
   "metadata": {},
   "outputs": [],
   "source": [
    "# define function that generates a unitary out of a given sequence\n",
    "\n",
    "def unitary_36(seq):\n",
    "    M = np.array(sequence_list(seq)).reshape((6,6))\n",
    "    L = []\n",
    "    for a1 in range(0,6):\n",
    "        for a2 in range(0,6):\n",
    "            L.append(M[a1,a2]*(WH_basis(a1,a2,6).tensor_product(WH_basis(a1,a2,6).conjugate_transpose())))\n",
    "    return Matrix(CyclotomicField(3), 36,36, sum(L))\n",
    "\n"
   ]
  },
  {
   "cell_type": "code",
   "execution_count": 30,
   "id": "1d19fceb",
   "metadata": {},
   "outputs": [],
   "source": [
    "# compute 2-unitaries correpsonding to the sparse and the symmetric solution\n",
    "\n",
    "U_sym = (1/36)*U_WH(6)*unitary_36(sequence_sym)*U_WH(6).conjugate_transpose() \n",
    "\n",
    "U_sparse = (1/36)*U_WH(6)*unitary_36(sequence_sparse)*U_WH(6).conjugate_transpose() "
   ]
  },
  {
   "cell_type": "code",
   "execution_count": 31,
   "id": "9e24057d",
   "metadata": {},
   "outputs": [
    {
     "data": {
      "text/plain": [
       "True"
      ]
     },
     "execution_count": 31,
     "metadata": {},
     "output_type": "execute_result"
    }
   ],
   "source": [
    "# test 2-unitarity, symmetric\n",
    "\n",
    "U_sym.is_unitary() and is_dual_unitary(U_sym,6) and is_gamma_dual_unitary(U_sym,6)\n"
   ]
  },
  {
   "cell_type": "code",
   "execution_count": 32,
   "id": "5967c231",
   "metadata": {},
   "outputs": [
    {
     "data": {
      "text/plain": [
       "True"
      ]
     },
     "execution_count": 32,
     "metadata": {},
     "output_type": "execute_result"
    }
   ],
   "source": [
    "# test 2-unitarity, sparse \n",
    "    \n",
    "U_sparse.is_unitary() and is_dual_unitary(U_sparse,6) and is_gamma_dual_unitary(U_sparse,6)"
   ]
  },
  {
   "cell_type": "code",
   "execution_count": 33,
   "id": "a48bb10f",
   "metadata": {},
   "outputs": [],
   "source": [
    "# define function that generates a unitary out of a given partial sequence\n",
    "\n",
    "def unitary_partial_sequence(x,y,seq):\n",
    "    K.<w> = CyclotomicField(3)\n",
    "    M = MatrixSpace(K, 3, 3)\n",
    "    L = []\n",
    "    for a in range(0,3):\n",
    "        for b in range(0,3):\n",
    "            L.append(M(np.array(partial_sequence(x,y, seq)).reshape((3,3)))[a,b]*(WH_basis(a,b,3).tensor_product(WH_basis(a,b,3).conjugate_transpose())))\n",
    "    return (1/3)*matrix(sum(L))"
   ]
  },
  {
   "cell_type": "code",
   "execution_count": 34,
   "id": "37aed7a1",
   "metadata": {},
   "outputs": [
    {
     "name": "stdout",
     "output_type": "stream",
     "text": [
      "True True True\n",
      "True True True\n"
     ]
    }
   ],
   "source": [
    "# compute partial unitary for\n",
    "# (x,y) = (1,1)\n",
    "        \n",
    "        \n",
    "USp_11 = unitary_partial_sequence(1,1,sequence_sparse)\n",
    "USym_11 = unitary_partial_sequence(1,1,sequence_sym)\n",
    "\n",
    "# check 2-unitarity\n",
    "\n",
    "print(is_gamma_dual_unitary(USp_11,3), is_dual_unitary(USp_11,3),  USp_11.is_unitary())\n",
    "\n",
    "print(is_gamma_dual_unitary(USym_11,3), is_dual_unitary(USym_11,3), USym_11.is_unitary())# (x,y)"
   ]
  },
  {
   "cell_type": "code",
   "execution_count": 35,
   "id": "8dc2a39c",
   "metadata": {},
   "outputs": [
    {
     "name": "stdout",
     "output_type": "stream",
     "text": [
      "False True True\n",
      "False True True\n"
     ]
    }
   ],
   "source": [
    "# compute partial unitary for\n",
    "# (x,y) = (0,0)\n",
    "\n",
    "USp_00 = unitary_partial_sequence(0,0,sequence_sparse)\n",
    "USym_00 = unitary_partial_sequence(0,0,sequence_sym)\n",
    "\n",
    "# check 2-unitarity\n",
    "\n",
    "print(is_gamma_dual_unitary(USp_00,3), is_dual_unitary(USp_00,3),  USp_00.is_unitary())\n",
    "\n",
    "print(is_gamma_dual_unitary(USym_00,3), is_dual_unitary(USym_00,3), USym_00.is_unitary())"
   ]
  },
  {
   "cell_type": "code",
   "execution_count": 36,
   "id": "b04e3664",
   "metadata": {},
   "outputs": [
    {
     "name": "stdout",
     "output_type": "stream",
     "text": [
      "False True True\n",
      "False True True\n"
     ]
    }
   ],
   "source": [
    "# compute partial unitary for\n",
    "# (x,y) = (1,0)\n",
    "\n",
    "USp_10 = unitary_partial_sequence(1,0,sequence_sparse)\n",
    "USym_10 = unitary_partial_sequence(1,0,sequence_sym)\n",
    "\n",
    "# check 2-unitarity\n",
    "\n",
    "print(is_gamma_dual_unitary(USp_10,3), is_dual_unitary(USp_10,3),  USp_10.is_unitary())\n",
    "\n",
    "print(is_gamma_dual_unitary(USym_10,3), is_dual_unitary(USym_10,3), USym_10.is_unitary())"
   ]
  },
  {
   "cell_type": "code",
   "execution_count": 37,
   "id": "4398407b",
   "metadata": {},
   "outputs": [
    {
     "name": "stdout",
     "output_type": "stream",
     "text": [
      "False True True\n",
      "False True True\n"
     ]
    }
   ],
   "source": [
    "# compute partial unitary for\n",
    "# (x,y) = (0,1)\n",
    "\n",
    "        \n",
    "USp_01 = unitary_partial_sequence(0,1,sequence_sparse)\n",
    "USym_01 = unitary_partial_sequence(0,1,sequence_sym)\n",
    "\n",
    "# check 2-unitarity\n",
    "\n",
    "print(is_gamma_dual_unitary(USp_01,3), is_dual_unitary(USp_01,3),  USp_01.is_unitary())\n",
    "\n",
    "print(is_gamma_dual_unitary(USym_01,3), is_dual_unitary(USym_01,3), USym_01.is_unitary())"
   ]
  },
  {
   "cell_type": "code",
   "execution_count": 188,
   "id": "f02cce0c",
   "metadata": {},
   "outputs": [],
   "source": [
    "# define diagonal matrices out of partial sequences for (x,y) in {(0,0), (0,1), (1,0)}\n",
    "\n",
    "MSp_27 = M27(diagonal_matrix(sum([partial_sequence(t[0],t[1],sequence_sparse) for t in [(0,0), (1,0), (0,1)]],[])))\n",
    "MSym_27 = M27(diagonal_matrix(sum([partial_sequence(t[0],t[1],sequence_sym) for t in [(0,0), (1,0), (0,1)]],[])))\n"
   ]
  },
  {
   "cell_type": "code",
   "execution_count": 189,
   "id": "53767dee",
   "metadata": {},
   "outputs": [],
   "source": [
    "# define identity matrices\n",
    "\n",
    "Id3 = identity_matrix(3)\n",
    "Id9 = identity_matrix(9)\n",
    "\n"
   ]
  },
  {
   "cell_type": "code",
   "execution_count": 195,
   "id": "44f5a693",
   "metadata": {},
   "outputs": [
    {
     "data": {
      "text/plain": [
       "True"
      ]
     },
     "execution_count": 195,
     "metadata": {},
     "output_type": "execute_result"
    }
   ],
   "source": [
    "# test\n",
    "\n",
    "Matrix(K, 27, 27, USp_00.block_sum(USp_10.block_sum(USp_01))) == (1/3)*Id3.tensor_product(U_WH(3))*MSp_27*Id3.tensor_product(U_WH(3)).conjugate_transpose()"
   ]
  },
  {
   "cell_type": "code",
   "execution_count": 65,
   "id": "b9e92fc7",
   "metadata": {},
   "outputs": [],
   "source": [
    "# define list of bell states\n",
    "\n",
    "Bell_basis_list = [V4(vector(np.kron(unit_vec(0,2), unit_vec(0,2))+np.kron(unit_vec(1,2), unit_vec(1,2)))), V4(vector(np.kron(unit_vec(0,2), unit_vec(0,2)) - np.kron(unit_vec(1,2), unit_vec(1,2)))), V4(vector(np.kron(unit_vec(0,2), unit_vec(1,2))+np.kron(unit_vec(1,2),unit_vec(0,2))))\n",
    "             , V4(vector(np.kron(unit_vec(0,2), unit_vec(1,2))-np.kron(unit_vec(1,2), unit_vec(0,2))))]\n",
    "\n"
   ]
  },
  {
   "cell_type": "code",
   "execution_count": 180,
   "id": "39c2dfd2",
   "metadata": {},
   "outputs": [
    {
     "data": {
      "text/plain": [
       "[ 1/2*sqrt(2)  1/2*sqrt(2)            0]\n",
       "[           0            0  1/2*sqrt(2)]\n",
       "[           0            0  1/2*sqrt(2)]\n",
       "[ 1/2*sqrt(2) -1/2*sqrt(2)            0]"
      ]
     },
     "execution_count": 180,
     "metadata": {},
     "output_type": "execute_result"
    }
   ],
   "source": [
    "# define matrix V (in the dissertation: B)\n",
    "\n",
    "dic = {(0,1): 2,(1,0) : 1, (0,0): 3, (1,1): 0}\n",
    "\n",
    "l = []\n",
    "for a in [(1,1),(0,1),(1,0)]:\n",
    "        x= mod(a[0]-a[1],3)\n",
    "        l.append((1/sqrt(2))*Bell_basis_list[dic[a]].tensor_product(V3(vector(unit_vec(x, 3))).conjugate_transpose()))\n",
    "\n",
    "\n",
    "\n",
    "V = Matrix( sum(l))\n",
    "\n",
    "V"
   ]
  },
  {
   "cell_type": "code",
   "execution_count": 184,
   "id": "0b13ec73",
   "metadata": {},
   "outputs": [],
   "source": [
    "# write out decomposition for sparse solution\n",
    "\n",
    "USp_1 = (1/2)*USp_11.tensor_product(Bell_basis_list[3].tensor_product(Bell_basis_list[3].conjugate_transpose()))\n",
    "\n",
    "USp_2 = (1/3)*Matrix(K, 27, 27, (U_WH(3).tensor_product(Id3)*MSp_27*((U_WH(3).tensor_product(Id3)).conjugate_transpose())))\n",
    "\n",
    "#USp_2 = \n",
    "\n",
    "USp_lambda = M36(USp_1 + Id9.tensor_product(V)*USp_2*((Id9).tensor_product(V.conjugate_transpose())))\n"
   ]
  },
  {
   "cell_type": "code",
   "execution_count": 196,
   "id": "5643624a",
   "metadata": {},
   "outputs": [],
   "source": [
    "# write out decomposition for symmetric solution\n",
    "\n",
    "USym_1 = (1/2)*USym_11.tensor_product(Bell_basis_list[3].tensor_product(Bell_basis_list[3].conjugate_transpose()))\n",
    "\n",
    "\n",
    "USym_2 = (1/3)*U_WH(3).tensor_product(identity_matrix(3))*MSym_27*(U_WH(3).tensor_product(identity_matrix(3))).conjugate_transpose()\n",
    "#Matrix(K, 27, 27,USym_00.block_sum(USym_10.block_sum(USym_01)))\n",
    "\n",
    "USym_lambda = M36(USym_1 + Id9.tensor_product(V)*USym_2*(Id9.tensor_product(V)).conjugate_transpose())\n"
   ]
  },
  {
   "cell_type": "code",
   "execution_count": 185,
   "id": "14b82661",
   "metadata": {},
   "outputs": [
    {
     "name": "stdout",
     "output_type": "stream",
     "text": [
      "[1 0 0 0 0 0 0 0 0 0 0 0 0 0 0 0 0 0 0 0 0 0 0 0 0 0 0 0 0 0 0 0 0 0 0 0]\n",
      "[0 1 0 0 0 0 0 0 0 0 0 0 0 0 0 0 0 0 0 0 0 0 0 0 0 0 0 0 0 0 0 0 0 0 0 0]\n",
      "[0 0 1 0 0 0 0 0 0 0 0 0 0 0 0 0 0 0 0 0 0 0 0 0 0 0 0 0 0 0 0 0 0 0 0 0]\n",
      "[0 0 0 1 0 0 0 0 0 0 0 0 0 0 0 0 0 0 0 0 0 0 0 0 0 0 0 0 0 0 0 0 0 0 0 0]\n",
      "[0 0 0 0 1 0 0 0 0 0 0 0 0 0 0 0 0 0 0 0 0 0 0 0 0 0 0 0 0 0 0 0 0 0 0 0]\n",
      "[0 0 0 0 0 1 0 0 0 0 0 0 0 0 0 0 0 0 0 0 0 0 0 0 0 0 0 0 0 0 0 0 0 0 0 0]\n",
      "[0 0 0 0 0 0 1 0 0 0 0 0 0 0 0 0 0 0 0 0 0 0 0 0 0 0 0 0 0 0 0 0 0 0 0 0]\n",
      "[0 0 0 0 0 0 0 1 0 0 0 0 0 0 0 0 0 0 0 0 0 0 0 0 0 0 0 0 0 0 0 0 0 0 0 0]\n",
      "[0 0 0 0 0 0 0 0 1 0 0 0 0 0 0 0 0 0 0 0 0 0 0 0 0 0 0 0 0 0 0 0 0 0 0 0]\n",
      "[0 0 0 0 0 0 0 0 0 1 0 0 0 0 0 0 0 0 0 0 0 0 0 0 0 0 0 0 0 0 0 0 0 0 0 0]\n",
      "[0 0 0 0 0 0 0 0 0 0 1 0 0 0 0 0 0 0 0 0 0 0 0 0 0 0 0 0 0 0 0 0 0 0 0 0]\n",
      "[0 0 0 0 0 0 0 0 0 0 0 1 0 0 0 0 0 0 0 0 0 0 0 0 0 0 0 0 0 0 0 0 0 0 0 0]\n",
      "[0 0 0 0 0 0 0 0 0 0 0 0 1 0 0 0 0 0 0 0 0 0 0 0 0 0 0 0 0 0 0 0 0 0 0 0]\n",
      "[0 0 0 0 0 0 0 0 0 0 0 0 0 1 0 0 0 0 0 0 0 0 0 0 0 0 0 0 0 0 0 0 0 0 0 0]\n",
      "[0 0 0 0 0 0 0 0 0 0 0 0 0 0 1 0 0 0 0 0 0 0 0 0 0 0 0 0 0 0 0 0 0 0 0 0]\n",
      "[0 0 0 0 0 0 0 0 0 0 0 0 0 0 0 1 0 0 0 0 0 0 0 0 0 0 0 0 0 0 0 0 0 0 0 0]\n",
      "[0 0 0 0 0 0 0 0 0 0 0 0 0 0 0 0 1 0 0 0 0 0 0 0 0 0 0 0 0 0 0 0 0 0 0 0]\n",
      "[0 0 0 0 0 0 0 0 0 0 0 0 0 0 0 0 0 1 0 0 0 0 0 0 0 0 0 0 0 0 0 0 0 0 0 0]\n",
      "[0 0 0 0 0 0 0 0 0 0 0 0 0 0 0 0 0 0 1 0 0 0 0 0 0 0 0 0 0 0 0 0 0 0 0 0]\n",
      "[0 0 0 0 0 0 0 0 0 0 0 0 0 0 0 0 0 0 0 1 0 0 0 0 0 0 0 0 0 0 0 0 0 0 0 0]\n",
      "[0 0 0 0 0 0 0 0 0 0 0 0 0 0 0 0 0 0 0 0 1 0 0 0 0 0 0 0 0 0 0 0 0 0 0 0]\n",
      "[0 0 0 0 0 0 0 0 0 0 0 0 0 0 0 0 0 0 0 0 0 1 0 0 0 0 0 0 0 0 0 0 0 0 0 0]\n",
      "[0 0 0 0 0 0 0 0 0 0 0 0 0 0 0 0 0 0 0 0 0 0 1 0 0 0 0 0 0 0 0 0 0 0 0 0]\n",
      "[0 0 0 0 0 0 0 0 0 0 0 0 0 0 0 0 0 0 0 0 0 0 0 1 0 0 0 0 0 0 0 0 0 0 0 0]\n",
      "[0 0 0 0 0 0 0 0 0 0 0 0 0 0 0 0 0 0 0 0 0 0 0 0 1 0 0 0 0 0 0 0 0 0 0 0]\n",
      "[0 0 0 0 0 0 0 0 0 0 0 0 0 0 0 0 0 0 0 0 0 0 0 0 0 1 0 0 0 0 0 0 0 0 0 0]\n",
      "[0 0 0 0 0 0 0 0 0 0 0 0 0 0 0 0 0 0 0 0 0 0 0 0 0 0 1 0 0 0 0 0 0 0 0 0]\n",
      "[0 0 0 0 0 0 0 0 0 0 0 0 0 0 0 0 0 0 0 0 0 0 0 0 0 0 0 1 0 0 0 0 0 0 0 0]\n",
      "[0 0 0 0 0 0 0 0 0 0 0 0 0 0 0 0 0 0 0 0 0 0 0 0 0 0 0 0 1 0 0 0 0 0 0 0]\n",
      "[0 0 0 0 0 0 0 0 0 0 0 0 0 0 0 0 0 0 0 0 0 0 0 0 0 0 0 0 0 1 0 0 0 0 0 0]\n",
      "[0 0 0 0 0 0 0 0 0 0 0 0 0 0 0 0 0 0 0 0 0 0 0 0 0 0 0 0 0 0 1 0 0 0 0 0]\n",
      "[0 0 0 0 0 0 0 0 0 0 0 0 0 0 0 0 0 0 0 0 0 0 0 0 0 0 0 0 0 0 0 1 0 0 0 0]\n",
      "[0 0 0 0 0 0 0 0 0 0 0 0 0 0 0 0 0 0 0 0 0 0 0 0 0 0 0 0 0 0 0 0 1 0 0 0]\n",
      "[0 0 0 0 0 0 0 0 0 0 0 0 0 0 0 0 0 0 0 0 0 0 0 0 0 0 0 0 0 0 0 0 0 1 0 0]\n",
      "[0 0 0 0 0 0 0 0 0 0 0 0 0 0 0 0 0 0 0 0 0 0 0 0 0 0 0 0 0 0 0 0 0 0 1 0]\n",
      "[0 0 0 0 0 0 0 0 0 0 0 0 0 0 0 0 0 0 0 0 0 0 0 0 0 0 0 0 0 0 0 0 0 0 0 1]\n"
     ]
    }
   ],
   "source": [
    "print((USp_lambda*USp_lambda.conjugate_transpose()).str())"
   ]
  },
  {
   "cell_type": "code",
   "execution_count": 197,
   "id": "5654bc9d",
   "metadata": {},
   "outputs": [
    {
     "name": "stdout",
     "output_type": "stream",
     "text": [
      "[1 0 0 0 0 0 0 0 0 0 0 0 0 0 0 0 0 0 0 0 0 0 0 0 0 0 0 0 0 0 0 0 0 0 0 0]\n",
      "[0 1 0 0 0 0 0 0 0 0 0 0 0 0 0 0 0 0 0 0 0 0 0 0 0 0 0 0 0 0 0 0 0 0 0 0]\n",
      "[0 0 1 0 0 0 0 0 0 0 0 0 0 0 0 0 0 0 0 0 0 0 0 0 0 0 0 0 0 0 0 0 0 0 0 0]\n",
      "[0 0 0 1 0 0 0 0 0 0 0 0 0 0 0 0 0 0 0 0 0 0 0 0 0 0 0 0 0 0 0 0 0 0 0 0]\n",
      "[0 0 0 0 1 0 0 0 0 0 0 0 0 0 0 0 0 0 0 0 0 0 0 0 0 0 0 0 0 0 0 0 0 0 0 0]\n",
      "[0 0 0 0 0 1 0 0 0 0 0 0 0 0 0 0 0 0 0 0 0 0 0 0 0 0 0 0 0 0 0 0 0 0 0 0]\n",
      "[0 0 0 0 0 0 1 0 0 0 0 0 0 0 0 0 0 0 0 0 0 0 0 0 0 0 0 0 0 0 0 0 0 0 0 0]\n",
      "[0 0 0 0 0 0 0 1 0 0 0 0 0 0 0 0 0 0 0 0 0 0 0 0 0 0 0 0 0 0 0 0 0 0 0 0]\n",
      "[0 0 0 0 0 0 0 0 1 0 0 0 0 0 0 0 0 0 0 0 0 0 0 0 0 0 0 0 0 0 0 0 0 0 0 0]\n",
      "[0 0 0 0 0 0 0 0 0 1 0 0 0 0 0 0 0 0 0 0 0 0 0 0 0 0 0 0 0 0 0 0 0 0 0 0]\n",
      "[0 0 0 0 0 0 0 0 0 0 1 0 0 0 0 0 0 0 0 0 0 0 0 0 0 0 0 0 0 0 0 0 0 0 0 0]\n",
      "[0 0 0 0 0 0 0 0 0 0 0 1 0 0 0 0 0 0 0 0 0 0 0 0 0 0 0 0 0 0 0 0 0 0 0 0]\n",
      "[0 0 0 0 0 0 0 0 0 0 0 0 1 0 0 0 0 0 0 0 0 0 0 0 0 0 0 0 0 0 0 0 0 0 0 0]\n",
      "[0 0 0 0 0 0 0 0 0 0 0 0 0 1 0 0 0 0 0 0 0 0 0 0 0 0 0 0 0 0 0 0 0 0 0 0]\n",
      "[0 0 0 0 0 0 0 0 0 0 0 0 0 0 1 0 0 0 0 0 0 0 0 0 0 0 0 0 0 0 0 0 0 0 0 0]\n",
      "[0 0 0 0 0 0 0 0 0 0 0 0 0 0 0 1 0 0 0 0 0 0 0 0 0 0 0 0 0 0 0 0 0 0 0 0]\n",
      "[0 0 0 0 0 0 0 0 0 0 0 0 0 0 0 0 1 0 0 0 0 0 0 0 0 0 0 0 0 0 0 0 0 0 0 0]\n",
      "[0 0 0 0 0 0 0 0 0 0 0 0 0 0 0 0 0 1 0 0 0 0 0 0 0 0 0 0 0 0 0 0 0 0 0 0]\n",
      "[0 0 0 0 0 0 0 0 0 0 0 0 0 0 0 0 0 0 1 0 0 0 0 0 0 0 0 0 0 0 0 0 0 0 0 0]\n",
      "[0 0 0 0 0 0 0 0 0 0 0 0 0 0 0 0 0 0 0 1 0 0 0 0 0 0 0 0 0 0 0 0 0 0 0 0]\n",
      "[0 0 0 0 0 0 0 0 0 0 0 0 0 0 0 0 0 0 0 0 1 0 0 0 0 0 0 0 0 0 0 0 0 0 0 0]\n",
      "[0 0 0 0 0 0 0 0 0 0 0 0 0 0 0 0 0 0 0 0 0 1 0 0 0 0 0 0 0 0 0 0 0 0 0 0]\n",
      "[0 0 0 0 0 0 0 0 0 0 0 0 0 0 0 0 0 0 0 0 0 0 1 0 0 0 0 0 0 0 0 0 0 0 0 0]\n",
      "[0 0 0 0 0 0 0 0 0 0 0 0 0 0 0 0 0 0 0 0 0 0 0 1 0 0 0 0 0 0 0 0 0 0 0 0]\n",
      "[0 0 0 0 0 0 0 0 0 0 0 0 0 0 0 0 0 0 0 0 0 0 0 0 1 0 0 0 0 0 0 0 0 0 0 0]\n",
      "[0 0 0 0 0 0 0 0 0 0 0 0 0 0 0 0 0 0 0 0 0 0 0 0 0 1 0 0 0 0 0 0 0 0 0 0]\n",
      "[0 0 0 0 0 0 0 0 0 0 0 0 0 0 0 0 0 0 0 0 0 0 0 0 0 0 1 0 0 0 0 0 0 0 0 0]\n",
      "[0 0 0 0 0 0 0 0 0 0 0 0 0 0 0 0 0 0 0 0 0 0 0 0 0 0 0 1 0 0 0 0 0 0 0 0]\n",
      "[0 0 0 0 0 0 0 0 0 0 0 0 0 0 0 0 0 0 0 0 0 0 0 0 0 0 0 0 1 0 0 0 0 0 0 0]\n",
      "[0 0 0 0 0 0 0 0 0 0 0 0 0 0 0 0 0 0 0 0 0 0 0 0 0 0 0 0 0 1 0 0 0 0 0 0]\n",
      "[0 0 0 0 0 0 0 0 0 0 0 0 0 0 0 0 0 0 0 0 0 0 0 0 0 0 0 0 0 0 1 0 0 0 0 0]\n",
      "[0 0 0 0 0 0 0 0 0 0 0 0 0 0 0 0 0 0 0 0 0 0 0 0 0 0 0 0 0 0 0 1 0 0 0 0]\n",
      "[0 0 0 0 0 0 0 0 0 0 0 0 0 0 0 0 0 0 0 0 0 0 0 0 0 0 0 0 0 0 0 0 1 0 0 0]\n",
      "[0 0 0 0 0 0 0 0 0 0 0 0 0 0 0 0 0 0 0 0 0 0 0 0 0 0 0 0 0 0 0 0 0 1 0 0]\n",
      "[0 0 0 0 0 0 0 0 0 0 0 0 0 0 0 0 0 0 0 0 0 0 0 0 0 0 0 0 0 0 0 0 0 0 1 0]\n",
      "[0 0 0 0 0 0 0 0 0 0 0 0 0 0 0 0 0 0 0 0 0 0 0 0 0 0 0 0 0 0 0 0 0 0 0 1]\n"
     ]
    }
   ],
   "source": [
    "print((USym_lambda*USym_lambda.conjugate_transpose()).str())"
   ]
  },
  {
   "cell_type": "code",
   "execution_count": 95,
   "id": "b5d59369",
   "metadata": {},
   "outputs": [],
   "source": [
    "# define WH basis as list \n",
    "\n",
    "Basis = flatten([[powers_of_X(6)[i]*powers_of_Z(6)[j] for i in range(0,6)] for j in range(0,6)])"
   ]
  },
  {
   "cell_type": "code",
   "execution_count": 57,
   "id": "587c0c66",
   "metadata": {},
   "outputs": [],
   "source": [
    "# define local subalgebras \n",
    "\n",
    "Id6= identity_matrix(6)\n",
    "\n",
    "R = [M36(Id6.tensor_product(element)) for element in Basis]\n",
    "\n",
    "L = [M36(element.tensor_product(Id6)) for element in Basis]\n",
    "\n",
    "LocalSubal = [L,R]"
   ]
  },
  {
   "cell_type": "code",
   "execution_count": 96,
   "id": "24e816f4",
   "metadata": {},
   "outputs": [
    {
     "data": {
      "text/plain": [
       "True"
      ]
     },
     "execution_count": 96,
     "metadata": {},
     "output_type": "execute_result"
    }
   ],
   "source": [
    "def is_quasi_orth(A,B):\n",
    "    for V in A:\n",
    "            for W in B:\n",
    "                K = V*W\n",
    "                if (K.trace())/(K.nrows()) != ((V.trace())*(W.trace()))/((V.nrows())*(W.nrows())):\n",
    "                    return false\n",
    "    return true\n",
    "\n",
    "is_quasi_orth(R,L)"
   ]
  },
  {
   "cell_type": "code",
   "execution_count": 92,
   "id": "33868037",
   "metadata": {},
   "outputs": [
    {
     "data": {
      "text/plain": [
       "[36 x 36 dense matrix over Cyclotomic Field of order 3 and degree 2,\n",
       " 36 x 36 dense matrix over Cyclotomic Field of order 3 and degree 2,\n",
       " 36 x 36 dense matrix over Cyclotomic Field of order 3 and degree 2,\n",
       " 36 x 36 dense matrix over Cyclotomic Field of order 3 and degree 2,\n",
       " 36 x 36 dense matrix over Cyclotomic Field of order 3 and degree 2,\n",
       " 36 x 36 dense matrix over Cyclotomic Field of order 3 and degree 2,\n",
       " 36 x 36 dense matrix over Cyclotomic Field of order 3 and degree 2,\n",
       " 36 x 36 dense matrix over Cyclotomic Field of order 3 and degree 2,\n",
       " 36 x 36 dense matrix over Cyclotomic Field of order 3 and degree 2,\n",
       " 36 x 36 dense matrix over Cyclotomic Field of order 3 and degree 2,\n",
       " 36 x 36 dense matrix over Cyclotomic Field of order 3 and degree 2,\n",
       " 36 x 36 dense matrix over Cyclotomic Field of order 3 and degree 2,\n",
       " 36 x 36 dense matrix over Cyclotomic Field of order 3 and degree 2,\n",
       " 36 x 36 dense matrix over Cyclotomic Field of order 3 and degree 2,\n",
       " 36 x 36 dense matrix over Cyclotomic Field of order 3 and degree 2,\n",
       " 36 x 36 dense matrix over Cyclotomic Field of order 3 and degree 2,\n",
       " 36 x 36 dense matrix over Cyclotomic Field of order 3 and degree 2,\n",
       " 36 x 36 dense matrix over Cyclotomic Field of order 3 and degree 2,\n",
       " 36 x 36 dense matrix over Cyclotomic Field of order 3 and degree 2,\n",
       " 36 x 36 dense matrix over Cyclotomic Field of order 3 and degree 2,\n",
       " 36 x 36 dense matrix over Cyclotomic Field of order 3 and degree 2,\n",
       " 36 x 36 dense matrix over Cyclotomic Field of order 3 and degree 2,\n",
       " 36 x 36 dense matrix over Cyclotomic Field of order 3 and degree 2,\n",
       " 36 x 36 dense matrix over Cyclotomic Field of order 3 and degree 2,\n",
       " 36 x 36 dense matrix over Cyclotomic Field of order 3 and degree 2,\n",
       " 36 x 36 dense matrix over Cyclotomic Field of order 3 and degree 2,\n",
       " 36 x 36 dense matrix over Cyclotomic Field of order 3 and degree 2,\n",
       " 36 x 36 dense matrix over Cyclotomic Field of order 3 and degree 2,\n",
       " 36 x 36 dense matrix over Cyclotomic Field of order 3 and degree 2,\n",
       " 36 x 36 dense matrix over Cyclotomic Field of order 3 and degree 2,\n",
       " 36 x 36 dense matrix over Cyclotomic Field of order 3 and degree 2,\n",
       " 36 x 36 dense matrix over Cyclotomic Field of order 3 and degree 2,\n",
       " 36 x 36 dense matrix over Cyclotomic Field of order 3 and degree 2,\n",
       " 36 x 36 dense matrix over Cyclotomic Field of order 3 and degree 2,\n",
       " 36 x 36 dense matrix over Cyclotomic Field of order 3 and degree 2,\n",
       " 36 x 36 dense matrix over Cyclotomic Field of order 3 and degree 2]"
      ]
     },
     "execution_count": 92,
     "metadata": {},
     "output_type": "execute_result"
    }
   ],
   "source": [
    "# define a function that computes the conjugation of a unitary U on the local subalgebra L\n",
    "\n",
    "def AL(U):\n",
    "    return [M36(U*element*U.conjuggate_transpose()) for element in L]\n",
    "\n",
    "AL(U_sparse)"
   ]
  },
  {
   "cell_type": "code",
   "execution_count": 101,
   "id": "1c37dc32",
   "metadata": {},
   "outputs": [],
   "source": [
    "# define a function that computes the conjugation of a unitary U on the local subalgebra R\n",
    "\n",
    "def AR(U):\n",
    "    return [M36(U*element*U.conjugate_transpose()) for element in R]"
   ]
  },
  {
   "cell_type": "code",
   "execution_count": 97,
   "id": "a3f0bd7c",
   "metadata": {},
   "outputs": [],
   "source": [
    "def is_delocalised(A,O):\n",
    "    for N in O:\n",
    "        if is_quasi_orth(A,N) == false:\n",
    "            return false\n",
    "    return true\n"
   ]
  },
  {
   "cell_type": "code",
   "execution_count": 98,
   "id": "e36c2f86",
   "metadata": {},
   "outputs": [
    {
     "data": {
      "text/plain": [
       "True"
      ]
     },
     "execution_count": 98,
     "metadata": {},
     "output_type": "execute_result"
    }
   ],
   "source": [
    "is_delocalised(AL(U_sparse), LocalSubal)"
   ]
  },
  {
   "cell_type": "code",
   "execution_count": 102,
   "id": "af190f0c",
   "metadata": {},
   "outputs": [
    {
     "data": {
      "text/plain": [
       "True"
      ]
     },
     "execution_count": 102,
     "metadata": {},
     "output_type": "execute_result"
    }
   ],
   "source": [
    "is_delocalised(AR(U_sparse), LocalSubal)"
   ]
  },
  {
   "cell_type": "code",
   "execution_count": 104,
   "id": "3892bf1c",
   "metadata": {},
   "outputs": [],
   "source": [
    "# define a basis dictionary\n",
    "\n",
    "Basis_dic = {0 : \"Id6\", 1 : \"Id6 Z\", 2: \"Id6 Z^2\", 3: \"Id6 Z^3\", 4:\"Id6 Z^4\", 5: \"Id6 Z^5\", 6: \"X Id6\", 7 : \"X Z\", 8: \"X Z^2\",9 : \"X Z^3\", 10 : \"X Z^4\", 11 : \"X Z^5\", 12 : \"X^2 Id6\", 13 : \"X^2 Z\" , 14: \"X^2 Z^2\", 15: \"X^2 Z^3\", 16: \"X^2 Z^4\", 17: \"X^2 Z^5\",18: \"X^3 Id6\", 19: \"X^3 Z\", 20: \"X^3 Z^2\", 21: \"X^3 Z^3\", 22: \"X^3 Z^4\", 23: \"X^3 Z^5\",24: \"X^4 Id6\",25: \"X^4 Z\", 26: \"X^4 Z^2\", 27: \"X^4 Z^3\", 28: \"X^4 Z^4\", 29: \"X^4 Z^5\",30: \"X^5 Id6\", 31: \"X^5 Z\",32: \"X^5 Z^2\", 33: \"X^5 Z^3\", 34: \"X^5 Z^4\", 35: \"X^5 Z^5\"}"
   ]
  },
  {
   "cell_type": "code",
   "execution_count": 119,
   "id": "ba69ab9f",
   "metadata": {},
   "outputs": [],
   "source": [
    "# check if rotated subalgebra AL can be expressed through WH-operators\n",
    "\n",
    "AL_dic = []\n",
    "\n",
    "for M in AL(U_sparse):\n",
    "    for j in range(0,len(Basis)):\n",
    "        for k in range(0,len(Basis)):\n",
    "            #print(Matrix(Basis[j].tensor_product(Basis[k])), ' ', [j,k], '\\n')\n",
    "            for m in range(0,6):\n",
    "                if M == (f**m)*Basis[j].tensor_product(Basis[k]):\n",
    "                    AL_dic.append([m,Basis_dic[j], Basis_dic[k]])"
   ]
  },
  {
   "cell_type": "code",
   "execution_count": 124,
   "id": "820e46a5",
   "metadata": {},
   "outputs": [
    {
     "name": "stdout",
     "output_type": "stream",
     "text": [
      "m: 0 Id6 x Id6 \n",
      "\n",
      "m: 4 X^4 Z^4 x Id6 Z^2 \n",
      "\n",
      "m: 4 X^2 Z^2 x Id6 Z^4 \n",
      "\n"
     ]
    }
   ],
   "source": [
    "for M in AL_dic:\n",
    "    print(\"m:\", M[0], M[1],\"x\", M[2], \"\\n\")"
   ]
  },
  {
   "cell_type": "code",
   "execution_count": 122,
   "id": "11c44651",
   "metadata": {},
   "outputs": [],
   "source": [
    "# check if rotated subalgebra AR can be expressed through WH-operators\n",
    "\n",
    "AR_dic = []\n",
    "\n",
    "for M in AR(U_sparse):\n",
    "    for j in range(0,len(Basis)):\n",
    "        for k in range(0,len(Basis)):\n",
    "            #print(Matrix(Basis[j].tensor_product(Basis[k])), ' ', [j,k], '\\n')\n",
    "            for l in range(0,6):\n",
    "                if M == (f**m)*Basis[j].tensor_product(Basis[k]):\n",
    "                    AR_dic.append([m,Basis_dic[j], Basis_dic[k]])"
   ]
  },
  {
   "cell_type": "code",
   "execution_count": 125,
   "id": "376e5655",
   "metadata": {},
   "outputs": [],
   "source": [
    "for M in AR_dic:\n",
    "    print(\"m:\", M[0], M[1],\"x\", M[2], \"\\n\")"
   ]
  },
  {
   "cell_type": "code",
   "execution_count": null,
   "id": "5db9272a",
   "metadata": {},
   "outputs": [],
   "source": []
  }
 ],
 "metadata": {
  "kernelspec": {
   "display_name": "SageMath 10.0.beta5",
   "language": "sage",
   "name": "sagemath"
  },
  "language_info": {
   "codemirror_mode": {
    "name": "ipython",
    "version": 3
   },
   "file_extension": ".py",
   "mimetype": "text/x-python",
   "name": "python",
   "nbconvert_exporter": "python",
   "pygments_lexer": "ipython3",
   "version": "3.9.1"
  }
 },
 "nbformat": 4,
 "nbformat_minor": 5
}
