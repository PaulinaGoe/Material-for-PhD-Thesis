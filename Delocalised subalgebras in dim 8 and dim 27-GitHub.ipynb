{
 "cells": [
  {
   "cell_type": "code",
   "execution_count": 120,
   "id": "d32c3ac0",
   "metadata": {},
   "outputs": [],
   "source": [
    "import numpy as np"
   ]
  },
  {
   "cell_type": "markdown",
   "id": "383f40f6",
   "metadata": {},
   "source": [
    "I) Functions\n",
    "\n",
    "In the following section the fields, the matrix spaces and some of the elementary functions that are used throughtout this notebook will be defined. "
   ]
  },
  {
   "cell_type": "code",
   "execution_count": 64,
   "id": "698f580b",
   "metadata": {},
   "outputs": [],
   "source": [
    "# define fields and matrix spaces\n",
    "\n",
    "V.<l> = CyclotomicField(2)\n",
    "K.<w> = CyclotomicField(3)\n",
    "\n",
    "M3= MatrixSpace(K, 3,3)\n",
    "M9= MatrixSpace(K, 9,9)\n",
    "M27 = MatrixSpace(K, 27,27)\n",
    "\n",
    "\n",
    "M2 =MatrixSpace(V, 2,2)\n",
    "M4 =MatrixSpace(V, 4,4)\n",
    "M8 =MatrixSpace(V, 8,8)"
   ]
  },
  {
   "cell_type": "code",
   "execution_count": 65,
   "id": "8cb224e7",
   "metadata": {},
   "outputs": [],
   "source": [
    "# Define a function that checks if two subalgebras are quasi-orthogonal\n",
    "\n",
    "def is_quasi_orth(A,B):\n",
    "    for V in A:\n",
    "        for W in B:\n",
    "            K = V*W\n",
    "            if (K.trace())/(K.nrows()) != ((V.trace())*(W.trace()))/((V.nrows())*(W.nrows())):\n",
    "                return false\n",
    "    return true"
   ]
  },
  {
   "cell_type": "code",
   "execution_count": 66,
   "id": "d0fe355b",
   "metadata": {},
   "outputs": [],
   "source": [
    "# Define a function that checks if a subalgebra is delocalised\n",
    "\n",
    "def is_delocalised(A,List):\n",
    "    for element in List:\n",
    "        if is_quasi_orth(A,element) == false:\n",
    "            return false\n",
    "    return true\n",
    "            "
   ]
  },
  {
   "cell_type": "markdown",
   "id": "96b0b970",
   "metadata": {},
   "source": [
    "Define all possible reorderings of a 6-valent tensor as functions. This results in 9 functions:"
   ]
  },
  {
   "cell_type": "code",
   "execution_count": 67,
   "id": "d5024ca5",
   "metadata": {},
   "outputs": [],
   "source": [
    "# partial transpose [l,j,k,i,m,n]\n",
    "\n",
    "def matrix_partial_transpose_14(M,d):\n",
    "    dim = d**3\n",
    "    matrix_reshaped = np.array(M).reshape((d, d, d, d, d, d))\n",
    "    return matrix(np.array([[[[[[matrix_reshaped[l,j,k,i,m,n] for i in range(0,d)] for j in range(0,d)] for k in range(0,d)] for l in range(0,d)] for m in range(0,d)] for n in range(0,d)]).reshape((dim ,dim)))\n"
   ]
  },
  {
   "cell_type": "code",
   "execution_count": 68,
   "id": "6931e47a",
   "metadata": {},
   "outputs": [],
   "source": [
    "# partial transpose [i,m,k,l,j,n]\n",
    "\n",
    "def matrix_partial_transpose_25(M,d):\n",
    "    dim = d**3\n",
    "    matrix_reshaped = np.array(M).reshape((d, d, d, d, d, d))\n",
    "    return matrix(np.array([[[[[[matrix_reshaped[i,m,k,l,j,n] for i in range(0,d)] for j in range(0,d)] for k in range(0,d)] for l in range(0,d)] for m in range(0,d)] for n in range(0,d)]).reshape((dim ,dim)))\n"
   ]
  },
  {
   "cell_type": "code",
   "execution_count": 69,
   "id": "685623c3",
   "metadata": {},
   "outputs": [],
   "source": [
    "# partial transpose [i,j,n,l,m,k]\n",
    "\n",
    "def matrix_partial_transpose_36(M,d):\n",
    "    dim = d**3\n",
    "    matrix_reshaped = np.array(M).reshape((d, d, d, d, d, d))\n",
    "    return matrix(np.array([[[[[[matrix_reshaped[i,j,n,l,m,k] for i in range(0,d)] for j in range(0,d)] for k in range(0,d)] for l in range(0,d)] for m in range(0,d)] for n in range(0,d)]).reshape((dim ,dim)))\n"
   ]
  },
  {
   "cell_type": "code",
   "execution_count": 57,
   "id": "4fc03cbd",
   "metadata": {},
   "outputs": [],
   "source": [
    "# reshuffle [n,j,k,l,m,i]\n",
    "\n",
    "def matrix_reshuffle_16(M,d):\n",
    "    dim = d**3\n",
    "    matrix_reshaped = np.array(M).reshape((d, d, d, d, d, d))\n",
    "    return matrix(np.array([[[[[[matrix_reshaped[n,j,k,l,m,i] for i in range(0,d)] for j in range(0,d)] for k in range(0,d)] for l in range(0,d)] for m in range(0,d)] for n in range(0,d)]).reshape((dim ,dim)))\n"
   ]
  },
  {
   "cell_type": "code",
   "execution_count": 38,
   "id": "65a039e4",
   "metadata": {},
   "outputs": [],
   "source": [
    "# reshuffle [m,j,k,l,i,n]\n",
    "\n",
    "def matrix_reshuffle_15(M,d):\n",
    "    dim = d**3\n",
    "    matrix_reshaped = np.array(M).reshape((d, d, d, d, d, d))\n",
    "    return matrix(np.array([[[[[[matrix_reshaped[m,j,k,l,i,n] for i in range(0,d)] for j in range(0,d)] for k in range(0,d)] for l in range(0,d)] for m in range(0,d)] for n in range(0,d)]).reshape((dim ,dim)))\n"
   ]
  },
  {
   "cell_type": "code",
   "execution_count": 39,
   "id": "07347fa4",
   "metadata": {},
   "outputs": [],
   "source": [
    "# reshuffle [i,l,k,j,m,n]\n",
    "\n",
    "def matrix_reshuffle_24(M,d):\n",
    "    dim = d**3\n",
    "    matrix_reshaped = np.array(M).reshape((d, d, d, d, d, d))\n",
    "    return matrix(np.array([[[[[[matrix_reshaped[i,l,k,j,m,n] for i in range(0,d)] for j in range(0,d)] for k in range(0,d)] for l in range(0,d)] for m in range(0,d)] for n in range(0,d)]).reshape((dim ,dim)))\n"
   ]
  },
  {
   "cell_type": "code",
   "execution_count": 40,
   "id": "5e6043ec",
   "metadata": {},
   "outputs": [],
   "source": [
    "# reshuffle [i,n,k,l,m,j]\n",
    "\n",
    "def matrix_reshuffle_26(M,d):\n",
    "    dim = d**3\n",
    "    matrix_reshaped = np.array(M).reshape((d, d, d, d, d, d))\n",
    "    return matrix(np.array([[[[[[matrix_reshaped[i,n,k,l,m,j] for i in range(0,d)] for j in range(0,d)] for k in range(0,d)] for l in range(0,d)] for m in range(0,d)] for n in range(0,d)]).reshape((dim ,dim)))\n"
   ]
  },
  {
   "cell_type": "code",
   "execution_count": 41,
   "id": "3b98f19f",
   "metadata": {},
   "outputs": [],
   "source": [
    "# reshuffle [i,j,l,k,m,n]\n",
    "\n",
    "def matrix_reshuffle_34(M,d):\n",
    "    dim = d**3\n",
    "    matrix_reshaped = np.array(M).reshape((d, d, d, d, d, d))\n",
    "    return matrix(np.array([[[[[[matrix_reshaped[i,j,l,k,m,n]for i in range(0,d)] for j in range(0,d)] for k in range(0,d)] for l in range(0,d)] for m in range(0,d)] for n in range(0,d)]).reshape((dim ,dim)))\n"
   ]
  },
  {
   "cell_type": "code",
   "execution_count": 42,
   "id": "9db83957",
   "metadata": {},
   "outputs": [],
   "source": [
    "# reshuffle [i,j,m,l,k,n]\n",
    "\n",
    "def matrix_reshuffle_35(M,d):\n",
    "    dim = d**3\n",
    "    matrix_reshaped = np.array(M).reshape((d, d, d, d, d, d))\n",
    "    return matrix(np.array([[[[[[matrix_reshaped[i,j,m,l,k,n] for i in range(0,d)] for j in range(0,d)] for k in range(0,d)] for l in range(0,d)] for m in range(0,d)] for n in range(0,d)]).reshape((dim ,dim)))\n"
   ]
  },
  {
   "cell_type": "markdown",
   "id": "d4780a31",
   "metadata": {},
   "source": [
    "II) Example for $d=2$\n",
    "\n",
    "Consider the matrix algebra $\\mathcal{M}_{2}(\\mathbb{C})\\otimes \\mathcal{M}_{2}(\\mathbb{C})\\otimes\\mathcal{M}_{2}(\\mathbb{C})$ and consider the following basis for $\\mathcal{M}_{2}(\\mathbb{C})$:\n",
    "\\begin{align}\n",
    "\\{ S^{i} W^{j} \\}_{i,j = 0,1} \\ \\ \\text{with} \\ S = \\begin{pmatrix}  0 &1 \\\\ 1&0 \\end{pmatrix} \\ \\text{and} \\ W= \\begin{pmatrix} 1 & 0 \\\\ 0& \\lambda  \\end{pmatrix} \\ \\text{where} \\ \\lambda = \\mathrm{exp}( \\pi i)\n",
    "\\end{align}\n",
    "\n",
    "Define three quasi-orthogonal subalgebras:\n",
    "\\begin{align}\n",
    "\\mathcal{L} \\cong \\mathcal{M}_{2} (\\mathbb{C}) \\otimes \\mathbb{I}_4 &= \\{ \\mathbb{I}_2 \\otimes \\mathbb{I}_4, SW \\otimes \\mathbb{I}_4, W \\otimes \\mathbb{I}_4, S \\otimes \\mathbb{I}_4 \\}, \\\\\n",
    "\\mathcal{R} \\cong  \\mathbb{I}_4 \\otimes \\mathcal{M}_{2} (\\mathbb{C}) &= \\{ \\mathbb{I}_4 \\otimes \\mathbb{I}_2, \\mathbb{I}_4 \\otimes SW, \\mathbb{I}_4 \\otimes S,  \\mathbb{I}_4 \\otimes W \\}, \\\\\n",
    "\\mathcal{M} \\cong  \\mathbb{I}_2 \\otimes \\mathcal{M}_{2} (\\mathbb{C}) \\otimes \\mathbb{I}_2 &= \\{ \\mathbb{I}_2 \\otimes \\mathbb{I}_2 \\otimes \\mathbb{I}_2,  \\mathbb{I}_2 \\otimes SW \\otimes \\mathbb{I}_2, \\mathbb{I}_2 \\otimes W \\otimes \\mathbb{I}_2, \\mathbb{I}_2 \\otimes S \\otimes \\mathbb{I}_2\\}.\n",
    "\\end{align}\n"
   ]
  },
  {
   "cell_type": "code",
   "execution_count": 43,
   "id": "6ec65b0e",
   "metadata": {},
   "outputs": [],
   "source": [
    "# Define matrices\n",
    "\n",
    "S_2 = M2([[0,1],[1,0]])\n",
    "W_2 = M2([[1,0],[0, l]])\n",
    "Id2 = identity_matrix(2)\n",
    "Id4 = identity_matrix(4)\n",
    "Id8 = identity_matrix(8)\n",
    "\n",
    "\n",
    "# Define basis\n",
    "\n",
    "Basis_2 = [Id2, S_2, W_2, S_2*W_2]\n",
    "\n"
   ]
  },
  {
   "cell_type": "code",
   "execution_count": 44,
   "id": "abee3e06",
   "metadata": {},
   "outputs": [],
   "source": [
    "# Define local subalgebras\n",
    "\n",
    "L_2 = [ M8(Basis_2[i].tensor_product(Id4)) for i in range(0,4) ]\n",
    "R_2 = [ M8(Id4.tensor_product(Basis_2[i])) for i in range(0,4) ]\n",
    "M_2 = [ M8(Id2.tensor_product(Basis_2[i].tensor_product(Id2)))for i in range(0,4) ]\n",
    "\n",
    "\n",
    "# collect them in a list\n",
    "\n",
    "LocalSubal_2 = [L_2,R_2,M_2]\n",
    "\n"
   ]
  },
  {
   "cell_type": "markdown",
   "id": "cb3d084e",
   "metadata": {},
   "source": [
    "The following 3-unitary matrix was taken from https://arxiv.org/pdf/1506.08857:\n",
    "\n",
    "\\begin{align}\n",
    "U = \\frac{1}{\\sqrt{8}}\n",
    "\\begin{pmatrix} -1 &-1&-1&1&-1&1&1&1 \\\\ -1&-1&-1&1&1&-1&-1&-1\\\\ -1&-1&1&-1&-1&1&-1&-1 \\\\ 1&1&-1&1&-1&1&-1&-1 \\\\-1&1&-1&-1&-1&-1&1&-1 \\\\ 1&-1&1&1&-1&-1&1&-1\\\\ 1&-1&-1&-1&1&1&1&-1\\\\ 1&-1&-1&-1&-1&-1&-1&1\n",
    "\\end{pmatrix}.\n",
    "\\end{align}\n"
   ]
  },
  {
   "cell_type": "code",
   "execution_count": 48,
   "id": "33ce4d04",
   "metadata": {},
   "outputs": [
    {
     "data": {
      "text/plain": [
       "True"
      ]
     },
     "execution_count": 48,
     "metadata": {},
     "output_type": "execute_result"
    }
   ],
   "source": [
    "# Define 3-unitary \n",
    "\n",
    "U = (8**(-1/2))*M8([[-1,-1,-1,1,-1,1,1,1],[-1,-1,-1,1,1,-1,-1,-1],[-1,-1,1,-1,-1,1,-1,-1],[1,1,-1,1,-1,1,-1,-1],[-1,1,-1,-1,-1,-1,1,-1],[1,-1,1,1,-1,-1,1,-1],[1,-1,-1,-1,1,1,1,-1],[1,-1,-1,-1,-1,-1,-1,1]]).transpose()\n",
    "\n",
    "\n",
    "# Test \n",
    "\n",
    "U.is_unitary()"
   ]
  },
  {
   "cell_type": "code",
   "execution_count": 49,
   "id": "f4fee507",
   "metadata": {},
   "outputs": [
    {
     "data": {
      "text/plain": [
       "True"
      ]
     },
     "execution_count": 49,
     "metadata": {},
     "output_type": "execute_result"
    }
   ],
   "source": [
    "# U is self-adjoint\n",
    "\n",
    "U.conjugate_transpose() == U"
   ]
  },
  {
   "cell_type": "code",
   "execution_count": 50,
   "id": "952f4569",
   "metadata": {},
   "outputs": [
    {
     "data": {
      "text/plain": [
       "[1 0 0 0 0 0 0 0]\n",
       "[0 1 0 0 0 0 0 0]\n",
       "[0 0 1 0 0 0 0 0]\n",
       "[0 0 0 1 0 0 0 0]\n",
       "[0 0 0 0 1 0 0 0]\n",
       "[0 0 0 0 0 1 0 0]\n",
       "[0 0 0 0 0 0 1 0]\n",
       "[0 0 0 0 0 0 0 1]"
      ]
     },
     "execution_count": 50,
     "metadata": {},
     "output_type": "execute_result"
    }
   ],
   "source": [
    "# U has order 2\n",
    "\n",
    "U**2"
   ]
  },
  {
   "cell_type": "markdown",
   "id": "5fc1dddb",
   "metadata": {},
   "source": [
    "Now use $U \\in U(8)$ in order to define rotated subalgebras $\\mathcal{A}_{\\mathcal{L}} := U \\mathcal{L} U^{\\dagger}$, $\\mathcal{A}_{\\mathcal{R}} := U \\mathcal{R} U^{\\dagger}$ and $\\mathcal{A}_{\\mathcal{M}} := U \\mathcal{M} U^{\\dagger}$ that are delocalised."
   ]
  },
  {
   "cell_type": "code",
   "execution_count": 70,
   "id": "1f568f65",
   "metadata": {},
   "outputs": [],
   "source": [
    "# Define rotated subalgebras\n",
    "\n",
    "AL_2= [M8(U*L_2[i]*U.conjugate_transpose()) for i in range(0,4)]\n",
    "\n",
    "AR_2= [M8(U*R_2[i]*U.conjugate_transpose()) for i in range(0,4)]\n",
    "\n",
    "AM_2= [M8(U*M_2[i]*U.conjugate_transpose()) for i in range(0,4)]"
   ]
  },
  {
   "cell_type": "code",
   "execution_count": 71,
   "id": "c6c4c008",
   "metadata": {},
   "outputs": [
    {
     "data": {
      "text/plain": [
       "True"
      ]
     },
     "execution_count": 71,
     "metadata": {},
     "output_type": "execute_result"
    }
   ],
   "source": [
    "# Check if subalgebras are delocalised\n",
    "\n",
    "\n",
    "is_delocalised(AL_2, LocalSubal_2) "
   ]
  },
  {
   "cell_type": "code",
   "execution_count": 72,
   "id": "2b955fae",
   "metadata": {},
   "outputs": [
    {
     "data": {
      "text/plain": [
       "True"
      ]
     },
     "execution_count": 72,
     "metadata": {},
     "output_type": "execute_result"
    }
   ],
   "source": [
    "is_delocalised(AR_2, LocalSubal_2) "
   ]
  },
  {
   "cell_type": "code",
   "execution_count": 73,
   "id": "cb471cbb",
   "metadata": {},
   "outputs": [
    {
     "data": {
      "text/plain": [
       "True"
      ]
     },
     "execution_count": 73,
     "metadata": {},
     "output_type": "execute_result"
    }
   ],
   "source": [
    "is_delocalised(AM_2, LocalSubal_2) "
   ]
  },
  {
   "cell_type": "code",
   "execution_count": 74,
   "id": "77cebcd5",
   "metadata": {},
   "outputs": [],
   "source": [
    "# Construct all possible rearrrangements of U\n",
    "\n",
    "U_R_16 = matrix_reshuffle_16(U,2)\n",
    "U_R_15 = matrix_reshuffle_15(U,2)\n",
    "U_G_14 = matrix_partial_transpose_14(U,2)\n",
    "U_R_24 = matrix_reshuffle_24(U,2)\n",
    "U_G_25 = matrix_partial_transpose_25(U,2)\n",
    "U_R_26 = matrix_reshuffle_26(U,2)\n",
    "U_R_34 = matrix_reshuffle_34(U,2)\n",
    "U_R_35 = matrix_reshuffle_35(U,2)\n",
    "U_G_36 = matrix_partial_transpose_36(U,2)\n",
    "\n",
    "\n",
    "U_reordered_2 = [U_R_16,U_R_15,U_G_14,U_R_24,U_G_25,U_R_26,U_R_34,U_R_35,U_G_36]\n",
    "\n"
   ]
  },
  {
   "cell_type": "code",
   "execution_count": 75,
   "id": "ded51bae",
   "metadata": {},
   "outputs": [
    {
     "name": "stdout",
     "output_type": "stream",
     "text": [
      "True\n",
      "True\n",
      "True\n",
      "True\n",
      "True\n",
      "True\n",
      "True\n",
      "True\n",
      "True\n"
     ]
    }
   ],
   "source": [
    "# Test if all rearrangements are unitary\n",
    "\n",
    "for V in U_reordered_2:\n",
    "    print(V.is_unitary())"
   ]
  },
  {
   "cell_type": "code",
   "execution_count": 76,
   "id": "e5711a91",
   "metadata": {},
   "outputs": [
    {
     "name": "stdout",
     "output_type": "stream",
     "text": [
      "False\n",
      "False\n",
      "True\n",
      "False\n",
      "True\n",
      "False\n",
      "False\n",
      "False\n",
      "True\n"
     ]
    }
   ],
   "source": [
    "# check which rearrangements are self-adjoint\n",
    "# as it turns out, these are only the unitaries correpsonding to the partial transpose operations\n",
    "\n",
    "for V in U_rearr_2:\n",
    "    print(V == V.transpose())\n",
    "    "
   ]
  },
  {
   "cell_type": "markdown",
   "id": "19c1f184",
   "metadata": {},
   "source": [
    "\n",
    "III)\n",
    "\n",
    "Consider the matrix algebra $\\mathcal{M}_{3}(\\mathbb{C}) \\otimes \\mathcal{M}_{3} (\\mathbb{C}) \\otimes \\mathcal{M}_{3} (\\mathbb{C})$ with the following basis:\n",
    "\n",
    "\\begin{align}\n",
    "\\{ S^{i} W^{j} \\}_{i,j = 0,1,2} \\ \\ \\text{with} \\ S = \\begin{pmatrix} 0 & 0 &1 \\\\ 1&0&0 \\\\ 0&1&0 \\end{pmatrix} \\ \\text{and} \\ W= \\begin{pmatrix} 1 & 0&0 \\\\ 0& \\lambda & 0 \\\\ 0&0& \\lambda^{2} \\end{pmatrix} \\ \\text{where} \\ \\lambda = \\mathrm{exp}(2 \\pi i /3)\n",
    "\\end{align}\n",
    "\n",
    "The local subalgebras are given by: \n",
    "\n",
    "\\begin{align}\n",
    "\\mathcal{L} \\cong \\mathcal{M}_{3} (\\mathbb{C}) \\otimes \\mathbb{I}_9 &= \\{ \\mathbb{I}_3 \\otimes \\mathbb{I}_9, S \\otimes \\mathbb{I}_9, SW \\otimes \\mathbb{I}_9, S^{2}W^{2} \\otimes \\mathbb{I}_9, SW^{2} \\otimes \\mathbb{I}_9, S^{2} \\otimes \\mathbb{I}_9, W \\otimes \\mathbb{I}_9, S^{2} W \\otimes \\mathbb{I}_9, W^{2} \\otimes \\mathbb{I}_9 \\}  \\ \\ \\  \\text{and} \\\\\n",
    "\\mathcal{R} \\cong  \\mathbb{I}_9 \\otimes \\mathcal{M}_{3} (\\mathbb{C}) &= \\{ \\mathbb{I}_9 \\otimes \\mathbb{I}_3,\\mathbb{I}_9 \\otimes S, \\mathbb{I}_9 \\otimes SW, \\mathbb{I}_9 \\otimes S^{2} W^{2}, \\mathbb{I}_9 \\otimes SW^{2}, \\mathbb{I}_9 \\otimes S^{2}, \\mathbb{I}_9 \\otimes W, \\mathbb{I}_9 \\otimes S^{2}W, \\mathbb{I}_9 \\otimes W^{2} \\}.\n",
    "\\end{align}\n",
    "and \n",
    "\\begin{align}\n",
    "\\mathcal{M} \\cong  \\mathbb{I}_3 \\otimes \\mathcal{M}_{3} (\\mathbb{C}) \\otimes \\mathbb{I}_3 = \\{ \\mathbb{I}_3 \\otimes \\mathbb{I}_3 \\otimes \\mathbb{I}_3, \\mathbb{I}_3 \\otimes S \\otimes \\mathbb{I}_3, \\mathbb{I}_3 \\otimes SW \\otimes \\mathbb{I}_3, \\mathbb{I}_3 \\otimes S^{2}W^{2} \\otimes \\mathbb{I}_3, \\mathbb{I}_3 \\otimes SW^{2} \\otimes \\mathbb{I}_3, \\mathbb{I}_3 \\otimes S^{2} \\otimes \\mathbb{I}_3, \\mathbb{I}_3 \\otimes W \\otimes \\mathbb{I}_3, \\mathbb{I}_3 \\otimes S^{2} W \\otimes \\mathbb{I}_3, \\mathbb{I}_3 \\otimes W^{2} \\otimes \\mathbb{I}_3 \\}\n",
    "\\end{align}\n"
   ]
  },
  {
   "cell_type": "code",
   "execution_count": 79,
   "id": "801bb4dc",
   "metadata": {},
   "outputs": [],
   "source": [
    "# Define basis\n",
    "\n",
    "\n",
    "S = M3([[0,0,1],[1,0,0], [0,1,0]])\n",
    "W = M3([[1,0,0],[0, w,0],[0,0, w**2]])\n",
    "Id3 = M3(identity_matrix(3))\n",
    "Id9 =M9(identity_matrix(9))\n",
    "\n",
    "\n",
    "Basis = [Id3, S, W, S**2, W**2, S*W, (S**2)*(W**2), (S**2)*W, S*(W**2)]\n"
   ]
  },
  {
   "cell_type": "code",
   "execution_count": 91,
   "id": "aa9c1484",
   "metadata": {},
   "outputs": [
    {
     "data": {
      "text/plain": [
       "True"
      ]
     },
     "execution_count": 91,
     "metadata": {},
     "output_type": "execute_result"
    }
   ],
   "source": [
    "# Define subalgebras\n",
    "\n",
    "L_3 = [ M27(Basis[i].tensor_product(Id9)) for i in range(0,9) ]\n",
    "R_3 = [ M27(Id9.tensor_product(Basis[i])) for i in range(0,9) ]\n",
    "M_3 = [ M27((Id3.tensor_product(Basis[i])).tensor_product(Id3)) for i in range(0,9) ]\n",
    "\n",
    "# collect them in a list\n",
    "\n",
    "LocalSubal = [L_3,R_3,M_3]\n",
    "\n",
    "\n",
    "# Test \n",
    "\n",
    "is_quasi_orth(L_3,M_3)\n",
    "\n"
   ]
  },
  {
   "cell_type": "code",
   "execution_count": 84,
   "id": "ad9252ae",
   "metadata": {},
   "outputs": [
    {
     "name": "stdout",
     "output_type": "stream",
     "text": [
      "[1 0 0 0 0 0 0 0 0 0 0 0 0 0 0 0 0 0 0 0 0 0 0 0 0 0 0]\n",
      "[0 0 0 0 0 0 0 0 0 0 0 0 0 0 0 0 0 1 0 0 0 0 0 0 0 0 0]\n",
      "[0 0 0 0 0 0 0 0 0 0 0 0 0 0 0 0 0 0 0 0 0 0 1 0 0 0 0]\n",
      "[0 0 0 0 0 0 0 0 0 0 0 0 0 0 1 0 0 0 0 0 0 0 0 0 0 0 0]\n",
      "[0 0 0 0 0 0 0 0 0 0 0 0 0 0 0 0 0 0 0 1 0 0 0 0 0 0 0]\n",
      "[0 0 0 0 0 0 1 0 0 0 0 0 0 0 0 0 0 0 0 0 0 0 0 0 0 0 0]\n",
      "[0 0 0 0 0 0 0 0 0 0 0 0 0 0 0 0 0 0 0 0 0 0 0 0 0 1 0]\n",
      "[0 0 0 1 0 0 0 0 0 0 0 0 0 0 0 0 0 0 0 0 0 0 0 0 0 0 0]\n",
      "[0 0 0 0 0 0 0 0 0 0 0 1 0 0 0 0 0 0 0 0 0 0 0 0 0 0 0]\n",
      "[0 0 0 0 0 0 0 0 0 0 1 0 0 0 0 0 0 0 0 0 0 0 0 0 0 0 0]\n",
      "[0 0 0 0 0 0 0 0 0 0 0 0 0 0 0 0 0 0 0 0 0 0 0 0 1 0 0]\n",
      "[0 0 0 0 0 1 0 0 0 0 0 0 0 0 0 0 0 0 0 0 0 0 0 0 0 0 0]\n",
      "[0 0 0 0 0 0 0 0 0 0 0 0 0 0 0 0 0 0 0 0 0 1 0 0 0 0 0]\n",
      "[0 0 1 0 0 0 0 0 0 0 0 0 0 0 0 0 0 0 0 0 0 0 0 0 0 0 0]\n",
      "[0 0 0 0 0 0 0 0 0 0 0 0 0 0 0 0 1 0 0 0 0 0 0 0 0 0 0]\n",
      "[0 0 0 0 0 0 0 0 1 0 0 0 0 0 0 0 0 0 0 0 0 0 0 0 0 0 0]\n",
      "[0 0 0 0 0 0 0 0 0 0 0 0 0 1 0 0 0 0 0 0 0 0 0 0 0 0 0]\n",
      "[0 0 0 0 0 0 0 0 0 0 0 0 0 0 0 0 0 0 1 0 0 0 0 0 0 0 0]\n",
      "[0 0 0 0 0 0 0 0 0 0 0 0 0 0 0 0 0 0 0 0 1 0 0 0 0 0 0]\n",
      "[0 0 0 0 0 0 0 1 0 0 0 0 0 0 0 0 0 0 0 0 0 0 0 0 0 0 0]\n",
      "[0 0 0 0 0 0 0 0 0 0 0 0 1 0 0 0 0 0 0 0 0 0 0 0 0 0 0]\n",
      "[0 0 0 0 1 0 0 0 0 0 0 0 0 0 0 0 0 0 0 0 0 0 0 0 0 0 0]\n",
      "[0 0 0 0 0 0 0 0 0 1 0 0 0 0 0 0 0 0 0 0 0 0 0 0 0 0 0]\n",
      "[0 0 0 0 0 0 0 0 0 0 0 0 0 0 0 0 0 0 0 0 0 0 0 0 0 0 1]\n",
      "[0 0 0 0 0 0 0 0 0 0 0 0 0 0 0 1 0 0 0 0 0 0 0 0 0 0 0]\n",
      "[0 0 0 0 0 0 0 0 0 0 0 0 0 0 0 0 0 0 0 0 0 0 0 1 0 0 0]\n",
      "[0 1 0 0 0 0 0 0 0 0 0 0 0 0 0 0 0 0 0 0 0 0 0 0 0 0 0]\n"
     ]
    }
   ],
   "source": [
    "# Define matrix from example\n",
    "\n",
    "U_prime = (M27([\n",
    " [1, 0, 0, 0, 0, 0, 0, 0, 0, 0, 0, 0, 0, 0, 0, 0, 0, 0, 0, 0, 0, 0, 0,\n",
    "   0, 0, 0, 0],\n",
    " [0, 0, 0, 0, 0, 0, 0, 0, 0, 0, 0, 0, 0, 0, 0, 0, 0, 1, 0, 0, 0, 0, 0,\n",
    "   0, 0, 0, 0],\n",
    " [0, 0, 0, 0, 0, 0, 0, 0, 0, 0, 0, 0, 0, 0, 0, 0, 0, 0, 0, 0, 0, 0, 1,\n",
    "   0, 0, 0, 0],\n",
    " [0, 0, 0, 0, 0, 0, 0, 0, 0, 0, 0, 0, 0, 0, 1, 0, 0, 0, 0, 0, 0, 0, 0,\n",
    "   0, 0, 0, 0],\n",
    " [0, 0, 0, 0, 0, 0, 0, 0, 0, 0, 0, 0, 0, 0, 0, 0, 0, 0, 0, 1, 0, 0, 0,\n",
    "   0, 0, 0, 0],\n",
    " [0, 0, 0, 0, 0, 0, 1, 0, 0, 0, 0, 0, 0, 0, 0, 0, 0, 0, 0, 0, 0, 0, 0,\n",
    "   0, 0, 0, 0],\n",
    " [0, 0, 0, 0, 0, 0, 0, 0, 0, 0, 0, 0, 0, 0, 0, 0, 0, 0, 0, 0, 0, 0, 0,\n",
    "   0, 0, 1, 0],\n",
    " [0, 0, 0, 1, 0, 0, 0, 0, 0, 0, 0, 0, 0, 0, 0, 0, 0, 0, 0, 0, 0, 0, 0,\n",
    "   0, 0, 0, 0],\n",
    " [0, 0, 0, 0, 0, 0, 0, 0, 0, 0, 0, 1, 0, 0, 0, 0, 0, 0, 0, 0, 0, 0, 0,\n",
    "   0, 0, 0, 0],\n",
    " [0, 0, 0, 0, 0, 0, 0, 0, 0, 0, 1, 0, 0, 0, 0, 0, 0, 0, 0, 0, 0, 0, 0,\n",
    "   0, 0, 0, 0],\n",
    " [0, 0, 0, 0, 0, 0, 0, 0, 0, 0, 0, 0, 0, 0, 0, 0, 0, 0, 0, 0, 0, 0, 0,\n",
    "   0, 1, 0, 0],\n",
    " [0, 0, 0, 0, 0, 1, 0, 0, 0, 0, 0, 0, 0, 0, 0, 0, 0, 0, 0, 0, 0, 0, 0,\n",
    "   0, 0, 0, 0],\n",
    " [0, 0, 0, 0, 0, 0, 0, 0, 0, 0, 0, 0, 0, 0, 0, 0, 0, 0, 0, 0, 0, 1, 0,\n",
    "   0, 0, 0, 0],\n",
    " [0, 0, 1, 0, 0, 0, 0, 0, 0, 0, 0, 0, 0, 0, 0, 0, 0, 0, 0, 0, 0, 0, 0,\n",
    "   0, 0, 0, 0],\n",
    " [0, 0, 0, 0, 0, 0, 0, 0, 0, 0, 0, 0, 0, 0, 0, 0, 1, 0, 0, 0, 0, 0, 0,\n",
    "   0, 0, 0, 0],\n",
    " [0, 0, 0, 0, 0, 0, 0, 0, 1, 0, 0, 0, 0, 0, 0, 0, 0, 0, 0, 0, 0, 0, 0,\n",
    "   0, 0, 0, 0],\n",
    " [0, 0, 0, 0, 0, 0, 0, 0, 0, 0, 0, 0, 0, 1, 0, 0, 0, 0, 0, 0, 0, 0, 0,\n",
    "   0, 0, 0, 0],\n",
    " [0, 0, 0, 0, 0, 0, 0, 0, 0, 0, 0, 0, 0, 0, 0, 0, 0, 0, 1, 0, 0, 0, 0,\n",
    "   0, 0, 0, 0],\n",
    " [0, 0, 0, 0, 0, 0, 0, 0, 0, 0, 0, 0, 0, 0, 0, 0, 0, 0, 0, 0, 1, 0, 0,\n",
    "   0, 0, 0, 0],\n",
    " [0, 0, 0, 0, 0, 0, 0, 1, 0, 0, 0, 0, 0, 0, 0, 0, 0, 0, 0, 0, 0, 0, 0,\n",
    "   0, 0, 0, 0],\n",
    " [0, 0, 0, 0, 0, 0, 0, 0, 0, 0, 0, 0, 1, 0, 0, 0, 0, 0, 0, 0, 0, 0, 0,\n",
    "   0, 0, 0, 0],\n",
    " [0, 0, 0, 0, 1, 0, 0, 0, 0, 0, 0, 0, 0, 0, 0, 0, 0, 0, 0, 0, 0, 0, 0,\n",
    "   0, 0, 0, 0],\n",
    " [0, 0, 0, 0, 0, 0, 0, 0, 0, 1, 0, 0, 0, 0, 0, 0, 0, 0, 0, 0, 0, 0, 0,\n",
    "   0, 0, 0, 0],\n",
    " [0, 0, 0, 0, 0, 0, 0, 0, 0, 0, 0, 0, 0, 0, 0, 0, 0, 0, 0, 0, 0, 0, 0,\n",
    "   0, 0, 0, 1],\n",
    " [0, 0, 0, 0, 0, 0, 0, 0, 0, 0, 0, 0, 0, 0, 0, 1, 0, 0, 0, 0, 0, 0, 0,\n",
    "   0, 0, 0, 0],\n",
    " [0, 0, 0, 0, 0, 0, 0, 0, 0, 0, 0, 0, 0, 0, 0, 0, 0, 0, 0, 0, 0, 0, 0,\n",
    "   1, 0, 0, 0],\n",
    " [0, 1, 0, 0, 0, 0, 0, 0, 0, 0, 0, 0, 0, 0, 0, 0, 0, 0, 0, 0, 0, 0, 0,\n",
    "   0, 0, 0, 0]]))\n",
    "\n",
    "\n",
    "print(U_prime.str())"
   ]
  },
  {
   "cell_type": "code",
   "execution_count": 28,
   "id": "4539d926",
   "metadata": {},
   "outputs": [
    {
     "data": {
      "text/plain": [
       "[0,\n",
       " 26,\n",
       " 13,\n",
       " 7,\n",
       " 21,\n",
       " 11,\n",
       " 5,\n",
       " 19,\n",
       " 15,\n",
       " 22,\n",
       " 9,\n",
       " 8,\n",
       " 20,\n",
       " 16,\n",
       " 3,\n",
       " 24,\n",
       " 14,\n",
       " 1,\n",
       " 17,\n",
       " 4,\n",
       " 18,\n",
       " 12,\n",
       " 2,\n",
       " 25,\n",
       " 10,\n",
       " 6,\n",
       " 23]"
      ]
     },
     "execution_count": 28,
     "metadata": {},
     "output_type": "execute_result"
    }
   ],
   "source": [
    "# write matrix as permutation (for LaTeX)\n",
    "\n",
    "perm = []\n",
    "for i in range(0,27):\n",
    "    for j in range(0,27):\n",
    "        if U_prime[j,i] == 1:\n",
    "            perm.append(j)\n",
    "\n",
    "            \n",
    "perm"
   ]
  },
  {
   "cell_type": "code",
   "execution_count": 85,
   "id": "823b0daf",
   "metadata": {},
   "outputs": [
    {
     "data": {
      "text/plain": [
       "True"
      ]
     },
     "execution_count": 85,
     "metadata": {},
     "output_type": "execute_result"
    }
   ],
   "source": [
    "# Check unitarity\n",
    "\n",
    "U_prime.is_unitary()\n"
   ]
  },
  {
   "cell_type": "code",
   "execution_count": 86,
   "id": "83adbad5",
   "metadata": {},
   "outputs": [
    {
     "data": {
      "text/plain": [
       "False"
      ]
     },
     "execution_count": 86,
     "metadata": {},
     "output_type": "execute_result"
    }
   ],
   "source": [
    "# Check if U' is self-adjoint\n",
    "\n",
    "U_prime == (U_prime).transpose()"
   ]
  },
  {
   "cell_type": "markdown",
   "id": "d323dbbd",
   "metadata": {},
   "source": [
    "Use $U \\in U(27)$ to construct the rotated subalgebras $\\mathcal{A}_{\\mathcal{L}} := U \\mathcal{L} U^{\\dagger}$, $\\mathcal{A}_{\\mathcal{R}} := U \\mathcal{R} U^{\\dagger}$ and $\\mathcal{A}_{\\mathcal{M}} := U \\mathcal{M} U^{\\dagger}$ that are delocalised."
   ]
  },
  {
   "cell_type": "code",
   "execution_count": 92,
   "id": "902389c6",
   "metadata": {},
   "outputs": [],
   "source": [
    "# Define delocalised subalgebra\n",
    "\n",
    "AL_3= [Matrix(U_prime*L_3[i]*U_prime.transpose()) for i in range(0,9)]\n",
    "\n",
    "AR_3= [Matrix(U_prime*R_3[i]*U_prime.transpose()) for i in range(0,9)]\n",
    "\n",
    "AM_3= [Matrix(U_prime*M_3[i]*U_prime.transpose()) for i in range(0,9)]\n",
    "\n",
    "# collect them in a list\n",
    "\n",
    "rotated_subal = [AL_3,AR_3, AM_3]\n",
    "\n",
    "# define a list of strings corresponding to the subalgebras in the above list\n",
    "\n",
    "rotated_subal_str = ['AL','AR', 'AM']\n"
   ]
  },
  {
   "cell_type": "code",
   "execution_count": 93,
   "id": "dc77b119",
   "metadata": {},
   "outputs": [
    {
     "name": "stdout",
     "output_type": "stream",
     "text": [
      "AL True\n",
      "AR True\n",
      "AM True\n"
     ]
    }
   ],
   "source": [
    "# Test if all subalgebras are delocalised\n",
    "\n",
    "for i in range(0,3):\n",
    "        print(rotated_subal_str[i], is_delocalised(rotated_subal[i],LocalSubal))\n",
    "  \n"
   ]
  },
  {
   "cell_type": "code",
   "execution_count": 95,
   "id": "0a014b47",
   "metadata": {},
   "outputs": [],
   "source": [
    "# compute all possible rearrangments of U_prime\n",
    "\n",
    "U_prime_R_16 = matrix_reshuffle_16(U_prime,3)\n",
    "U_prime_R_15 = matrix_reshuffle_15(U_prime,3)\n",
    "U_prime_G_14 = matrix_partial_transpose_14(U_prime,3)\n",
    "U_prime_R_24 = matrix_reshuffle_24(U_prime,3)\n",
    "U_prime_G_25 = matrix_partial_transpose_25(U_prime,3)\n",
    "U_prime_R_26 = matrix_reshuffle_26(U_prime,3)\n",
    "U_prime_R_34 = matrix_reshuffle_34(U_prime,3)\n",
    "U_prime_R_35 = matrix_reshuffle_35(U_prime,3)\n",
    "U_prime_G_36 = matrix_partial_transpose_36(U_prime,3)\n",
    "\n",
    "\n",
    "# collect them in a list\n",
    "\n",
    "U_prime_reordered = [U_prime_R_16,U_prime_R_15,U_prime_G_14,U_prime_R_24,U_prime_G_25,U_prime_R_26,U_prime_R_34,U_prime_R_35,U_prime_G_36]\n",
    "\n",
    "\n",
    "# define a list of strings correpsonding to the matrices in the above list\n",
    "\n",
    "rearr_str = ['U_R_16','U_R_15','U_G_14','U_R_24','U_G_25','U_R_26','U_R_34','U_R_35','U_G_36']\n"
   ]
  },
  {
   "cell_type": "code",
   "execution_count": 96,
   "id": "9a30059a",
   "metadata": {},
   "outputs": [
    {
     "name": "stdout",
     "output_type": "stream",
     "text": [
      "U_R_16 True\n",
      "U_R_15 False\n",
      "U_G_14 True\n",
      "U_R_24 True\n",
      "U_G_25 True\n",
      "U_R_26 True\n",
      "U_R_34 True\n",
      "U_R_35 True\n",
      "U_G_36 True\n"
     ]
    }
   ],
   "source": [
    "# Test if all rearrangements are unitary\n",
    "\n",
    "for i in range(0,9):\n",
    "    print(rearr_str[i], U_prime_reordered[i].is_unitary())"
   ]
  },
  {
   "cell_type": "markdown",
   "id": "afb5a25f",
   "metadata": {},
   "source": [
    "IV) Norms\n",
    "\n",
    "\n",
    "In the following different norms of the rearranged matrices will be computed.\n",
    "\n",
    "\n",
    "Start by calculating the partial traces of the rearranged matrices as they appear in the proof.\n"
   ]
  },
  {
   "cell_type": "code",
   "execution_count": 100,
   "id": "6cb33d9a",
   "metadata": {},
   "outputs": [
    {
     "data": {
      "text/plain": [
       "array([1., 0., 0.])"
      ]
     },
     "execution_count": 100,
     "metadata": {},
     "output_type": "execute_result"
    }
   ],
   "source": [
    "# Define qutrit basis\n",
    "\n",
    "def unitV(i):\n",
    "    vec = np.zeros(3)\n",
    "    for l in range(0,3):\n",
    "        if l == i:\n",
    "            vec[l] = 1\n",
    "    return vec\n",
    "\n",
    "# Test \n",
    "\n",
    "unitV(0)"
   ]
  },
  {
   "cell_type": "code",
   "execution_count": 101,
   "id": "60f6e17b",
   "metadata": {},
   "outputs": [],
   "source": [
    "# Define tensor product of 2 qutrits\n",
    "\n",
    "def unitV2(i,j):\n",
    "    return np.kron(unitV(i),unitV(j))"
   ]
  },
  {
   "cell_type": "code",
   "execution_count": 102,
   "id": "1ee3b9dd",
   "metadata": {},
   "outputs": [],
   "source": [
    "# compute partial traces\n",
    "\n",
    "U_R_16_tr2 = []\n",
    "U_R_15_tr3 = []\n",
    "U_G_14_tr2 = []\n",
    "U_R_24_tr3 = []\n",
    "U_G_25_tr3 = []\n",
    "U_R_26_tr2 = []\n",
    "U_R_34_tr2 = []\n",
    "U_R_35_tr3 = []\n",
    "U_G_36_tr2 = []\n",
    "\n",
    "for i in range(0,3):\n",
    "     for j in range(0,3):\n",
    "        for k in range(0,3):\n",
    "            for l in range(0,3):\n",
    "                for m in range(0,3):\n",
    "                    for n in range(0,3):\n",
    "                        U_R_15_tr3.append(np.array(matrix(U_prime_R_15)*matrix(U_prime_R_15).transpose()).reshape(3,3,3,3,3,3)[i,j,k,l,m,n]*(np.outer(unitV2(i,j), unitV2(l,m))*np.trace(np.outer(unitV(k), unitV(n)))))\n",
    "                        U_R_24_tr3.append(np.array(matrix(U_prime_R_24)*matrix(U_prime_R_24).transpose()).reshape(3,3,3,3,3,3)[i,j,k,l,m,n]*(np.outer(unitV2(i,j), unitV2(l,m))*np.trace(np.outer(unitV(k), unitV(n)))))\n",
    "                        U_G_25_tr3.append(np.array(matrix(U_prime_G_25)*matrix(U_prime_G_25).transpose()).reshape(3,3,3,3,3,3)[i,j,k,l,m,n]*(np.outer(unitV2(i,j), unitV2(l,m))*np.trace(np.outer(unitV(k), unitV(n)))))\n",
    "                        U_R_35_tr3.append(np.array(matrix(U_prime_R_35)*matrix(U_prime_R_35).transpose()).reshape(3,3,3,3,3,3)[i,j,k,l,m,n]*(np.outer(unitV2(i,j), unitV2(l,m))*np.trace(np.outer(unitV(k), unitV(n)))))\n",
    "                        U_R_16_tr2.append(np.array(matrix(U_prime_R_16)*matrix(U_prime_R_16).transpose()).reshape(3,3,3,3,3,3)[i,j,k,l,m,n]*(np.outer(unitV2(i,k), unitV2(l,n))*np.trace(np.outer(unitV(j), unitV(m)))))\n",
    "                        U_G_14_tr2.append(np.array(matrix(U_prime_G_14)*matrix(U_prime_G_14).transpose()).reshape(3,3,3,3,3,3)[i,j,k,l,m,n]*(np.outer(unitV2(i,k), unitV2(l,n))*np.trace(np.outer(unitV(j), unitV(m)))))\n",
    "                        U_R_26_tr2.append(np.array(matrix(U_prime_R_26)*matrix(U_prime_R_26).transpose()).reshape(3,3,3,3,3,3)[i,j,k,l,m,n]*(np.outer(unitV2(i,k), unitV2(l,n))*np.trace(np.outer(unitV(j), unitV(m)))))\n",
    "                        U_R_34_tr2.append(np.array(matrix(U_prime_R_34)*matrix(U_prime_R_34).transpose()).reshape(3,3,3,3,3,3)[i,j,k,l,m,n]*(np.outer(unitV2(i,k), unitV2(l,n))*np.trace(np.outer(unitV(j), unitV(m)))))\n",
    "                        U_G_36_tr2.append(np.array(matrix(U_prime_G_36)*matrix(U_prime_G_36).transpose()).reshape(3,3,3,3,3,3)[i,j,k,l,m,n]*(np.outer(unitV2(i,k), unitV2(l,n))*np.trace(np.outer(unitV(j), unitV(m)))))\n",
    "                        \n",
    "\n",
    "\n",
    "# collect the resulting matrices in a a list\n",
    "\n",
    "rearr_PT = [matrix(sum(U_G_36_tr2).reshape(9,9)),matrix(sum(U_R_34_tr2).reshape(9,9)), matrix(sum(U_R_26_tr2).reshape(9,9)), matrix(sum(U_G_14_tr2).reshape(9,9)), matrix(sum(U_R_16_tr2).reshape(9,9)), matrix(sum(U_R_35_tr3).reshape(9,9)),matrix(sum(U_G_25_tr3).reshape(9,9)),matrix(sum(U_R_24_tr3).reshape(9,9)),matrix(sum(U_R_15_tr3).reshape(9,9))]                       "
   ]
  },
  {
   "cell_type": "code",
   "execution_count": 103,
   "id": "d4b40563",
   "metadata": {},
   "outputs": [],
   "source": [
    "# define a function that computes the 2-norm\n",
    "\n",
    "def TwoNorm(A, d):\n",
    "    list = []\n",
    "    for i in range(0,d):\n",
    "        for j in range(0,d):\n",
    "            list.append(abs(A[i,j])**2)\n",
    "    return sum(list)"
   ]
  },
  {
   "cell_type": "code",
   "execution_count": 104,
   "id": "50cd58e2",
   "metadata": {},
   "outputs": [
    {
     "name": "stdout",
     "output_type": "stream",
     "text": [
      "U_R_16 1\n",
      "U_R_15 9\n",
      "U_G_14 1\n",
      "U_R_24 1\n",
      "U_G_25 1\n",
      "U_R_26 1\n",
      "U_R_34 1\n",
      "U_R_35 1\n",
      "U_G_36 1\n"
     ]
    }
   ],
   "source": [
    "# compute 2-norms of rearrangements of U'\n",
    "\n",
    "for i in range(0,9):\n",
    "    print(rearr_str[i], (TwoNorm(U_prime_reordered[i]*(U_prime_reordered[i].transpose()),27))/27)\n",
    "    "
   ]
  },
  {
   "cell_type": "code",
   "execution_count": 119,
   "id": "797fe5df",
   "metadata": {},
   "outputs": [
    {
     "data": {
      "text/plain": [
       "27"
      ]
     },
     "execution_count": 119,
     "metadata": {},
     "output_type": "execute_result"
    }
   ],
   "source": [
    "# compute Schatten 2-norm of U' itself\n",
    "\n",
    "TwoNorm(U_prime,27 )"
   ]
  },
  {
   "cell_type": "code",
   "execution_count": 106,
   "id": "9ceaa7dc",
   "metadata": {},
   "outputs": [
    {
     "name": "stdout",
     "output_type": "stream",
     "text": [
      "1.0\n",
      "1.0\n",
      "1.0\n",
      "1.0\n",
      "1.0\n",
      "1.0\n",
      "1.0\n",
      "1.0\n",
      "1.0\n"
     ]
    }
   ],
   "source": [
    "# compute 2 norm of partial traces\n",
    "    \n",
    "for i in range(0,9):\n",
    "    print((TwoNorm(rearr_PT[i],9))/81)\n",
    "    "
   ]
  },
  {
   "cell_type": "code",
   "execution_count": 107,
   "id": "4ed74394",
   "metadata": {},
   "outputs": [],
   "source": [
    "# define function that computes schatten 4-norm\n",
    "\n",
    "def SchFourNorm(A):\n",
    "    list = (A**2).eigenvalues()\n",
    "    list2 = []\n",
    "    for i in list:\n",
    "        list2.append(abs(i))\n",
    "    return (sum(list2))"
   ]
  },
  {
   "cell_type": "code",
   "execution_count": 109,
   "id": "1ef10fd1",
   "metadata": {},
   "outputs": [
    {
     "name": "stdout",
     "output_type": "stream",
     "text": [
      "U_R_16 1\n",
      "U_R_15 9\n",
      "U_G_14 1\n",
      "U_R_24 1\n",
      "U_G_25 1\n",
      "U_R_26 1\n",
      "U_R_34 1\n",
      "U_R_35 1\n",
      "U_G_36 1\n"
     ]
    }
   ],
   "source": [
    "# compute schatten 4-norm of rearrangments of U'\n",
    "\n",
    "for i in range(0,9):\n",
    "    print(rearr_str[i], ((SchFourNorm(U_prime_reordered[i]*U_prime_reordered[i].transpose())))/27)\n",
    "    "
   ]
  },
  {
   "cell_type": "code",
   "execution_count": 118,
   "id": "d7a10d0a",
   "metadata": {},
   "outputs": [
    {
     "data": {
      "text/plain": [
       "27.00000000000000?"
      ]
     },
     "execution_count": 118,
     "metadata": {},
     "output_type": "execute_result"
    }
   ],
   "source": [
    "# compute Schatten 4-norm of U' itself\n",
    "\n",
    "SchFourNorm(U_prime)"
   ]
  },
  {
   "cell_type": "code",
   "execution_count": 110,
   "id": "6d2b27e4",
   "metadata": {},
   "outputs": [],
   "source": [
    "# define function that computes schatten 4-norm\n",
    "\n",
    "def SchTwoNorm(A):\n",
    "    list = []\n",
    "    l = A.eigenvalues()\n",
    "    for i in l:\n",
    "        list.append(abs(i))\n",
    "    return sum(list)"
   ]
  },
  {
   "cell_type": "code",
   "execution_count": 111,
   "id": "1331cf3a",
   "metadata": {},
   "outputs": [
    {
     "name": "stdout",
     "output_type": "stream",
     "text": [
      "U_R_16 1\n",
      "U_R_15 1\n",
      "U_G_14 1\n",
      "U_R_24 1\n",
      "U_G_25 1\n",
      "U_R_26 1\n",
      "U_R_34 1\n",
      "U_R_35 1\n",
      "U_G_36 1\n"
     ]
    }
   ],
   "source": [
    "# compute schatten 2-norms of rearrengments of U'\n",
    "\n",
    "for i in range(0,9):\n",
    "            print(rearr_str[i], ((SchTwoNorm(U_prime_reordered[i]*U_prime_reordered[i].transpose()))**2)/(27**2))\n",
    "    "
   ]
  },
  {
   "cell_type": "code",
   "execution_count": 117,
   "id": "89026486",
   "metadata": {},
   "outputs": [
    {
     "data": {
      "text/plain": [
       "27.00000000000000?"
      ]
     },
     "execution_count": 117,
     "metadata": {},
     "output_type": "execute_result"
    }
   ],
   "source": [
    "# compute Schatten 2-norm of U' itself\n",
    "\n",
    "SchTwoNorm(U_prime)"
   ]
  },
  {
   "cell_type": "code",
   "execution_count": null,
   "id": "79c4b007",
   "metadata": {},
   "outputs": [],
   "source": []
  },
  {
   "cell_type": "code",
   "execution_count": null,
   "id": "a5119b3d",
   "metadata": {},
   "outputs": [],
   "source": []
  }
 ],
 "metadata": {
  "kernelspec": {
   "display_name": "SageMath 10.0.beta5",
   "language": "sage",
   "name": "sagemath"
  },
  "language_info": {
   "codemirror_mode": {
    "name": "ipython",
    "version": 3
   },
   "file_extension": ".py",
   "mimetype": "text/x-python",
   "name": "python",
   "nbconvert_exporter": "python",
   "pygments_lexer": "ipython3",
   "version": "3.9.1"
  }
 },
 "nbformat": 4,
 "nbformat_minor": 5
}
