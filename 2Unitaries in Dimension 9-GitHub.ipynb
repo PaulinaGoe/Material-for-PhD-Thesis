{
 "cells": [
  {
   "cell_type": "code",
   "execution_count": 1,
   "id": "8e640f60",
   "metadata": {},
   "outputs": [],
   "source": [
    "import numpy as np"
   ]
  },
  {
   "cell_type": "markdown",
   "id": "b83bf830",
   "metadata": {},
   "source": [
    "Define base field and matrix spaces:"
   ]
  },
  {
   "cell_type": "code",
   "execution_count": 2,
   "id": "18580dbb",
   "metadata": {},
   "outputs": [
    {
     "data": {
      "text/plain": [
       "True"
      ]
     },
     "execution_count": 2,
     "metadata": {},
     "output_type": "execute_result"
    }
   ],
   "source": [
    "K.<w> = CyclotomicField(3)\n",
    "\n",
    "M3= MatrixSpace(K, 3,3)\n",
    "M9= MatrixSpace(K, 9,9)\n",
    "V9= MatrixSpace(K, 1,9)\n",
    "\n",
    "w**3 == 1"
   ]
  },
  {
   "cell_type": "markdown",
   "id": "6cbbff6b",
   "metadata": {},
   "source": [
    "Define Weyl Heisenberg basis in $d=3$:"
   ]
  },
  {
   "cell_type": "code",
   "execution_count": 3,
   "id": "fffed15d",
   "metadata": {},
   "outputs": [
    {
     "data": {
      "text/plain": [
       "'S W^2'"
      ]
     },
     "execution_count": 3,
     "metadata": {},
     "output_type": "execute_result"
    }
   ],
   "source": [
    "# Define matrices S (also denoted by X) and W (also denoted by Z)\n",
    "\n",
    "\n",
    "S = M3([[0,0,1],[1,0,0], [0,1,0]])\n",
    "W = M3([[w**3,0,0],[0, w,0],[0,0, w**2]])\n",
    "Id3 = M3(identity_matrix(3))\n",
    "Id9 = M9(identity_matrix(9))\n",
    "Sinv = S**2\n",
    "Winv = W**2\n",
    "\n",
    "# Define basis as list and a correpsonding dictionary\n",
    "\n",
    "Basis = [Id3, S, W, S**2, W**2, S*W, (S**2)*(W**2), (S**2)*W, S*(W**2)]\n",
    "\n",
    "Basis_dic = {0 : \"Id3\", 1 : \"S\", 2 : \"W\", 3 : \"S^2\", 4 : \"W^2\", 5 : \"SW\", 6 : \"S^2 W^2\", 7 : \"S^2 W\", 8 : \"S W^2\" }\n",
    "\n",
    "Basis_dic[8]"
   ]
  },
  {
   "cell_type": "code",
   "execution_count": null,
   "id": "b15e7bad",
   "metadata": {},
   "outputs": [],
   "source": []
  },
  {
   "cell_type": "markdown",
   "id": "a2d87478",
   "metadata": {},
   "source": [
    "Define the qutrit basis vectors as a function that takes as input an integer $i$ and outputs $| i \\rangle$ as a numpy array:"
   ]
  },
  {
   "cell_type": "code",
   "execution_count": 4,
   "id": "32f49d1f",
   "metadata": {},
   "outputs": [
    {
     "data": {
      "text/plain": [
       "(1.0, 0.0, 0.0)"
      ]
     },
     "execution_count": 4,
     "metadata": {},
     "output_type": "execute_result"
    }
   ],
   "source": [
    "def unitV(i):\n",
    "    vec = np.zeros(3)\n",
    "    for l in range(0,3):\n",
    "        if l == i:\n",
    "            vec[l] = 1\n",
    "    return vec\n",
    "\n",
    "# Test \n",
    "\n",
    "vector(unitV(0))"
   ]
  },
  {
   "cell_type": "markdown",
   "id": "1701974b",
   "metadata": {},
   "source": [
    "Define the Fourier in dimension 3 and the CNOT gate:"
   ]
  },
  {
   "cell_type": "code",
   "execution_count": 5,
   "id": "1fb097e8",
   "metadata": {},
   "outputs": [],
   "source": [
    "# Fourier gate\n",
    "\n",
    "F3 = M3([[1,1,1], [1,w,w**2], [1,w**2, w**4]])\n",
    "\n",
    "\n",
    "# CNOT gate\n",
    "\n",
    "L = []\n",
    "for i in range(0,3):\n",
    "    L.append(M3(vector(unitV(i)).tensor_product(vector(unitV(i)))).tensor_product(matrix(S**i)))\n",
    "\n",
    "CNOT = matrix(sum(L))\n"
   ]
  },
  {
   "cell_type": "markdown",
   "id": "47a5b943",
   "metadata": {},
   "source": [
    "Define a function that takes as input two subalgebras represented as lists of elements and checks if these subalgebras are quasi-orthogonal. In this case the function outputs true, otherwise it outputs false."
   ]
  },
  {
   "cell_type": "code",
   "execution_count": 6,
   "id": "6e0aa916",
   "metadata": {},
   "outputs": [],
   "source": [
    "def is_quasi_orth(A,B):\n",
    "    for V in A:\n",
    "            for W in B:\n",
    "                K = V*W\n",
    "                if (K.trace())/(K.nrows()) != ((V.trace())*(W.trace()))/((V.nrows())*(W.nrows())):\n",
    "                    return false\n",
    "    return true\n"
   ]
  },
  {
   "cell_type": "markdown",
   "id": "e7f0cdfd",
   "metadata": {},
   "source": [
    "Now define a function that checks if a subalgebra is delocalised by taking as input a subalgebra $A$ and a list of local subalgebras and checks if $A$ is quasi-orhtogonal to each local subalgebra. The function outputs true, if this is the case and false otherwise."
   ]
  },
  {
   "cell_type": "code",
   "execution_count": 7,
   "id": "651b80dd",
   "metadata": {},
   "outputs": [],
   "source": [
    "def is_delocalised(A,List):\n",
    "    for B in List:\n",
    "        if is_quasi_orth(A,B) != true:\n",
    "            return false\n",
    "    return true\n"
   ]
  },
  {
   "cell_type": "markdown",
   "id": "600fe536",
   "metadata": {},
   "source": [
    "Define a function that computes the reshuffle of a matrix:"
   ]
  },
  {
   "cell_type": "code",
   "execution_count": 8,
   "id": "21ffeb5e",
   "metadata": {},
   "outputs": [],
   "source": [
    "def matrix_reshuffle(M):\n",
    "    matrix_reshaped = np.array(M).reshape((3,3,3,3))\n",
    "    return matrix(np.array([[[[matrix_reshaped[l,j,k,i] for i in range(0,3)] for j in range(0,3)] for k in range(0,3)] for l in range(0,3)]).reshape((9,9)))\n"
   ]
  },
  {
   "cell_type": "markdown",
   "id": "9f9c0116",
   "metadata": {},
   "source": [
    "Define a function that checks if a matrix is dual unitary:"
   ]
  },
  {
   "cell_type": "code",
   "execution_count": 9,
   "id": "b285f90b",
   "metadata": {},
   "outputs": [],
   "source": [
    "def is_dual_unitary(M):\n",
    "    return matrix_reshuffle(M).is_unitary()"
   ]
  },
  {
   "cell_type": "markdown",
   "id": "8101979a",
   "metadata": {},
   "source": [
    "Define a function that computes the partial transpose of a matrix:"
   ]
  },
  {
   "cell_type": "code",
   "execution_count": 10,
   "id": "6864b51f",
   "metadata": {},
   "outputs": [],
   "source": [
    "def matrix_partial_transpose(M):\n",
    "    matrix_reshaped = np.array(M).reshape((3,3,3,3))\n",
    "    return matrix(np.array([[[[matrix_reshaped[k,j,i,l] for i in range(0,3)] for j in range(0,3)] for k in range(0,3)] for l in range(0,3)]).reshape((9,9)))\n"
   ]
  },
  {
   "cell_type": "markdown",
   "id": "fc7b8143",
   "metadata": {},
   "source": [
    "Define a function that checks if a matrix is $\\Gamma$-dual unitary:"
   ]
  },
  {
   "cell_type": "code",
   "execution_count": 11,
   "id": "998b6188",
   "metadata": {},
   "outputs": [],
   "source": [
    "def is_gamma_dual_unitary(M):\n",
    "    return matrix_partial_transpose(M).is_unitary()"
   ]
  },
  {
   "cell_type": "markdown",
   "id": "ea3ca967",
   "metadata": {},
   "source": [
    "Define function thats checks 2-unitarity by checking if matrix itself, dual and gamma dual matrices are unitary:"
   ]
  },
  {
   "cell_type": "code",
   "execution_count": 12,
   "id": "92c58c7a",
   "metadata": {},
   "outputs": [],
   "source": [
    "def is_2unitary(M):\n",
    "    return (M.is_unitary() and is_dual_unitary(M) and is_gamma_dual_unitary(M))"
   ]
  },
  {
   "cell_type": "markdown",
   "id": "9c63a44d",
   "metadata": {},
   "source": [
    "II. Matrices\n",
    "\n",
    "In this section the relevant unitaries will be defined, their orders will be computed and it will be confirmed that they are indeed 2-unitary."
   ]
  },
  {
   "cell_type": "markdown",
   "id": "2d0f3dcc",
   "metadata": {},
   "source": [
    "$U_{OLS}$ is the 2-unitary permutation matrix that is obtained from an OLS in normal form:"
   ]
  },
  {
   "cell_type": "code",
   "execution_count": 13,
   "id": "edeaa4cf",
   "metadata": {},
   "outputs": [
    {
     "data": {
      "text/plain": [
       "array([1., 0., 0., 0., 0., 0., 0., 0., 0.])"
      ]
     },
     "execution_count": 13,
     "metadata": {},
     "output_type": "execute_result"
    }
   ],
   "source": [
    "np.kron(unitV(0), unitV(0))"
   ]
  },
  {
   "cell_type": "code",
   "execution_count": 14,
   "id": "715c2d15",
   "metadata": {},
   "outputs": [
    {
     "data": {
      "text/plain": [
       "[1 0 0 0 1 0 0 0 1]"
      ]
     },
     "execution_count": 14,
     "metadata": {},
     "output_type": "execute_result"
    }
   ],
   "source": [
    "def Bell_basis(d):\n",
    "    K.<w> = CyclotomicField(d)\n",
    "    V = MatrixSpace(K, 1, d**2)\n",
    "    L = []\n",
    "    for i in range(0,d):\n",
    "            L.append(vector(np.kron(unitV(i),unitV(i))))\n",
    "    return V(sum(L))\n",
    "\n",
    "Bell_basis(3)\n"
   ]
  },
  {
   "cell_type": "code",
   "execution_count": 15,
   "id": "7e6f5fcf",
   "metadata": {},
   "outputs": [],
   "source": [
    "U_OLS = M9(np.array([np.kron(unitV(0), unitV(0)), np.kron(unitV(1), unitV(1)),np.kron(unitV(2), unitV(2)), np.kron(unitV(2), unitV(1)),np.kron(unitV(0), unitV(2)),np.kron(unitV(1), unitV(0)), np.kron(unitV(1), unitV(2)),np.kron(unitV(2), unitV(0)), np.kron(unitV(0), unitV(1))]))"
   ]
  },
  {
   "cell_type": "code",
   "execution_count": 16,
   "id": "08a96293",
   "metadata": {},
   "outputs": [
    {
     "data": {
      "text/plain": [
       "True"
      ]
     },
     "execution_count": 16,
     "metadata": {},
     "output_type": "execute_result"
    }
   ],
   "source": [
    "# check 2-unitarity\n",
    "\n",
    "is_2unitary(U_OLS)"
   ]
  },
  {
   "cell_type": "markdown",
   "id": "8278b74a",
   "metadata": {},
   "source": [
    "$U_{\\Lambda}$ is the 2-unitary Hadamard matrix obtained from the doubly perfect sequence $\\Lambda (a,b) = \\omega_3^{a^2 + b^2}$:"
   ]
  },
  {
   "cell_type": "code",
   "execution_count": 17,
   "id": "a7ce5ccb",
   "metadata": {},
   "outputs": [],
   "source": [
    "U_Lambda = M9([[-2/3*w - 1/3    ,        0       ,     0      ,      0 , 1/3*w + 2/3    ,        0      ,      0,0 , 1/3*w + 2/3],\n",
    "[           0 , 1/3*w - 1/3      ,      0      ,      0       ,     0 ,-2/3*w - 1/3, -2/3*w - 1/3   ,         0       ,     0],\n",
    "[           0     ,       0 , 1/3*w - 1/3 ,-2/3*w - 1/3     ,       0     ,       0   ,         0 ,-2/3*w - 1/3      ,      0],\n",
    "[           0      ,      0 ,-2/3*w - 1/3  ,1/3*w - 1/3      ,      0      ,      0    ,        0 ,-2/3*w - 1/3       ,     0],\n",
    "[ 1/3*w + 2/3     ,       0      ,      0    ,        0 ,-2/3*w - 1/3     ,       0       ,     0    ,        0  ,1/3*w + 2/3],\n",
    "[           0 ,-2/3*w - 1/3      ,      0    ,        0 ,           0  ,1/3*w - 1/3 ,-2/3*w - 1/3   ,         0 ,           0],\n",
    "[           0 ,-2/3*w - 1/3       ,     0     ,       0  ,          0 ,-2/3*w - 1/3  ,1/3*w - 1/3    ,        0  ,          0],\n",
    "[           0   ,         0 ,-2/3*w - 1/3 ,-2/3*w - 1/3       ,     0    ,        0    ,        0  ,1/3*w - 1/3    ,        0],\n",
    "[ 1/3*w + 2/3    ,        0      ,      0  ,          0  ,1/3*w + 2/3    ,        0    ,        0  ,          0 ,-2/3*w - 1/3]])"
   ]
  },
  {
   "cell_type": "code",
   "execution_count": 18,
   "id": "bbc6ab7b",
   "metadata": {},
   "outputs": [
    {
     "data": {
      "text/plain": [
       "True"
      ]
     },
     "execution_count": 18,
     "metadata": {},
     "output_type": "execute_result"
    }
   ],
   "source": [
    "# check 2-unitarity\n",
    "\n",
    "is_2unitary(U_Lambda)"
   ]
  },
  {
   "cell_type": "code",
   "execution_count": 19,
   "id": "62696680",
   "metadata": {},
   "outputs": [
    {
     "data": {
      "text/plain": [
       "[1 0 0 0 0 0 0 0 0]\n",
       "[0 1 0 0 0 0 0 0 0]\n",
       "[0 0 1 0 0 0 0 0 0]\n",
       "[0 0 0 1 0 0 0 0 0]\n",
       "[0 0 0 0 1 0 0 0 0]\n",
       "[0 0 0 0 0 1 0 0 0]\n",
       "[0 0 0 0 0 0 1 0 0]\n",
       "[0 0 0 0 0 0 0 1 0]\n",
       "[0 0 0 0 0 0 0 0 1]"
      ]
     },
     "execution_count": 19,
     "metadata": {},
     "output_type": "execute_result"
    }
   ],
   "source": [
    "# order 3\n",
    "\n",
    "U_Lambda**3"
   ]
  },
  {
   "cell_type": "markdown",
   "id": "35ff9d5f",
   "metadata": {},
   "source": [
    "$U_{CHM}$ is the 2-unitary Hadamard matrix taken from https://arxiv.org/pdf/1506.08857:"
   ]
  },
  {
   "cell_type": "code",
   "execution_count": 20,
   "id": "3264b72d",
   "metadata": {},
   "outputs": [],
   "source": [
    "#U_CHM = (1/3)*M9([[1,1,1,1,w**2,w,1,w,w**2],[1,1,1,w,1,w**2,w**2,1,w],[1,1,1,w**2,w,1,w,w**2,1],[1,w,w**2,1,1,1,1,w**2,w],\n",
    "        #[w,w**2,1,w**2,w**2,w**2,1,w**2,w], [w**2,1,w,w,w,w,1,w**2,w], [1,w**2,w,1,w,w**2,1,1,1], \n",
    "        #[w**2,w,1,1,w,w**2,w,w,w],[w,1,w**2,1,w,w**2,w**2,w**2,w**2]])\n",
    "        \n",
    "U_CHM = (1/3)*M9([[1,1,1,1,w,w**2,1,w**2,w],[1,1,1,w**2,1,w,w,1,w**2],[1,1,1,w,w**2,1,w**2,w,1],\n",
    "                  [1,w,w**2,1,w**2,w,1,1,1],\n",
    "        [w,w**2,1,1,w**2,w,w**2,w**2,w**2], [w**2,1,w,1,w**2,w,w,w,w], [1,w**2,w,1,1,1,1,w,w**2], \n",
    "        [w**2,w,1,w,w,w,1,w,w**2],[w,1,w**2,w**2,w**2,w**2,1,w,w**2]])\n"
   ]
  },
  {
   "cell_type": "code",
   "execution_count": 21,
   "id": "a26f410a",
   "metadata": {},
   "outputs": [
    {
     "data": {
      "text/plain": [
       "True"
      ]
     },
     "execution_count": 21,
     "metadata": {},
     "output_type": "execute_result"
    }
   ],
   "source": [
    "# test 2-unitarity\n",
    "\n",
    "is_2unitary(U_CHM)\n",
    "\n",
    "#same quasi-orthogonal subalgebras as Goyeneches Matrix (C_2,0 and C_1,0)"
   ]
  },
  {
   "cell_type": "code",
   "execution_count": 22,
   "id": "d3326888",
   "metadata": {},
   "outputs": [
    {
     "data": {
      "text/plain": [
       "[1 0 0 0 0 0 0 0 0]\n",
       "[0 0 1 0 0 0 0 0 0]\n",
       "[0 1 0 0 0 0 0 0 0]\n",
       "[0 0 0 0 0 0 1 0 0]\n",
       "[0 0 0 0 0 0 0 0 1]\n",
       "[0 0 0 0 0 0 0 1 0]\n",
       "[0 0 0 1 0 0 0 0 0]\n",
       "[0 0 0 0 0 1 0 0 0]\n",
       "[0 0 0 0 1 0 0 0 0]"
      ]
     },
     "execution_count": 22,
     "metadata": {},
     "output_type": "execute_result"
    }
   ],
   "source": [
    "# order 4\n",
    "\n",
    "U_CHM**4"
   ]
  },
  {
   "cell_type": "markdown",
   "id": "c6b7159c",
   "metadata": {},
   "source": [
    "$U_{\\Lambda_{CHM}}$ is the Hadamard matrix obtained from the doubly perfect sequence $\\Lambda (a_1,a_2,b_1, b_2) = \\omega^{a_1 a_2} \\omega^{(a_1 - b_1)^2 + (a_2 - b_2)^2} \\omega^{-b_1 b2} $"
   ]
  },
  {
   "cell_type": "code",
   "execution_count": 23,
   "id": "b9878176",
   "metadata": {},
   "outputs": [],
   "source": [
    "H = [[[[(w**(a1*a2))*(w**((a1-b1)**2 + (a2-b2)**2))*(w**(-b1*b2)) for a1 in range(0,3)] for a2 in range(0,3)] for b1 in range(0,3)] for b2 in range(0,3)]\n",
    "\n",
    "\n",
    "U_LambdaCHM = (1/3)*matrix(np.array(H).reshape((9,9)))\n",
    "           \n",
    "# C1,2 and C2,2\n",
    "        "
   ]
  },
  {
   "cell_type": "code",
   "execution_count": 24,
   "id": "1d3b95fc",
   "metadata": {},
   "outputs": [
    {
     "data": {
      "text/plain": [
       "True"
      ]
     },
     "execution_count": 24,
     "metadata": {},
     "output_type": "execute_result"
    }
   ],
   "source": [
    "# check 2-unitarity\n",
    "\n",
    "is_2unitary(U_LambdaCHM)"
   ]
  },
  {
   "cell_type": "code",
   "execution_count": 25,
   "id": "8f2264b5",
   "metadata": {},
   "outputs": [
    {
     "data": {
      "text/plain": [
       "[1 0 0 0 0 0 0 0 0]\n",
       "[0 1 0 0 0 0 0 0 0]\n",
       "[0 0 1 0 0 0 0 0 0]\n",
       "[0 0 0 1 0 0 0 0 0]\n",
       "[0 0 0 0 1 0 0 0 0]\n",
       "[0 0 0 0 0 1 0 0 0]\n",
       "[0 0 0 0 0 0 1 0 0]\n",
       "[0 0 0 0 0 0 0 1 0]\n",
       "[0 0 0 0 0 0 0 0 1]"
      ]
     },
     "execution_count": 25,
     "metadata": {},
     "output_type": "execute_result"
    }
   ],
   "source": [
    "# order 6\n",
    "\n",
    "U_LambdaCHM**6\n"
   ]
  },
  {
   "cell_type": "code",
   "execution_count": 26,
   "id": "12015c59",
   "metadata": {},
   "outputs": [
    {
     "data": {
      "text/plain": [
       "1"
      ]
     },
     "execution_count": 26,
     "metadata": {},
     "output_type": "execute_result"
    }
   ],
   "source": [
    "# traces\n",
    "\n",
    "U_OLS.trace()"
   ]
  },
  {
   "cell_type": "code",
   "execution_count": 27,
   "id": "df3243ff",
   "metadata": {},
   "outputs": [
    {
     "data": {
      "text/plain": [
       "-3"
      ]
     },
     "execution_count": 27,
     "metadata": {},
     "output_type": "execute_result"
    }
   ],
   "source": [
    "U_Lambda.trace()"
   ]
  },
  {
   "cell_type": "code",
   "execution_count": 28,
   "id": "9a28b24d",
   "metadata": {},
   "outputs": [
    {
     "data": {
      "text/plain": [
       "3"
      ]
     },
     "execution_count": 28,
     "metadata": {},
     "output_type": "execute_result"
    }
   ],
   "source": [
    "U_LambdaCHM.trace()"
   ]
  },
  {
   "cell_type": "code",
   "execution_count": 29,
   "id": "bf7e867e",
   "metadata": {},
   "outputs": [
    {
     "data": {
      "text/plain": [
       "1"
      ]
     },
     "execution_count": 29,
     "metadata": {},
     "output_type": "execute_result"
    }
   ],
   "source": [
    "U_CHM.trace()"
   ]
  },
  {
   "cell_type": "markdown",
   "id": "d8b377a0",
   "metadata": {},
   "source": [
    "III. Quantum Orthogonal Latin Squares\n",
    "\n",
    "In this section the unitaries from II. will be used to construct quantum orthogonal Latin squares.\n",
    "\n"
   ]
  },
  {
   "cell_type": "markdown",
   "id": "e473d4d1",
   "metadata": {},
   "source": [
    "Define a function that checks if a unitary defines a QOLS:"
   ]
  },
  {
   "cell_type": "code",
   "execution_count": 29,
   "id": "e976df19",
   "metadata": {},
   "outputs": [
    {
     "data": {
      "text/plain": [
       "True"
      ]
     },
     "execution_count": 29,
     "metadata": {},
     "output_type": "execute_result"
    }
   ],
   "source": [
    "def is_QOLS(U):\n",
    "        List = []\n",
    "        for i in range(0,9):\n",
    "            for j in range(0,9):\n",
    "                List.append(U*M9(np.outer(np.kron(unitV(i),unitV(j)),np.kron(unitV(i),unitV(j))))*U.conjugate_transpose())\n",
    "        return matrix(sum(List)) == Id9\n",
    "\n",
    "# test\n",
    "\n",
    "is_QOLS(U_OLS)\n"
   ]
  },
  {
   "cell_type": "code",
   "execution_count": 30,
   "id": "ae18ebd0",
   "metadata": {},
   "outputs": [
    {
     "data": {
      "text/plain": [
       "True"
      ]
     },
     "execution_count": 30,
     "metadata": {},
     "output_type": "execute_result"
    }
   ],
   "source": [
    "is_QOLS(U_Lambda)"
   ]
  },
  {
   "cell_type": "code",
   "execution_count": 31,
   "id": "2513c495",
   "metadata": {},
   "outputs": [
    {
     "data": {
      "text/plain": [
       "True"
      ]
     },
     "execution_count": 31,
     "metadata": {},
     "output_type": "execute_result"
    }
   ],
   "source": [
    "is_QOLS(U_LambdaCHM)"
   ]
  },
  {
   "cell_type": "code",
   "execution_count": 32,
   "id": "ccede63c",
   "metadata": {},
   "outputs": [
    {
     "data": {
      "text/plain": [
       "True"
      ]
     },
     "execution_count": 32,
     "metadata": {},
     "output_type": "execute_result"
    }
   ],
   "source": [
    "is_QOLS(U_CHM)"
   ]
  },
  {
   "cell_type": "markdown",
   "id": "bcd18b2f",
   "metadata": {},
   "source": [
    "Define a function that computes a quantum orthogonal Latin square by taking as input a matrix $U$ and outputting a list of vectors that form a QLS:"
   ]
  },
  {
   "cell_type": "code",
   "execution_count": 33,
   "id": "fc4aefb0",
   "metadata": {},
   "outputs": [
    {
     "data": {
      "text/plain": [
       "[[1 0 0 0 0 0 0 0 0],\n",
       " [0 0 0 0 0 0 0 0 1],\n",
       " [0 0 0 0 1 0 0 0 0],\n",
       " [0 0 0 0 0 1 0 0 0],\n",
       " [0 1 0 0 0 0 0 0 0],\n",
       " [0 0 0 0 0 0 1 0 0],\n",
       " [0 0 0 0 0 0 0 1 0],\n",
       " [0 0 0 1 0 0 0 0 0],\n",
       " [0 0 1 0 0 0 0 0 0]]"
      ]
     },
     "execution_count": 33,
     "metadata": {},
     "output_type": "execute_result"
    }
   ],
   "source": [
    " def QOLS(M):\n",
    "    output = []\n",
    "    for i in range(0,3):\n",
    "        for j in range(0,3):\n",
    "            output.append((M*V9(vector(np.kron(unitV(i),unitV(j)))).transpose()).transpose())\n",
    "    return output\n",
    "\n",
    "# test\n",
    "\n",
    "QOLS(U_OLS)"
   ]
  },
  {
   "cell_type": "markdown",
   "id": "175f6aa3",
   "metadata": {},
   "source": [
    "IV. Quasi-orthogonal Subalgebras\n",
    "\n",
    "In this section the local subalgebras will be defined and the matrices from II. will be used to construct delocalised subalgebras.\n",
    "\n",
    "Define left and right subalgebras as lists:"
   ]
  },
  {
   "cell_type": "code",
   "execution_count": 39,
   "id": "4959ca76",
   "metadata": {},
   "outputs": [],
   "source": [
    "L = [ M9(Basis[i].tensor_product(Id3)) for i in range(0,9) ]\n",
    "R = [ M9(Id3.tensor_product(Basis[i])) for i in range(0,9) ]\n",
    "\n",
    "# combine them in a list\n",
    "\n",
    "LocalSubal = [L,R]"
   ]
  },
  {
   "cell_type": "markdown",
   "id": "bb7c492d",
   "metadata": {},
   "source": [
    "Define the left and right subalgebras, $\\mathcal{L}$ adn $\\mathcal{R}$ respectively, conjugated by a unitary $U$ as functions that take as input a 2-unitary $U$ and output the algebras $\\mathcal{A}_L := U \\mathcal{L} U^\\dagger$ and $\\mathcal{A}_R := U \\mathcal{R} U^\\dagger$ as lists."
   ]
  },
  {
   "cell_type": "code",
   "execution_count": 40,
   "id": "9efc358c",
   "metadata": {},
   "outputs": [],
   "source": [
    "def AL(U):\n",
    "    return [M9(U*L[i]*U.conjugate_transpose()) for i in range(0,9)]\n",
    "\n",
    "def AR(U):\n",
    "    return [M9(U*R[i]*U.conjugate_transpose()) for i in range(0,9)]\n",
    "\n",
    "# define function that merges both subalgebras in a list\n",
    "\n",
    "def rotated_subal(U):\n",
    "    return [AL(U),AR(U)]\n",
    "\n"
   ]
  },
  {
   "cell_type": "code",
   "execution_count": 41,
   "id": "4cdeae3f",
   "metadata": {},
   "outputs": [
    {
     "name": "stdout",
     "output_type": "stream",
     "text": [
      "True\n",
      "True\n"
     ]
    }
   ],
   "source": [
    "# Test if all subalgebras are delocalised\n",
    "\n",
    "for A in rotated_subal(U_OLS):\n",
    "        print(is_delocalised(A, LocalSubal))\n",
    "  "
   ]
  },
  {
   "cell_type": "code",
   "execution_count": 42,
   "id": "d5e7df2e",
   "metadata": {},
   "outputs": [
    {
     "name": "stdout",
     "output_type": "stream",
     "text": [
      "True\n",
      "True\n"
     ]
    }
   ],
   "source": [
    "for A in rotated_subal(U_Lambda):\n",
    "        print(is_delocalised(A, LocalSubal))"
   ]
  },
  {
   "cell_type": "code",
   "execution_count": 43,
   "id": "0c1f628a",
   "metadata": {},
   "outputs": [
    {
     "name": "stdout",
     "output_type": "stream",
     "text": [
      "True\n",
      "True\n"
     ]
    }
   ],
   "source": [
    "for A in rotated_subal(U_CHM):\n",
    "        print(is_delocalised(A, LocalSubal))"
   ]
  },
  {
   "cell_type": "code",
   "execution_count": 44,
   "id": "0bef5b80",
   "metadata": {},
   "outputs": [
    {
     "name": "stdout",
     "output_type": "stream",
     "text": [
      "True\n",
      "True\n"
     ]
    }
   ],
   "source": [
    "for A in rotated_subal(U_LambdaCHM):\n",
    "        print(is_delocalised(A, LocalSubal))"
   ]
  },
  {
   "cell_type": "markdown",
   "id": "3267369f",
   "metadata": {},
   "source": [
    "VI. Explicit form of $\\mathcal{A}_L := U \\mathcal{L} U^\\dagger$ and $\\mathcal{A}_R := U \\mathcal{R} U^\\dagger$\n",
    "\n",
    "In the following code will be provided that can be used to calculate the explicit form of the delocalises subalgebras in terms of the tensor product of the operators $S$ and $Z$:"
   ]
  },
  {
   "cell_type": "code",
   "execution_count": 50,
   "id": "1e1952c4",
   "metadata": {},
   "outputs": [],
   "source": [
    "def AR_dic(U):\n",
    "    output_list = []\n",
    "    for M in AR(U):\n",
    "        for j in range(0,len(Basis)):\n",
    "            for k in range(0,len(Basis)):\n",
    "                for m in range(0,3):\n",
    "                    if M == (w**m)*Basis[j].tensor_product(Basis[k]):\n",
    "                        output_list.append([m,Basis_dic[j], Basis_dic[k]])\n",
    "    return output_list"
   ]
  },
  {
   "cell_type": "code",
   "execution_count": 51,
   "id": "e0e386b3",
   "metadata": {},
   "outputs": [],
   "source": [
    "def AL_dic(U):\n",
    "    output_list = []\n",
    "    for M in AL(U):\n",
    "        for j in range(0,len(Basis)):\n",
    "            for k in range(0,len(Basis)):\n",
    "                for m in range(0,3):\n",
    "                    if M == (w**m)*Basis[j].tensor_product(Basis[k]):\n",
    "                        output_list.append([m,Basis_dic[j], Basis_dic[k]])\n",
    "    return output_list"
   ]
  },
  {
   "cell_type": "code",
   "execution_count": 64,
   "id": "d6d06edc",
   "metadata": {},
   "outputs": [
    {
     "name": "stdout",
     "output_type": "stream",
     "text": [
      "1   Id3 x Id3 \n",
      "\n",
      "1   S^2 x S^2 \n",
      "\n",
      "1   W x W \n",
      "\n",
      "1   S x S \n",
      "\n",
      "1   W^2 x W^2 \n",
      "\n",
      "1   S^2 W x S^2 W \n",
      "\n",
      "1   S W^2 x S W^2 \n",
      "\n",
      "1   SW x SW \n",
      "\n",
      "1   S^2 W^2 x S^2 W^2 \n",
      "\n"
     ]
    }
   ],
   "source": [
    "# U_OLS\n",
    "\n",
    "for M in AR_dic(U_OLS):\n",
    "    print(w^M[0], \" \", M[1],\"x\", M[2], \"\\n\")"
   ]
  },
  {
   "cell_type": "code",
   "execution_count": 65,
   "id": "99769907",
   "metadata": {},
   "outputs": [
    {
     "name": "stdout",
     "output_type": "stream",
     "text": [
      "1   Id3 x Id3 \n",
      "\n",
      "1   S x S^2 \n",
      "\n",
      "1   W^2 x W \n",
      "\n",
      "1   S^2 x S \n",
      "\n",
      "1   W x W^2 \n",
      "\n",
      "1   S W^2 x S^2 W \n",
      "\n",
      "1   S^2 W x S W^2 \n",
      "\n",
      "1   S^2 W^2 x SW \n",
      "\n",
      "1   SW x S^2 W^2 \n",
      "\n"
     ]
    }
   ],
   "source": [
    "# U_OLS\n",
    "\n",
    "for M in AL_dic(U_OLS):\n",
    "    print(w^M[0], \" \", M[1],\"x\", M[2], \"\\n\")"
   ]
  },
  {
   "cell_type": "code",
   "execution_count": 70,
   "id": "3ad96c1d",
   "metadata": {},
   "outputs": [
    {
     "name": "stdout",
     "output_type": "stream",
     "text": [
      "1   Id3 x Id3 \n",
      "\n",
      "-w - 1   S^2 x SW \n",
      "\n",
      "w   W x S^2 W \n",
      "\n",
      "-w - 1   S x S^2 W^2 \n",
      "\n",
      "w   W^2 x S W^2 \n",
      "\n",
      "-w - 1   S^2 W x W^2 \n",
      "\n",
      "-w - 1   S W^2 x W \n",
      "\n",
      "w   SW x S \n",
      "\n",
      "w   S^2 W^2 x S^2 \n",
      "\n"
     ]
    }
   ],
   "source": [
    "# U_LambdaCHM\n",
    "\n",
    "for M in AR_dic(U_LambdaCHM):\n",
    "    print(w^M[0], \" \", M[1],\"x\", M[2], \"\\n\")"
   ]
  },
  {
   "cell_type": "code",
   "execution_count": 71,
   "id": "a964a13e",
   "metadata": {},
   "outputs": [
    {
     "name": "stdout",
     "output_type": "stream",
     "text": [
      "1   Id3 x Id3 \n",
      "\n",
      "-w - 1   SW x S^2 \n",
      "\n",
      "w   S^2 W x W \n",
      "\n",
      "-w - 1   S^2 W^2 x S \n",
      "\n",
      "w   S W^2 x W^2 \n",
      "\n",
      "-w - 1   W^2 x S^2 W \n",
      "\n",
      "-w - 1   W x S W^2 \n",
      "\n",
      "w   S x SW \n",
      "\n",
      "w   S^2 x S^2 W^2 \n",
      "\n"
     ]
    }
   ],
   "source": [
    "# U_LambdaCHM \n",
    "\n",
    "for M in AL_dic(U_LambdaCHM):\n",
    "    print(w^M[0], \" \", M[1],\"x\", M[2], \"\\n\")"
   ]
  },
  {
   "cell_type": "code",
   "execution_count": 72,
   "id": "4ea6c398",
   "metadata": {},
   "outputs": [
    {
     "name": "stdout",
     "output_type": "stream",
     "text": [
      "1   Id3 x Id3 \n",
      "\n",
      "-w - 1   W^2 x SW \n",
      "\n",
      "w   S^2 x S^2 W \n",
      "\n",
      "-w - 1   W x S^2 W^2 \n",
      "\n",
      "w   S x S W^2 \n",
      "\n",
      "1   S^2 W^2 x W^2 \n",
      "\n",
      "1   SW x W \n",
      "\n",
      "1   S^2 W x S \n",
      "\n",
      "1   S W^2 x S^2 \n",
      "\n"
     ]
    }
   ],
   "source": [
    "# U_Lambda\n",
    "\n",
    "for M in AR_dic(U_Lambda):\n",
    "    print(w^M[0], \" \", M[1],\"x\", M[2], \"\\n\")"
   ]
  },
  {
   "cell_type": "code",
   "execution_count": 73,
   "id": "98c28ef5",
   "metadata": {},
   "outputs": [
    {
     "name": "stdout",
     "output_type": "stream",
     "text": [
      "1   Id3 x Id3 \n",
      "\n",
      "-w - 1   SW x W^2 \n",
      "\n",
      "w   S^2 W x S^2 \n",
      "\n",
      "-w - 1   S^2 W^2 x W \n",
      "\n",
      "w   S W^2 x S \n",
      "\n",
      "1   W^2 x S^2 W^2 \n",
      "\n",
      "1   W x SW \n",
      "\n",
      "1   S x S^2 W \n",
      "\n",
      "1   S^2 x S W^2 \n",
      "\n"
     ]
    }
   ],
   "source": [
    "# U_Lambda\n",
    "\n",
    "for M in AL_dic(U_Lambda):\n",
    "    print(w^M[0], \" \", M[1],\"x\", M[2], \"\\n\")"
   ]
  },
  {
   "cell_type": "code",
   "execution_count": 74,
   "id": "b484221d",
   "metadata": {},
   "outputs": [
    {
     "name": "stdout",
     "output_type": "stream",
     "text": [
      "1   Id3 x Id3 \n",
      "\n",
      "1   W^2 x S \n",
      "\n",
      "1   S^2 x W^2 \n",
      "\n",
      "1   W x S^2 \n",
      "\n",
      "1   S x W \n",
      "\n",
      "w   S^2 W^2 x S W^2 \n",
      "\n",
      "w   SW x S^2 W \n",
      "\n",
      "-w - 1   S^2 W x S^2 W^2 \n",
      "\n",
      "-w - 1   S W^2 x SW \n",
      "\n"
     ]
    }
   ],
   "source": [
    "# U_CHM\n",
    "\n",
    "for M in AR_dic(U_CHM):\n",
    "    print(w^M[0], \" \", M[1],\"x\", M[2], \"\\n\")"
   ]
  },
  {
   "cell_type": "code",
   "execution_count": 75,
   "id": "7baa2dea",
   "metadata": {},
   "outputs": [
    {
     "name": "stdout",
     "output_type": "stream",
     "text": [
      "1   Id3 x Id3 \n",
      "\n",
      "1   S^2 x W \n",
      "\n",
      "1   W x S \n",
      "\n",
      "1   S x W^2 \n",
      "\n",
      "1   W^2 x S^2 \n",
      "\n",
      "w   S^2 W x SW \n",
      "\n",
      "w   S W^2 x S^2 W^2 \n",
      "\n",
      "-w - 1   SW x S W^2 \n",
      "\n",
      "-w - 1   S^2 W^2 x S^2 W \n",
      "\n"
     ]
    }
   ],
   "source": [
    "# U_CHM\n",
    "\n",
    "for M in AL_dic(U_CHM):\n",
    "    print(w^M[0], \" \", M[1],\"x\", M[2], \"\\n\")"
   ]
  },
  {
   "cell_type": "code",
   "execution_count": null,
   "id": "9b996cce",
   "metadata": {},
   "outputs": [],
   "source": []
  }
 ],
 "metadata": {
  "kernelspec": {
   "display_name": "SageMath 10.0.beta5",
   "language": "sage",
   "name": "sagemath"
  },
  "language_info": {
   "codemirror_mode": {
    "name": "ipython",
    "version": 3
   },
   "file_extension": ".py",
   "mimetype": "text/x-python",
   "name": "python",
   "nbconvert_exporter": "python",
   "pygments_lexer": "ipython3",
   "version": "3.9.1"
  }
 },
 "nbformat": 4,
 "nbformat_minor": 5
}
